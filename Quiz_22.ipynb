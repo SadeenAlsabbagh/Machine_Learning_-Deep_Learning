{
 "cells": [
  {
   "cell_type": "code",
   "execution_count": 2,
   "metadata": {
    "id": "fu2YMDoqDXJ0"
   },
   "outputs": [],
   "source": [
    "import numpy as np\n",
    "import pandas as pd\n",
    "from sklearn.preprocessing import LabelEncoder\n",
    "from sklearn.model_selection import train_test_split\n",
    "from sklearn.metrics import accuracy_score, confusion_matrix\n",
    "from tensorflow.keras.utils import to_categorical\n",
    "from tensorflow.keras.models import Sequential\n",
    "from tensorflow.keras.layers import Conv1D, MaxPooling1D, Flatten, Dense\n",
    "\n",
    "\n"
   ]
  },
  {
   "cell_type": "code",
   "execution_count": 4,
   "metadata": {
    "id": "8xmMe7Z2DrTq"
   },
   "outputs": [],
   "source": [
    "\n",
    "# Load the data from the CSV file\n",
    "df = pd.read_csv('/content/Kidney_data.csv')\n",
    "\n",
    "# Drop the rows with missing values\n",
    "df = df.dropna(axis=0)\n"
   ]
  },
  {
   "cell_type": "code",
   "execution_count": 5,
   "metadata": {
    "colab": {
     "base_uri": "https://localhost:8080/",
     "height": 300
    },
    "id": "2Dal131YDtdo",
    "outputId": "1495b7f9-ee2f-48f4-a7b7-2ab7ba6b39f5"
   },
   "outputs": [
    {
     "data": {
      "text/html": [
       "\n",
       "  <div id=\"df-90cc4f69-4821-4eff-a042-865b62a9b36f\">\n",
       "    <div class=\"colab-df-container\">\n",
       "      <div>\n",
       "<style scoped>\n",
       "    .dataframe tbody tr th:only-of-type {\n",
       "        vertical-align: middle;\n",
       "    }\n",
       "\n",
       "    .dataframe tbody tr th {\n",
       "        vertical-align: top;\n",
       "    }\n",
       "\n",
       "    .dataframe thead th {\n",
       "        text-align: right;\n",
       "    }\n",
       "</style>\n",
       "<table border=\"1\" class=\"dataframe\">\n",
       "  <thead>\n",
       "    <tr style=\"text-align: right;\">\n",
       "      <th></th>\n",
       "      <th>id</th>\n",
       "      <th>age</th>\n",
       "      <th>bp</th>\n",
       "      <th>sg</th>\n",
       "      <th>al</th>\n",
       "      <th>su</th>\n",
       "      <th>rbc</th>\n",
       "      <th>pc</th>\n",
       "      <th>pcc</th>\n",
       "      <th>ba</th>\n",
       "      <th>...</th>\n",
       "      <th>pcv</th>\n",
       "      <th>wc</th>\n",
       "      <th>rc</th>\n",
       "      <th>htn</th>\n",
       "      <th>dm</th>\n",
       "      <th>cad</th>\n",
       "      <th>appet</th>\n",
       "      <th>pe</th>\n",
       "      <th>ane</th>\n",
       "      <th>classification</th>\n",
       "    </tr>\n",
       "  </thead>\n",
       "  <tbody>\n",
       "    <tr>\n",
       "      <th>3</th>\n",
       "      <td>3</td>\n",
       "      <td>48.0</td>\n",
       "      <td>70.0</td>\n",
       "      <td>1.005</td>\n",
       "      <td>4.0</td>\n",
       "      <td>0.0</td>\n",
       "      <td>normal</td>\n",
       "      <td>abnormal</td>\n",
       "      <td>present</td>\n",
       "      <td>notpresent</td>\n",
       "      <td>...</td>\n",
       "      <td>32</td>\n",
       "      <td>6700</td>\n",
       "      <td>3.9</td>\n",
       "      <td>yes</td>\n",
       "      <td>no</td>\n",
       "      <td>no</td>\n",
       "      <td>poor</td>\n",
       "      <td>yes</td>\n",
       "      <td>yes</td>\n",
       "      <td>ckd</td>\n",
       "    </tr>\n",
       "    <tr>\n",
       "      <th>9</th>\n",
       "      <td>9</td>\n",
       "      <td>53.0</td>\n",
       "      <td>90.0</td>\n",
       "      <td>1.020</td>\n",
       "      <td>2.0</td>\n",
       "      <td>0.0</td>\n",
       "      <td>abnormal</td>\n",
       "      <td>abnormal</td>\n",
       "      <td>present</td>\n",
       "      <td>notpresent</td>\n",
       "      <td>...</td>\n",
       "      <td>29</td>\n",
       "      <td>12100</td>\n",
       "      <td>3.7</td>\n",
       "      <td>yes</td>\n",
       "      <td>yes</td>\n",
       "      <td>no</td>\n",
       "      <td>poor</td>\n",
       "      <td>no</td>\n",
       "      <td>yes</td>\n",
       "      <td>ckd</td>\n",
       "    </tr>\n",
       "    <tr>\n",
       "      <th>11</th>\n",
       "      <td>11</td>\n",
       "      <td>63.0</td>\n",
       "      <td>70.0</td>\n",
       "      <td>1.010</td>\n",
       "      <td>3.0</td>\n",
       "      <td>0.0</td>\n",
       "      <td>abnormal</td>\n",
       "      <td>abnormal</td>\n",
       "      <td>present</td>\n",
       "      <td>notpresent</td>\n",
       "      <td>...</td>\n",
       "      <td>32</td>\n",
       "      <td>4500</td>\n",
       "      <td>3.8</td>\n",
       "      <td>yes</td>\n",
       "      <td>yes</td>\n",
       "      <td>no</td>\n",
       "      <td>poor</td>\n",
       "      <td>yes</td>\n",
       "      <td>no</td>\n",
       "      <td>ckd</td>\n",
       "    </tr>\n",
       "    <tr>\n",
       "      <th>14</th>\n",
       "      <td>14</td>\n",
       "      <td>68.0</td>\n",
       "      <td>80.0</td>\n",
       "      <td>1.010</td>\n",
       "      <td>3.0</td>\n",
       "      <td>2.0</td>\n",
       "      <td>normal</td>\n",
       "      <td>abnormal</td>\n",
       "      <td>present</td>\n",
       "      <td>present</td>\n",
       "      <td>...</td>\n",
       "      <td>16</td>\n",
       "      <td>11000</td>\n",
       "      <td>2.6</td>\n",
       "      <td>yes</td>\n",
       "      <td>yes</td>\n",
       "      <td>yes</td>\n",
       "      <td>poor</td>\n",
       "      <td>yes</td>\n",
       "      <td>no</td>\n",
       "      <td>ckd</td>\n",
       "    </tr>\n",
       "    <tr>\n",
       "      <th>20</th>\n",
       "      <td>20</td>\n",
       "      <td>61.0</td>\n",
       "      <td>80.0</td>\n",
       "      <td>1.015</td>\n",
       "      <td>2.0</td>\n",
       "      <td>0.0</td>\n",
       "      <td>abnormal</td>\n",
       "      <td>abnormal</td>\n",
       "      <td>notpresent</td>\n",
       "      <td>notpresent</td>\n",
       "      <td>...</td>\n",
       "      <td>24</td>\n",
       "      <td>9200</td>\n",
       "      <td>3.2</td>\n",
       "      <td>yes</td>\n",
       "      <td>yes</td>\n",
       "      <td>yes</td>\n",
       "      <td>poor</td>\n",
       "      <td>yes</td>\n",
       "      <td>yes</td>\n",
       "      <td>ckd</td>\n",
       "    </tr>\n",
       "  </tbody>\n",
       "</table>\n",
       "<p>5 rows × 26 columns</p>\n",
       "</div>\n",
       "      <button class=\"colab-df-convert\" onclick=\"convertToInteractive('df-90cc4f69-4821-4eff-a042-865b62a9b36f')\"\n",
       "              title=\"Convert this dataframe to an interactive table.\"\n",
       "              style=\"display:none;\">\n",
       "        \n",
       "  <svg xmlns=\"http://www.w3.org/2000/svg\" height=\"24px\"viewBox=\"0 0 24 24\"\n",
       "       width=\"24px\">\n",
       "    <path d=\"M0 0h24v24H0V0z\" fill=\"none\"/>\n",
       "    <path d=\"M18.56 5.44l.94 2.06.94-2.06 2.06-.94-2.06-.94-.94-2.06-.94 2.06-2.06.94zm-11 1L8.5 8.5l.94-2.06 2.06-.94-2.06-.94L8.5 2.5l-.94 2.06-2.06.94zm10 10l.94 2.06.94-2.06 2.06-.94-2.06-.94-.94-2.06-.94 2.06-2.06.94z\"/><path d=\"M17.41 7.96l-1.37-1.37c-.4-.4-.92-.59-1.43-.59-.52 0-1.04.2-1.43.59L10.3 9.45l-7.72 7.72c-.78.78-.78 2.05 0 2.83L4 21.41c.39.39.9.59 1.41.59.51 0 1.02-.2 1.41-.59l7.78-7.78 2.81-2.81c.8-.78.8-2.07 0-2.86zM5.41 20L4 18.59l7.72-7.72 1.47 1.35L5.41 20z\"/>\n",
       "  </svg>\n",
       "      </button>\n",
       "      \n",
       "  <style>\n",
       "    .colab-df-container {\n",
       "      display:flex;\n",
       "      flex-wrap:wrap;\n",
       "      gap: 12px;\n",
       "    }\n",
       "\n",
       "    .colab-df-convert {\n",
       "      background-color: #E8F0FE;\n",
       "      border: none;\n",
       "      border-radius: 50%;\n",
       "      cursor: pointer;\n",
       "      display: none;\n",
       "      fill: #1967D2;\n",
       "      height: 32px;\n",
       "      padding: 0 0 0 0;\n",
       "      width: 32px;\n",
       "    }\n",
       "\n",
       "    .colab-df-convert:hover {\n",
       "      background-color: #E2EBFA;\n",
       "      box-shadow: 0px 1px 2px rgba(60, 64, 67, 0.3), 0px 1px 3px 1px rgba(60, 64, 67, 0.15);\n",
       "      fill: #174EA6;\n",
       "    }\n",
       "\n",
       "    [theme=dark] .colab-df-convert {\n",
       "      background-color: #3B4455;\n",
       "      fill: #D2E3FC;\n",
       "    }\n",
       "\n",
       "    [theme=dark] .colab-df-convert:hover {\n",
       "      background-color: #434B5C;\n",
       "      box-shadow: 0px 1px 3px 1px rgba(0, 0, 0, 0.15);\n",
       "      filter: drop-shadow(0px 1px 2px rgba(0, 0, 0, 0.3));\n",
       "      fill: #FFFFFF;\n",
       "    }\n",
       "  </style>\n",
       "\n",
       "      <script>\n",
       "        const buttonEl =\n",
       "          document.querySelector('#df-90cc4f69-4821-4eff-a042-865b62a9b36f button.colab-df-convert');\n",
       "        buttonEl.style.display =\n",
       "          google.colab.kernel.accessAllowed ? 'block' : 'none';\n",
       "\n",
       "        async function convertToInteractive(key) {\n",
       "          const element = document.querySelector('#df-90cc4f69-4821-4eff-a042-865b62a9b36f');\n",
       "          const dataTable =\n",
       "            await google.colab.kernel.invokeFunction('convertToInteractive',\n",
       "                                                     [key], {});\n",
       "          if (!dataTable) return;\n",
       "\n",
       "          const docLinkHtml = 'Like what you see? Visit the ' +\n",
       "            '<a target=\"_blank\" href=https://colab.research.google.com/notebooks/data_table.ipynb>data table notebook</a>'\n",
       "            + ' to learn more about interactive tables.';\n",
       "          element.innerHTML = '';\n",
       "          dataTable['output_type'] = 'display_data';\n",
       "          await google.colab.output.renderOutput(dataTable, element);\n",
       "          const docLink = document.createElement('div');\n",
       "          docLink.innerHTML = docLinkHtml;\n",
       "          element.appendChild(docLink);\n",
       "        }\n",
       "      </script>\n",
       "    </div>\n",
       "  </div>\n",
       "  "
      ],
      "text/plain": [
       "    id   age    bp     sg   al   su       rbc        pc         pcc  \\\n",
       "3    3  48.0  70.0  1.005  4.0  0.0    normal  abnormal     present   \n",
       "9    9  53.0  90.0  1.020  2.0  0.0  abnormal  abnormal     present   \n",
       "11  11  63.0  70.0  1.010  3.0  0.0  abnormal  abnormal     present   \n",
       "14  14  68.0  80.0  1.010  3.0  2.0    normal  abnormal     present   \n",
       "20  20  61.0  80.0  1.015  2.0  0.0  abnormal  abnormal  notpresent   \n",
       "\n",
       "            ba  ...  pcv     wc   rc  htn   dm  cad appet   pe  ane  \\\n",
       "3   notpresent  ...   32   6700  3.9  yes   no   no  poor  yes  yes   \n",
       "9   notpresent  ...   29  12100  3.7  yes  yes   no  poor   no  yes   \n",
       "11  notpresent  ...   32   4500  3.8  yes  yes   no  poor  yes   no   \n",
       "14     present  ...   16  11000  2.6  yes  yes  yes  poor  yes   no   \n",
       "20  notpresent  ...   24   9200  3.2  yes  yes  yes  poor  yes  yes   \n",
       "\n",
       "   classification  \n",
       "3             ckd  \n",
       "9             ckd  \n",
       "11            ckd  \n",
       "14            ckd  \n",
       "20            ckd  \n",
       "\n",
       "[5 rows x 26 columns]"
      ]
     },
     "execution_count": 5,
     "metadata": {},
     "output_type": "execute_result"
    }
   ],
   "source": [
    "df.shape\n",
    "df.head()"
   ]
  },
  {
   "cell_type": "code",
   "execution_count": 70,
   "metadata": {
    "colab": {
     "base_uri": "https://localhost:8080/"
    },
    "id": "eip8I7uzD3qO",
    "outputId": "763cb8a3-efe8-4be4-9133-3e66133e02d0"
   },
   "outputs": [
    {
     "name": "stdout",
     "output_type": "stream",
     "text": [
      "      id   age    bp     sg   al   su  rbc  pc  pcc  ba  ...  pcv  wc  rc  \\\n",
      "3      0  48.0  70.0  1.005  4.0  0.0    1   0    1   0  ...   11  42  14   \n",
      "9      1  53.0  90.0  1.020  2.0  0.0    0   0    1   0  ...    8  11  12   \n",
      "11     2  63.0  70.0  1.010  3.0  0.0    0   0    1   0  ...   11  25  13   \n",
      "14     3  68.0  80.0  1.010  3.0  2.0    1   0    1   1  ...    0   8   2   \n",
      "20     4  61.0  80.0  1.015  2.0  0.0    0   0    0   0  ...    4  63   7   \n",
      "..   ...   ...   ...    ...  ...  ...  ...  ..  ...  ..  ...  ...  ..  ..   \n",
      "395  153  55.0  80.0  1.020  0.0  0.0    1   1    0   0  ...   25  42  23   \n",
      "396  154  42.0  70.0  1.025  0.0  0.0    1   1    0   0  ...   32  52  36   \n",
      "397  155  12.0  80.0  1.020  0.0  0.0    1   1    0   0  ...   27  41  28   \n",
      "398  156  17.0  60.0  1.025  0.0  0.0    1   1    0   0  ...   29  47  33   \n",
      "399  157  58.0  80.0  1.025  0.0  0.0    1   1    0   0  ...   31  43  35   \n",
      "\n",
      "     htn  dm  cad  appet  pe  ane  classification  \n",
      "3      1   0    0      1   1    1               0  \n",
      "9      1   1    0      1   0    1               0  \n",
      "11     1   1    0      1   1    0               0  \n",
      "14     1   1    1      1   1    0               0  \n",
      "20     1   1    1      1   1    1               0  \n",
      "..   ...  ..  ...    ...  ..  ...             ...  \n",
      "395    0   0    0      0   0    0               1  \n",
      "396    0   0    0      0   0    0               1  \n",
      "397    0   0    0      0   0    0               1  \n",
      "398    0   0    0      0   0    0               1  \n",
      "399    0   0    0      0   0    0               1  \n",
      "\n",
      "[158 rows x 26 columns]\n"
     ]
    },
    {
     "name": "stderr",
     "output_type": "stream",
     "text": [
      "<ipython-input-70-cf55da055d12>:3: DeprecationWarning: Converting `np.inexact` or `np.floating` to a dtype is deprecated. The current result is `float64` which is not strictly correct.\n",
      "  if df[column].dtype==np.number:\n",
      "<ipython-input-70-cf55da055d12>:3: DeprecationWarning: Converting `np.inexact` or `np.floating` to a dtype is deprecated. The current result is `float64` which is not strictly correct.\n",
      "  if df[column].dtype==np.number:\n",
      "<ipython-input-70-cf55da055d12>:3: DeprecationWarning: Converting `np.inexact` or `np.floating` to a dtype is deprecated. The current result is `float64` which is not strictly correct.\n",
      "  if df[column].dtype==np.number:\n",
      "<ipython-input-70-cf55da055d12>:3: DeprecationWarning: Converting `np.inexact` or `np.floating` to a dtype is deprecated. The current result is `float64` which is not strictly correct.\n",
      "  if df[column].dtype==np.number:\n",
      "<ipython-input-70-cf55da055d12>:3: DeprecationWarning: Converting `np.inexact` or `np.floating` to a dtype is deprecated. The current result is `float64` which is not strictly correct.\n",
      "  if df[column].dtype==np.number:\n",
      "<ipython-input-70-cf55da055d12>:3: DeprecationWarning: Converting `np.inexact` or `np.floating` to a dtype is deprecated. The current result is `float64` which is not strictly correct.\n",
      "  if df[column].dtype==np.number:\n",
      "<ipython-input-70-cf55da055d12>:3: DeprecationWarning: Converting `np.inexact` or `np.floating` to a dtype is deprecated. The current result is `float64` which is not strictly correct.\n",
      "  if df[column].dtype==np.number:\n",
      "<ipython-input-70-cf55da055d12>:3: DeprecationWarning: Converting `np.inexact` or `np.floating` to a dtype is deprecated. The current result is `float64` which is not strictly correct.\n",
      "  if df[column].dtype==np.number:\n",
      "<ipython-input-70-cf55da055d12>:3: DeprecationWarning: Converting `np.inexact` or `np.floating` to a dtype is deprecated. The current result is `float64` which is not strictly correct.\n",
      "  if df[column].dtype==np.number:\n",
      "<ipython-input-70-cf55da055d12>:3: DeprecationWarning: Converting `np.inexact` or `np.floating` to a dtype is deprecated. The current result is `float64` which is not strictly correct.\n",
      "  if df[column].dtype==np.number:\n",
      "<ipython-input-70-cf55da055d12>:3: DeprecationWarning: Converting `np.inexact` or `np.floating` to a dtype is deprecated. The current result is `float64` which is not strictly correct.\n",
      "  if df[column].dtype==np.number:\n",
      "<ipython-input-70-cf55da055d12>:3: DeprecationWarning: Converting `np.inexact` or `np.floating` to a dtype is deprecated. The current result is `float64` which is not strictly correct.\n",
      "  if df[column].dtype==np.number:\n",
      "<ipython-input-70-cf55da055d12>:3: DeprecationWarning: Converting `np.inexact` or `np.floating` to a dtype is deprecated. The current result is `float64` which is not strictly correct.\n",
      "  if df[column].dtype==np.number:\n",
      "<ipython-input-70-cf55da055d12>:3: DeprecationWarning: Converting `np.inexact` or `np.floating` to a dtype is deprecated. The current result is `float64` which is not strictly correct.\n",
      "  if df[column].dtype==np.number:\n",
      "<ipython-input-70-cf55da055d12>:3: DeprecationWarning: Converting `np.inexact` or `np.floating` to a dtype is deprecated. The current result is `float64` which is not strictly correct.\n",
      "  if df[column].dtype==np.number:\n"
     ]
    }
   ],
   "source": [
    "#Transform the non numeric data in the columns\n",
    "for column in df.columns:\n",
    "  if df[column].dtype==np.number:\n",
    "    continue\n",
    "  else:\n",
    "    df[column]=LabelEncoder().fit_transform(df[column])\n",
    "print(df)"
   ]
  },
  {
   "cell_type": "code",
   "execution_count": 7,
   "metadata": {
    "colab": {
     "base_uri": "https://localhost:8080/"
    },
    "id": "H5WAcsp1EEnc",
    "outputId": "fef883fe-432c-47a3-8076-1bbfb86dda38"
   },
   "outputs": [
    {
     "name": "stdout",
     "output_type": "stream",
     "text": [
      "      id   age    bp     sg   al   su  rbc  pc  pcc  ba  ...  pcv  wc  rc  \\\n",
      "3      0  48.0  70.0  1.005  4.0  0.0    1   0    1   0  ...   11  42  14   \n",
      "9      1  53.0  90.0  1.020  2.0  0.0    0   0    1   0  ...    8  11  12   \n",
      "11     2  63.0  70.0  1.010  3.0  0.0    0   0    1   0  ...   11  25  13   \n",
      "14     3  68.0  80.0  1.010  3.0  2.0    1   0    1   1  ...    0   8   2   \n",
      "20     4  61.0  80.0  1.015  2.0  0.0    0   0    0   0  ...    4  63   7   \n",
      "..   ...   ...   ...    ...  ...  ...  ...  ..  ...  ..  ...  ...  ..  ..   \n",
      "395  153  55.0  80.0  1.020  0.0  0.0    1   1    0   0  ...   25  42  23   \n",
      "396  154  42.0  70.0  1.025  0.0  0.0    1   1    0   0  ...   32  52  36   \n",
      "397  155  12.0  80.0  1.020  0.0  0.0    1   1    0   0  ...   27  41  28   \n",
      "398  156  17.0  60.0  1.025  0.0  0.0    1   1    0   0  ...   29  47  33   \n",
      "399  157  58.0  80.0  1.025  0.0  0.0    1   1    0   0  ...   31  43  35   \n",
      "\n",
      "     htn  dm  cad  appet  pe  ane  classification  \n",
      "3      1   0    0      1   1    1               0  \n",
      "9      1   1    0      1   0    1               0  \n",
      "11     1   1    0      1   1    0               0  \n",
      "14     1   1    1      1   1    0               0  \n",
      "20     1   1    1      1   1    1               0  \n",
      "..   ...  ..  ...    ...  ..  ...             ...  \n",
      "395    0   0    0      0   0    0               1  \n",
      "396    0   0    0      0   0    0               1  \n",
      "397    0   0    0      0   0    0               1  \n",
      "398    0   0    0      0   0    0               1  \n",
      "399    0   0    0      0   0    0               1  \n",
      "\n",
      "[158 rows x 26 columns]\n"
     ]
    }
   ],
   "source": [
    "print(df)"
   ]
  },
  {
   "cell_type": "code",
   "execution_count": 8,
   "metadata": {
    "id": "wNpbrpFfEHbn"
   },
   "outputs": [],
   "source": [
    "#Split the  data into independent (X) dataset and independent (y) dataset\n",
    "X=df.drop(['classification'], axis=1).values\n",
    "y=df['classification']"
   ]
  },
  {
   "cell_type": "code",
   "execution_count": 9,
   "metadata": {
    "colab": {
     "base_uri": "https://localhost:8080/"
    },
    "id": "oLPfXzIrEXtC",
    "outputId": "e6fb4fb6-a771-4f68-ec19-df3b95d804d3"
   },
   "outputs": [
    {
     "data": {
      "text/plain": [
       "(158, 25)"
      ]
     },
     "execution_count": 9,
     "metadata": {},
     "output_type": "execute_result"
    }
   ],
   "source": [
    "X.shape"
   ]
  },
  {
   "cell_type": "code",
   "execution_count": 10,
   "metadata": {
    "id": "1uTlbzlpEPiH"
   },
   "outputs": [],
   "source": [
    "X = np.reshape(X, (X.shape[0], 25, 1))"
   ]
  },
  {
   "cell_type": "code",
   "execution_count": 11,
   "metadata": {
    "id": "MWxbx8FIFJZR"
   },
   "outputs": [],
   "source": [
    "X_train, X_test, y_train, y_test = train_test_split(X, y, test_size=0.3, random_state=42)\n",
    "\n"
   ]
  },
  {
   "cell_type": "code",
   "execution_count": 12,
   "metadata": {
    "id": "OGLJUmr1FOCZ"
   },
   "outputs": [],
   "source": [
    "# Define the CNN model\n",
    "model = Sequential()\n",
    "model.add(Conv1D(filters=32, kernel_size=3, activation='relu', input_shape=(25, 1)))\n",
    "model.add(MaxPooling1D(pool_size=2))\n",
    "model.add(Flatten())\n",
    "model.add(Dense(2, activation='softmax'))"
   ]
  },
  {
   "cell_type": "code",
   "execution_count": 13,
   "metadata": {
    "id": "Ba_ahNVKFpvn"
   },
   "outputs": [],
   "source": [
    "# Compile the model\n",
    "model.compile(loss='sparse_categorical_crossentropy', optimizer='adam', metrics=['accuracy'])"
   ]
  },
  {
   "cell_type": "code",
   "execution_count": 14,
   "metadata": {
    "colab": {
     "base_uri": "https://localhost:8080/"
    },
    "id": "aTT2ZfUVF2y_",
    "outputId": "10448077-0baa-4a2c-e865-d3d50b8a5589"
   },
   "outputs": [
    {
     "name": "stdout",
     "output_type": "stream",
     "text": [
      "Epoch 1/10\n",
      "7/7 [==============================] - 2s 80ms/step - loss: 3.2197 - accuracy: 0.6091 - val_loss: 0.7964 - val_accuracy: 0.8542\n",
      "Epoch 2/10\n",
      "7/7 [==============================] - 0s 28ms/step - loss: 1.4991 - accuracy: 0.7818 - val_loss: 0.7005 - val_accuracy: 0.8542\n",
      "Epoch 3/10\n",
      "7/7 [==============================] - 0s 23ms/step - loss: 0.3133 - accuracy: 0.9091 - val_loss: 0.0805 - val_accuracy: 0.9792\n",
      "Epoch 4/10\n",
      "7/7 [==============================] - 0s 23ms/step - loss: 0.2147 - accuracy: 0.9364 - val_loss: 0.1592 - val_accuracy: 0.9375\n",
      "Epoch 5/10\n",
      "7/7 [==============================] - 0s 12ms/step - loss: 0.1721 - accuracy: 0.9455 - val_loss: 0.0574 - val_accuracy: 0.9792\n",
      "Epoch 6/10\n",
      "7/7 [==============================] - 0s 16ms/step - loss: 0.0672 - accuracy: 0.9909 - val_loss: 0.1157 - val_accuracy: 0.9792\n",
      "Epoch 7/10\n",
      "7/7 [==============================] - 0s 10ms/step - loss: 0.0851 - accuracy: 0.9727 - val_loss: 0.0939 - val_accuracy: 0.9792\n",
      "Epoch 8/10\n",
      "7/7 [==============================] - 0s 10ms/step - loss: 0.0511 - accuracy: 0.9909 - val_loss: 0.0673 - val_accuracy: 0.9792\n",
      "Epoch 9/10\n",
      "7/7 [==============================] - 0s 10ms/step - loss: 0.0479 - accuracy: 0.9818 - val_loss: 0.0445 - val_accuracy: 0.9792\n",
      "Epoch 10/10\n",
      "7/7 [==============================] - 0s 7ms/step - loss: 0.0508 - accuracy: 0.9727 - val_loss: 0.0402 - val_accuracy: 0.9792\n"
     ]
    },
    {
     "data": {
      "text/plain": [
       "<keras.callbacks.History at 0x7fb3e056c1f0>"
      ]
     },
     "execution_count": 14,
     "metadata": {},
     "output_type": "execute_result"
    }
   ],
   "source": [
    "# Train the model\n",
    "model.fit(X_train, y_train, epochs=10, batch_size=16, validation_data=(X_test, y_test))"
   ]
  },
  {
   "cell_type": "code",
   "execution_count": 83,
   "metadata": {
    "colab": {
     "base_uri": "https://localhost:8080/",
     "height": 1000
    },
    "id": "1oV7A2gIF-dX",
    "outputId": "4455d493-304e-4daf-884c-9e81a820490b"
   },
   "outputs": [
    {
     "name": "stdout",
     "output_type": "stream",
     "text": [
      "2/2 [==============================] - 0s 5ms/step\n",
      "[1 1 1 1 1 0 1 1 1 1 0 1 0 1 1 0 1 1 1 1 1 0 0 0 0 1 1 1 1 1 1 1 1 1 1 1 1\n",
      " 0 1 1 0 1 1 1 0 1 0 1]\n",
      "368    1\n",
      "252    1\n",
      "374    1\n",
      "398    1\n",
      "317    1\n",
      "189    0\n",
      "326    1\n",
      "329    1\n",
      "325    1\n",
      "382    1\n",
      "130    0\n",
      "263    1\n",
      "92     0\n",
      "281    1\n",
      "157    0\n",
      "190    0\n",
      "360    1\n",
      "344    1\n",
      "321    1\n",
      "275    1\n",
      "392    1\n",
      "128    0\n",
      "84     0\n",
      "71     0\n",
      "196    0\n",
      "304    1\n",
      "258    1\n",
      "380    1\n",
      "364    1\n",
      "388    1\n",
      "387    1\n",
      "291    1\n",
      "377    1\n",
      "262    1\n",
      "366    1\n",
      "307    1\n",
      "396    1\n",
      "249    0\n",
      "278    1\n",
      "355    1\n",
      "171    0\n",
      "376    1\n",
      "298    1\n",
      "391    1\n",
      "225    0\n",
      "292    1\n",
      "147    0\n",
      "373    1\n",
      "Name: classification, dtype: int64\n",
      "Accuracy: 0.9791666666666666\n",
      "Confusion matrix:\n",
      " [[12  1]\n",
      " [ 0 35]]\n"
     ]
    },
    {
     "data": {
      "image/png": "[encoded data removed]",
      "text/plain": [
       "<Figure size 800x800 with 1 Axes>"
      ]
     },
     "metadata": {},
     "output_type": "display_data"
    }
   ],
   "source": [
    "from sklearn.metrics import accuracy_score, confusion_matrix\n",
    "import matplotlib.pyplot as plt\n",
    "import numpy as np\n",
    "\n",
    "# Predict classes for test set\n",
    "y_pred = model.predict(X_test)\n",
    "y_pred_classes = np.argmax(y_pred, axis=1)\n",
    "print(y_pred_classes)\n",
    "print(y_test)\n",
    "# Compute accuracy\n",
    "accuracy = accuracy_score(y_test, y_pred_classes)\n",
    "print(\"Accuracy:\", accuracy)\n",
    "\n",
    "# Compute confusion matrix\n",
    "conf_mat = confusion_matrix(y_test, y_pred_classes)\n",
    "print(\"Confusion matrix:\\n\", conf_mat)\n",
    "\n",
    "# Plot confusion matrix\n",
    "fig, ax = plt.subplots(figsize=(8, 8))\n",
    "ax.imshow(conf_mat)\n",
    "ax.grid(False)\n",
    "ax.set_xlabel('Predicted labels', fontsize=12, color='black')\n",
    "ax.set_ylabel('True labels', fontsize=12, color='black')\n",
    "ax.xaxis.set(ticks=(0, 1))\n",
    "ax.yaxis.set(ticks=(0, 1))\n",
    "for i in range(2):\n",
    "    for j in range(2):\n",
    "        ax.text(j, i, conf_mat[i, j], ha='center', va='center', color='white', fontsize=16)\n",
    "plt.show()"
   ]
  },
  {
   "cell_type": "markdown",
   "metadata": {
    "id": "_WBOa7m98etz"
   },
   "source": [
    "Repeating the experiment again with the missing values"
   ]
  },
  {
   "cell_type": "code",
   "execution_count": 143,
   "metadata": {
    "id": "kg3oLaMh-TCO"
   },
   "outputs": [],
   "source": [
    "import pandas as pd\n",
    "import numpy as np\n",
    "from sklearn.naive_bayes import GaussianNB"
   ]
  },
  {
   "cell_type": "code",
   "execution_count": 144,
   "metadata": {
    "colab": {
     "base_uri": "https://localhost:8080/"
    },
    "id": "ERRT0Ax2-WIs",
    "outputId": "0f196a7a-6976-4598-d47e-bb73f203096c"
   },
   "outputs": [
    {
     "data": {
      "text/plain": [
       "id                  0\n",
       "age                 9\n",
       "bp                 12\n",
       "sg                 47\n",
       "al                 46\n",
       "su                 49\n",
       "rbc               152\n",
       "pc                 65\n",
       "pcc                 4\n",
       "ba                  4\n",
       "bgr                44\n",
       "bu                 19\n",
       "sc                 17\n",
       "sod                87\n",
       "pot                88\n",
       "hemo               52\n",
       "pcv                70\n",
       "wc                105\n",
       "rc                130\n",
       "htn                 2\n",
       "dm                  2\n",
       "cad                 2\n",
       "appet               1\n",
       "pe                  1\n",
       "ane                 1\n",
       "classification      0\n",
       "dtype: int64"
      ]
     },
     "execution_count": 144,
     "metadata": {},
     "output_type": "execute_result"
    }
   ],
   "source": [
    "df_2 = pd.read_csv('/content/Kidney_data.csv')\n",
    "df_2.isnull().sum()"
   ]
  },
  {
   "cell_type": "code",
   "execution_count": 145,
   "metadata": {
    "id": "Mef-cPJSRvC0"
   },
   "outputs": [],
   "source": [
    "\n",
    "B= df_2['classification'].replace({'ckd': 0, 'notckd': 1})\n",
    "\n"
   ]
  },
  {
   "cell_type": "code",
   "execution_count": 146,
   "metadata": {
    "colab": {
     "base_uri": "https://localhost:8080/"
    },
    "id": "NYz37vtM-cbh",
    "outputId": "5b973d82-66e4-42d7-8839-a5b1d9cca20c"
   },
   "outputs": [
    {
     "name": "stderr",
     "output_type": "stream",
     "text": [
      "<ipython-input-146-83a393905147>:9: DeprecationWarning: Converting `np.inexact` or `np.floating` to a dtype is deprecated. The current result is `float64` which is not strictly correct.\n",
      "  if df_2[column].dtype==np.number:\n",
      "<ipython-input-146-83a393905147>:9: DeprecationWarning: Converting `np.inexact` or `np.floating` to a dtype is deprecated. The current result is `float64` which is not strictly correct.\n",
      "  if df_2[column].dtype==np.number:\n",
      "<ipython-input-146-83a393905147>:9: DeprecationWarning: Converting `np.inexact` or `np.floating` to a dtype is deprecated. The current result is `float64` which is not strictly correct.\n",
      "  if df_2[column].dtype==np.number:\n",
      "<ipython-input-146-83a393905147>:9: DeprecationWarning: Converting `np.inexact` or `np.floating` to a dtype is deprecated. The current result is `float64` which is not strictly correct.\n",
      "  if df_2[column].dtype==np.number:\n",
      "<ipython-input-146-83a393905147>:9: DeprecationWarning: Converting `np.inexact` or `np.floating` to a dtype is deprecated. The current result is `float64` which is not strictly correct.\n",
      "  if df_2[column].dtype==np.number:\n",
      "<ipython-input-146-83a393905147>:9: DeprecationWarning: Converting `np.inexact` or `np.floating` to a dtype is deprecated. The current result is `float64` which is not strictly correct.\n",
      "  if df_2[column].dtype==np.number:\n",
      "<ipython-input-146-83a393905147>:9: DeprecationWarning: Converting `np.inexact` or `np.floating` to a dtype is deprecated. The current result is `float64` which is not strictly correct.\n",
      "  if df_2[column].dtype==np.number:\n",
      "<ipython-input-146-83a393905147>:9: DeprecationWarning: Converting `np.inexact` or `np.floating` to a dtype is deprecated. The current result is `float64` which is not strictly correct.\n",
      "  if df_2[column].dtype==np.number:\n",
      "<ipython-input-146-83a393905147>:9: DeprecationWarning: Converting `np.inexact` or `np.floating` to a dtype is deprecated. The current result is `float64` which is not strictly correct.\n",
      "  if df_2[column].dtype==np.number:\n",
      "<ipython-input-146-83a393905147>:9: DeprecationWarning: Converting `np.inexact` or `np.floating` to a dtype is deprecated. The current result is `float64` which is not strictly correct.\n",
      "  if df_2[column].dtype==np.number:\n",
      "<ipython-input-146-83a393905147>:9: DeprecationWarning: Converting `np.inexact` or `np.floating` to a dtype is deprecated. The current result is `float64` which is not strictly correct.\n",
      "  if df_2[column].dtype==np.number:\n",
      "<ipython-input-146-83a393905147>:9: DeprecationWarning: Converting `np.inexact` or `np.floating` to a dtype is deprecated. The current result is `float64` which is not strictly correct.\n",
      "  if df_2[column].dtype==np.number:\n",
      "<ipython-input-146-83a393905147>:9: DeprecationWarning: Converting `np.inexact` or `np.floating` to a dtype is deprecated. The current result is `float64` which is not strictly correct.\n",
      "  if df_2[column].dtype==np.number:\n",
      "<ipython-input-146-83a393905147>:9: DeprecationWarning: Converting `np.inexact` or `np.floating` to a dtype is deprecated. The current result is `float64` which is not strictly correct.\n",
      "  if df_2[column].dtype==np.number:\n",
      "<ipython-input-146-83a393905147>:9: DeprecationWarning: Converting `np.inexact` or `np.floating` to a dtype is deprecated. The current result is `float64` which is not strictly correct.\n",
      "  if df_2[column].dtype==np.number:\n"
     ]
    }
   ],
   "source": [
    "'''\n",
    "for col in df_2.columns:\n",
    "    if df_2[col].dtype == object:\n",
    "        df_2[col] = pd.Categorical(df_2[col]).codes\n",
    "print(df_2)\n",
    "'''\n",
    "#Transform the non numeric data in the columns\n",
    "for column in df_2.columns:\n",
    "  if df_2[column].dtype==np.number:\n",
    "    continue\n",
    "  else:\n",
    "    df_2[column]=LabelEncoder().fit_transform(df_2[column])\n"
   ]
  },
  {
   "cell_type": "code",
   "execution_count": 147,
   "metadata": {
    "id": "ahvic233-iZ1"
   },
   "outputs": [],
   "source": [
    "gnb = GaussianNB()"
   ]
  },
  {
   "cell_type": "code",
   "execution_count": 148,
   "metadata": {
    "colab": {
     "base_uri": "https://localhost:8080/"
    },
    "id": "C1jehtBm-sB9",
    "outputId": "648fb0fa-c12d-4428-ae1e-6d9b42c5a8a9"
   },
   "outputs": [
    {
     "data": {
      "text/plain": [
       "id                0\n",
       "age               0\n",
       "bp                0\n",
       "sg                0\n",
       "al                0\n",
       "su                0\n",
       "rbc               0\n",
       "pc                0\n",
       "pcc               0\n",
       "ba                0\n",
       "bgr               0\n",
       "bu                0\n",
       "sc                0\n",
       "sod               0\n",
       "pot               0\n",
       "hemo              0\n",
       "pcv               0\n",
       "wc                0\n",
       "rc                0\n",
       "htn               0\n",
       "dm                0\n",
       "cad               0\n",
       "appet             0\n",
       "pe                0\n",
       "ane               0\n",
       "classification    0\n",
       "dtype: int64"
      ]
     },
     "execution_count": 148,
     "metadata": {},
     "output_type": "execute_result"
    }
   ],
   "source": [
    "for col in df_2.columns:\n",
    "    if df_2[col].isna().sum() > 0:\n",
    "        mask = df_2[col].isna()\n",
    "        train_data = df_2.loc[~mask].dropna(axis=1)\n",
    "        test_data = df_2.loc[mask, train_data.columns]\n",
    "        train_target = train_data[col]\n",
    "        mean = train_target.mean()\n",
    "        std = train_target.std()\n",
    "        train_target_cat = pd.cut(train_target, bins=[-np.inf, mean-std, mean+std, np.inf], labels=[0,1,2])\n",
    "        \n",
    "        train_data = train_data.drop(columns=[col])\n",
    "        test_data = test_data.drop(columns=[col])\n",
    "        imputed_values = gnb.fit(train_data, train_target_cat).predict(test_data)\n",
    "        df_2.loc[mask, col] = imputed_values\n",
    "df_2.isnull().sum()"
   ]
  },
  {
   "cell_type": "code",
   "execution_count": 149,
   "metadata": {
    "colab": {
     "base_uri": "https://localhost:8080/"
    },
    "id": "vz9UbBsMpfmW",
    "outputId": "144333d7-a595-4afe-a07e-e3f0761c8d6f"
   },
   "outputs": [
    {
     "data": {
      "text/plain": [
       "0      0\n",
       "1      0\n",
       "2      0\n",
       "3      0\n",
       "4      0\n",
       "      ..\n",
       "395    2\n",
       "396    2\n",
       "397    2\n",
       "398    2\n",
       "399    2\n",
       "Name: classification, Length: 400, dtype: int64"
      ]
     },
     "execution_count": 149,
     "metadata": {},
     "output_type": "execute_result"
    }
   ],
   "source": [
    "df_2['classification'].head(400)"
   ]
  },
  {
   "cell_type": "code",
   "execution_count": 165,
   "metadata": {
    "colab": {
     "base_uri": "https://localhost:8080/"
    },
    "id": "imhfkgMi_Yzj",
    "outputId": "c18de3b9-573f-417d-ddc8-ddef2ad80463"
   },
   "outputs": [
    {
     "name": "stdout",
     "output_type": "stream",
     "text": [
      "int64\n"
     ]
    }
   ],
   "source": [
    "# Split the data into training and testing sets\n",
    "A = df_2.drop(columns=['classification'], axis=1).values\n",
    "B = df_2['classification']\n",
    "\n",
    "\n",
    "A = np.reshape(A, (A.shape[0], 25, 1))\n",
    "\n",
    "A_train, A_test, B_train, B_test = train_test_split(A, B, test_size=0.3)\n",
    "\n",
    "print(B.dtype)\n"
   ]
  },
  {
   "cell_type": "code",
   "execution_count": 158,
   "metadata": {
    "colab": {
     "base_uri": "https://localhost:8080/"
    },
    "id": "v_DqgnQDgpIg",
    "outputId": "6c51e754-3038-4dc4-e4d7-b4fa15ffeebe"
   },
   "outputs": [
    {
     "name": "stdout",
     "output_type": "stream",
     "text": [
      "[[[313.]\n",
      "  [ 55.]\n",
      "  [ 80.]\n",
      "  ...\n",
      "  [  0.]\n",
      "  [  0.]\n",
      "  [  0.]]\n",
      "\n",
      " [[ 63.]\n",
      "  [ 46.]\n",
      "  [ 70.]\n",
      "  ...\n",
      "  [  0.]\n",
      "  [  0.]\n",
      "  [  1.]]\n",
      "\n",
      " [[180.]\n",
      "  [ 73.]\n",
      "  [ 90.]\n",
      "  ...\n",
      "  [  0.]\n",
      "  [  0.]\n",
      "  [  0.]]\n",
      "\n",
      " ...\n",
      "\n",
      " [[312.]\n",
      "  [ 80.]\n",
      "  [ 70.]\n",
      "  ...\n",
      "  [  0.]\n",
      "  [  0.]\n",
      "  [  0.]]\n",
      "\n",
      " [[195.]\n",
      "  [ 70.]\n",
      "  [ 90.]\n",
      "  ...\n",
      "  [  1.]\n",
      "  [  0.]\n",
      "  [  0.]]\n",
      "\n",
      " [[168.]\n",
      "  [ 65.]\n",
      "  [ 70.]\n",
      "  ...\n",
      "  [  0.]\n",
      "  [  0.]\n",
      "  [  0.]]]\n"
     ]
    }
   ],
   "source": [
    "print(A_train)"
   ]
  },
  {
   "cell_type": "code",
   "execution_count": 168,
   "metadata": {
    "id": "ROH7fsU5_qO6"
   },
   "outputs": [],
   "source": [
    "# Build the model\n",
    "# Define the CNN model\n",
    "model1 = Sequential()\n",
    "model1.add(Conv1D(filters=32, kernel_size=3, activation='relu', input_shape=(25, 1)))\n",
    "model1.add(MaxPooling1D(pool_size=2))\n",
    "model1.add(Flatten())\n",
    "model1.add(Dense(3, activation='softmax'))\n",
    "# Compile the model\n",
    "model1.compile(loss='sparse_categorical_crossentropy', optimizer='adam', metrics=['accuracy'])"
   ]
  },
  {
   "cell_type": "code",
   "execution_count": 169,
   "metadata": {
    "colab": {
     "base_uri": "https://localhost:8080/"
    },
    "id": "0GhXEAjW_tJW",
    "outputId": "6beca462-353a-496b-9c40-e6da6f1a42b5"
   },
   "outputs": [
    {
     "name": "stdout",
     "output_type": "stream",
     "text": [
      "Epoch 1/10\n",
      "18/18 [==============================] - 1s 21ms/step - loss: 2.1801 - accuracy: 0.7571 - val_loss: 0.7712 - val_accuracy: 0.9083\n",
      "Epoch 2/10\n",
      "18/18 [==============================] - 0s 6ms/step - loss: 0.5500 - accuracy: 0.8786 - val_loss: 0.5608 - val_accuracy: 0.9083\n",
      "Epoch 3/10\n",
      "18/18 [==============================] - 0s 6ms/step - loss: 0.3258 - accuracy: 0.9321 - val_loss: 0.4080 - val_accuracy: 0.9250\n",
      "Epoch 4/10\n",
      "18/18 [==============================] - 0s 6ms/step - loss: 0.2515 - accuracy: 0.9643 - val_loss: 0.3365 - val_accuracy: 0.9250\n",
      "Epoch 5/10\n",
      "18/18 [==============================] - 0s 6ms/step - loss: 0.2313 - accuracy: 0.9464 - val_loss: 0.3681 - val_accuracy: 0.9333\n",
      "Epoch 6/10\n",
      "18/18 [==============================] - 0s 6ms/step - loss: 0.1924 - accuracy: 0.9643 - val_loss: 0.2448 - val_accuracy: 0.9417\n",
      "Epoch 7/10\n",
      "18/18 [==============================] - 0s 7ms/step - loss: 0.1721 - accuracy: 0.9607 - val_loss: 0.2359 - val_accuracy: 0.9500\n",
      "Epoch 8/10\n",
      "18/18 [==============================] - 0s 6ms/step - loss: 0.1683 - accuracy: 0.9571 - val_loss: 0.2075 - val_accuracy: 0.9417\n",
      "Epoch 9/10\n",
      "18/18 [==============================] - 0s 6ms/step - loss: 0.1505 - accuracy: 0.9714 - val_loss: 0.2078 - val_accuracy: 0.9333\n",
      "Epoch 10/10\n",
      "18/18 [==============================] - 0s 7ms/step - loss: 0.1300 - accuracy: 0.9679 - val_loss: 0.1494 - val_accuracy: 0.9417\n"
     ]
    },
    {
     "data": {
      "text/plain": [
       "<keras.callbacks.History at 0x7fb3ca1cc340>"
      ]
     },
     "execution_count": 169,
     "metadata": {},
     "output_type": "execute_result"
    }
   ],
   "source": [
    "# Train the model\n",
    "\n",
    "model1.fit(A_train, B_train, epochs=10, batch_size=16, validation_data=(A_test, B_test))\n"
   ]
  },
  {
   "cell_type": "code",
   "execution_count": 170,
   "metadata": {
    "colab": {
     "base_uri": "https://localhost:8080/"
    },
    "id": "aXnl22KOBSDa",
    "outputId": "7e176b42-a51d-4cc5-c2f1-357c93588cb9"
   },
   "outputs": [
    {
     "name": "stdout",
     "output_type": "stream",
     "text": [
      "4/4 [==============================] - 0s 3ms/step\n",
      "Accuracy: 0.9416666666666667\n",
      "Confusion matrix:\n",
      " [[68  6]\n",
      " [ 1 45]]\n"
     ]
    }
   ],
   "source": [
    "from sklearn.metrics import accuracy_score, confusion_matrix\n",
    "import matplotlib.pyplot as plt\n",
    "import numpy as np\n",
    "\n",
    "# Predict classes for test set\n",
    "y_pred = model1.predict(A_test)\n",
    "\n",
    "y_pred_classes = np.argmax(y_pred, axis=1)\n",
    "\n",
    "# Compute accuracy\n",
    "accuracy = accuracy_score(B_test, y_pred_classes)\n",
    "print(\"Accuracy:\", accuracy)\n",
    "\n",
    "# Compute confusion matrix\n",
    "conf_mat = confusion_matrix(B_test, y_pred_classes)\n",
    "print(\"Confusion matrix:\\n\", conf_mat)\n"
   ]
  }
 ],
 "metadata": {
  "colab": {
   "provenance": []
  },
  "kernelspec": {
   "display_name": "Python 3 (ipykernel)",
   "language": "python",
   "name": "python3"
  },
  "language_info": {
   "codemirror_mode": {
    "name": "ipython",
    "version": 3
   },
   "file_extension": ".py",
   "mimetype": "text/x-python",
   "name": "python",
   "nbconvert_exporter": "python",
   "pygments_lexer": "ipython3",
   "version": "3.9.13"
  }
 },
 "nbformat": 4,
 "nbformat_minor": 1
}
