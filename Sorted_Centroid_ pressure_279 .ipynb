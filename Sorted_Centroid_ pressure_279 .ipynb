{
 "cells": [
  {
   "cell_type": "code",
   "execution_count": 1,
   "id": "e0ad7a9a",
   "metadata": {},
   "outputs": [],
   "source": [
    "import os\n",
    "import numpy as np \n",
    "import pandas as pd\n",
    "from sklearn.cluster import KMeans\n",
    "import matplotlib.pyplot as plt "
   ]
  },
  {
   "cell_type": "code",
   "execution_count": 7,
   "id": "935ad213",
   "metadata": {},
   "outputs": [],
   "source": [
    "df= pd.read_csv(\"/Users/alsabbaghs/Desktop/pressure_day279.csv\")"
   ]
  },
  {
   "cell_type": "code",
   "execution_count": 9,
   "id": "311204da",
   "metadata": {},
   "outputs": [
    {
     "name": "stdout",
     "output_type": "stream",
     "text": [
      "min : 11121\n",
      "max : 12523\n",
      "Number of cluster:  14\n",
      "labels: [11 11 11 ...  8  8  8]\n",
      "Centroids:  [[12250.63490099]\n",
      " [11297.12025316]\n",
      " [11855.898017  ]\n",
      " [12406.34110169]\n",
      " [11616.51186441]\n",
      " [11962.48769575]\n",
      " [11499.35890411]\n",
      " [12165.50589777]\n",
      " [11198.99501661]\n",
      " [12338.30731707]\n",
      " [11391.13678373]\n",
      " [12464.11098266]\n",
      " [11739.37313433]\n",
      " [12068.15240084]]\n",
      "Sorted:  [[11198.99501661]\n",
      " [11297.12025316]\n",
      " [11391.13678373]\n",
      " [11499.35890411]\n",
      " [11616.51186441]\n",
      " [11739.37313433]\n",
      " [11855.898017  ]\n",
      " [11962.48769575]\n",
      " [12068.15240084]\n",
      " [12165.50589777]\n",
      " [12250.63490099]\n",
      " [12338.30731707]\n",
      " [12406.34110169]\n",
      " [12464.11098266]]\n",
      "colors: [[12251]\n",
      " [11297]\n",
      " [11856]\n",
      " [12406]\n",
      " [11617]\n",
      " [11962]\n",
      " [11499]\n",
      " [12166]\n",
      " [11199]\n",
      " [12338]\n",
      " [11391]\n",
      " [12464]\n",
      " [11739]\n",
      " [12068]]\n"
     ]
    },
    {
     "data": {
      "image/png": "[encoded data removed]",
      "text/plain": [
       "<Figure size 640x480 with 1 Axes>"
      ]
     },
     "metadata": {},
     "output_type": "display_data"
    }
   ],
   "source": [
    "min = df.min().min()\n",
    "max = df.max().max()\n",
    "print('min :', min)\n",
    "print('max :', max)\n",
    "\n",
    "cluster = round((max-min)/100)\n",
    "print('Number of cluster: ', cluster)\n",
    "\n",
    "X = np.array(df).reshape(-1,1)\n",
    "\n",
    "kmeans = KMeans(n_clusters=cluster)\n",
    "kmeans.fit(X)\n",
    "\n",
    "\n",
    "labels = kmeans.labels_\n",
    "centroids = kmeans.cluster_centers_\n",
    "\n",
    "print(\"labels:\", labels)\n",
    "sorted_labels = labels.sort\n",
    "print('Centroids: ', centroids)\n",
    "sorted_centroids = np.sort(centroids, axis=0)\n",
    "print('Sorted: ', sorted_centroids)\n",
    "    \n",
    "colors = centroids.round(0).astype(int)\n",
    "print(\"colors:\", colors)\n",
    "    \n",
    "\n",
    "img1 = colors[labels].reshape(df.shape)\n",
    "img1 = np.flip(img1, 0) #bc the data is in ascedning order and we want it to be in decending order \n",
    "#because the algorithm can be sensitive to the initial placement of cluster centroids. By flipping the image, you can potentially achieve a different initial arrangement of pixels, which may lead to a more optimal clustering result. Additionally, flipping an image can also help to eliminate any directional biases that may exist in the original image data.\n",
    "plt.imshow(img1, cmap='gray')\n",
    "plt.show()"
   ]
  },
  {
   "cell_type": "code",
   "execution_count": 12,
   "id": "358f41e9",
   "metadata": {},
   "outputs": [
    {
     "name": "stdout",
     "output_type": "stream",
     "text": [
      "min : 11121\n",
      "max : 12523\n",
      "Number of cluster:  14\n",
      "labels: [9 9 9 ... 4 4 4]\n",
      "Centroids:  [[12069.6437247 ]\n",
      " [11390.3357016 ]\n",
      " [12407.19456522]\n",
      " [11854.68115942]\n",
      " [11195.76198934]\n",
      " [12255.09471095]\n",
      " [11617.9527027 ]\n",
      " [11292.9480916 ]\n",
      " [12168.57814485]\n",
      " [12464.11098266]\n",
      " [11740.09365559]\n",
      " [12341.68875   ]\n",
      " [11500.74033149]\n",
      " [11961.53626374]]\n",
      "Sorted:  [[11195.76198934]\n",
      " [11292.9480916 ]\n",
      " [11390.3357016 ]\n",
      " [11500.74033149]\n",
      " [11617.9527027 ]\n",
      " [11740.09365559]\n",
      " [11854.68115942]\n",
      " [11961.53626374]\n",
      " [12069.6437247 ]\n",
      " [12168.57814485]\n",
      " [12255.09471095]\n",
      " [12341.68875   ]\n",
      " [12407.19456522]\n",
      " [12464.11098266]]\n",
      "colors: [[11196]\n",
      " [11293]\n",
      " [11390]\n",
      " [11501]\n",
      " [11618]\n",
      " [11740]\n",
      " [11855]\n",
      " [11962]\n",
      " [12070]\n",
      " [12169]\n",
      " [12255]\n",
      " [12342]\n",
      " [12407]\n",
      " [12464]]\n"
     ]
    },
    {
     "data": {
      "image/png": "[encoded data removed]",
      "text/plain": [
       "<Figure size 640x480 with 1 Axes>"
      ]
     },
     "metadata": {},
     "output_type": "display_data"
    }
   ],
   "source": [
    "min = df.min().min()\n",
    "max = df.max().max()\n",
    "print('min :', min)\n",
    "print('max :', max)\n",
    "\n",
    "cluster = round((max-min)/100)\n",
    "print('Number of cluster: ', cluster)\n",
    "\n",
    "X = np.array(df).reshape(-1,1)\n",
    "\n",
    "kmeans = KMeans(n_clusters=cluster)\n",
    "kmeans.fit(X)\n",
    "\n",
    "\n",
    "labels = kmeans.labels_\n",
    "centroids = kmeans.cluster_centers_\n",
    "\n",
    "print(\"labels:\", labels)\n",
    "sorted_labels = labels.sort\n",
    "print('Centroids: ', centroids)\n",
    "sorted_centroids = np.sort(centroids, axis=0)\n",
    "print('Sorted: ', sorted_centroids)\n",
    "    \n",
    "colors = sorted_centroids.round(0).astype(int)\n",
    "print(\"colors:\", colors)\n",
    "    \n",
    "\n",
    "img1 = colors[labels].reshape(df.shape)\n",
    "img1 = np.flip(img1, 0) #bc the data is in ascedning order and we want it to be in decending order \n",
    "#because the algorithm can be sensitive to the initial placement of cluster centroids. By flipping the image, you can potentially achieve a different initial arrangement of pixels, which may lead to a more optimal clustering result. Additionally, flipping an image can also help to eliminate any directional biases that may exist in the original image data.\n",
    "plt.imshow(img1, cmap='rainbow')\n",
    "plt.show()"
   ]
  },
  {
   "cell_type": "code",
   "execution_count": null,
   "id": "3594ad3a",
   "metadata": {},
   "outputs": [],
   "source": []
  }
 ],
 "metadata": {
  "kernelspec": {
   "display_name": "Python 3 (ipykernel)",
   "language": "python",
   "name": "python3"
  },
  "language_info": {
   "codemirror_mode": {
    "name": "ipython",
    "version": 3
   },
   "file_extension": ".py",
   "mimetype": "text/x-python",
   "name": "python",
   "nbconvert_exporter": "python",
   "pygments_lexer": "ipython3",
   "version": "3.9.13"
  }
 },
 "nbformat": 4,
 "nbformat_minor": 5
}
