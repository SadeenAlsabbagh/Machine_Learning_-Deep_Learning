{
 "cells": [
  {
   "cell_type": "code",
   "execution_count": 1,
   "id": "canadian-heaven",
   "metadata": {},
   "outputs": [],
   "source": [
    "import pandas as pd\n",
    "import numpy as np\n",
    "import matplotlib.pyplot as plt\n",
    "from sklearn.cluster import KMeans\n",
    "from sklearn.preprocessing import StandardScaler\n",
    "import random\n",
    "\n"
   ]
  },
  {
   "cell_type": "code",
   "execution_count": 2,
   "id": "documented-consultancy",
   "metadata": {},
   "outputs": [],
   "source": [
    "#generate random data frame \n",
    "L1 = range(100)\n",
    "amount = 50\n",
    "A1= [random.choice(L1) for _ in range(amount)]\n",
    "L2 = range(50)\n",
    "A2= [random.choice(L2) for _ in range(amount)]\n",
    "L3 = range(25)\n",
    "A3= [random.choice(L3) for _ in range(amount)]\n",
    "A1[3]= np.nan\n",
    "A2[6]= np.nan\n",
    "A3[30]= np.nan\n",
    "df = pd.DataFrame({'A1': A1,\n",
    "                   'A2': A2,\n",
    "                   'A3': A3})\n"
   ]
  },
  {
   "cell_type": "code",
   "execution_count": 3,
   "id": "artistic-patio",
   "metadata": {},
   "outputs": [
    {
     "name": "stdout",
     "output_type": "stream",
     "text": [
      "     A1    A2    A3\n",
      "0  65.0  38.0   0.0\n",
      "1  72.0  11.0   1.0\n",
      "2  13.0  30.0  15.0\n",
      "3   NaN  39.0   7.0\n",
      "4  81.0  11.0   1.0\n"
     ]
    }
   ],
   "source": [
    "print(df.head())"
   ]
  },
  {
   "cell_type": "code",
   "execution_count": 5,
   "id": "affected-environment",
   "metadata": {},
   "outputs": [],
   "source": [
    "#Drop points or records that have missing attributes \n",
    "df = df.dropna()"
   ]
  },
  {
   "cell_type": "code",
   "execution_count": 6,
   "id": "fewer-question",
   "metadata": {},
   "outputs": [],
   "source": [
    "#Normalization \n",
    "scaled_df = StandardScaler().fit_transform(df)"
   ]
  },
  {
   "cell_type": "code",
   "execution_count": 7,
   "id": "independent-cleaning",
   "metadata": {},
   "outputs": [
    {
     "name": "stdout",
     "output_type": "stream",
     "text": [
      "[[ 0.53070102  1.15264679 -1.20934732]\n",
      " [ 0.74949881 -1.02400318 -1.08415057]\n",
      " [-1.09465398  0.50771347  0.66860391]\n",
      " [ 1.03081025 -1.02400318 -1.08415057]\n",
      " [-1.40722225  1.47511346  0.29301367]\n",
      " [ 1.40589217  0.99141346 -1.20934732]\n",
      " [ 1.49966265  1.15264679 -0.45816682]\n",
      " [-0.46951744  1.39449679 -0.20777333]\n",
      " [ 1.56217631  1.71696345  1.79537465]\n",
      " [-0.84459937 -0.94338651 -0.45816682]\n",
      " [-0.71957206 -0.45968652 -0.95895382]\n",
      " [ 0.2806464  -0.86276985 -1.08415057]\n",
      " [ 0.06184861  0.58833013 -1.08415057]\n",
      " [ 1.18709438 -1.83016983 -0.20777333]\n",
      " [-0.09443552  0.34648014 -0.95895382]\n",
      " [ 0.9682966   0.10463014 -1.20934732]\n",
      " [ 1.24960804 -0.94338651 -0.83375707]\n",
      " [ 1.06206708 -0.62091985  0.91899741]\n",
      " [-1.50099273 -1.6689365   0.16781692]\n",
      " [-1.21968129 -1.34646984  1.4197844 ]\n",
      " [-1.09465398 -0.78215318  0.04262017]\n",
      " [ 0.87452611  0.99141346 -0.70856032]\n",
      " [ 0.65572833 -0.94338651 -0.95895382]\n",
      " [ 0.65572833  0.4270968   1.29458766]\n",
      " [-0.50077427  1.87819678  1.54498115]\n",
      " [-0.31323331 -1.9107865  -1.08415057]\n",
      " [-0.78208571  0.50771347  0.79380066]\n",
      " [-1.28219494 -0.45968652  0.91899741]\n",
      " [-1.40722225  1.23326346  0.16781692]\n",
      " [-1.09465398  0.10463014 -0.58336357]\n",
      " [-0.93836985 -0.45968652  1.6701779 ]\n",
      " [ 0.49944419 -0.78215318 -0.58336357]\n",
      " [ 1.21835121 -0.45968652  1.54498115]\n",
      " [-0.62580158  0.6689468  -1.08415057]\n",
      " [ 1.06206708  1.55573012  0.79380066]\n",
      " [ 1.46840583  0.18524681  1.54498115]\n",
      " [ 0.31190323  0.34648014 -0.95895382]\n",
      " [ 1.56217631  0.26586347  1.4197844 ]\n",
      " [ 1.12458073 -1.42708651  0.41821042]\n",
      " [-0.68831523 -0.54030318  1.29458766]\n",
      " [-0.78208571  0.99141346 -0.95895382]\n",
      " [-0.96962667 -0.86276985 -0.83375707]\n",
      " [-1.4697359   0.50771347 -0.58336357]\n",
      " [-1.03214033  0.74956346 -0.20777333]\n",
      " [-0.87585619 -0.94338651  1.54498115]\n",
      " [ 0.40567371 -0.29845319 -0.45816682]\n",
      " [-0.21946283  0.74956346  0.79380066]]\n"
     ]
    }
   ],
   "source": [
    "print(scaled_df)"
   ]
  },
  {
   "cell_type": "code",
   "execution_count": 8,
   "id": "floral-mother",
   "metadata": {},
   "outputs": [],
   "source": [
    "kmeans_args = {\n",
    "\"init\": \"random\",\n",
    "\"n_init\": 10,\n",
    "\"random_state\": 1,\n",
    "}\n",
    "\n",
    "#create list to hold SSE values for each k\n",
    "sse = []\n",
    "for k in range(2, 11):\n",
    "    kmeans = KMeans(n_clusters=k, **kmeans_args)\n",
    "    kmeans.fit(scaled_df)\n",
    "    sse.append(kmeans.inertia_)\n"
   ]
  },
  {
   "cell_type": "code",
   "execution_count": 9,
   "id": "revolutionary-celtic",
   "metadata": {},
   "outputs": [
    {
     "data": {
      "text/plain": [
       "Text(0, 0.5, 'SSE')"
      ]
     },
     "execution_count": 9,
     "metadata": {},
     "output_type": "execute_result"
    },
    {
     "data": {
      "image/png": "[encoded data removed]",
      "text/plain": [
       "<Figure size 432x288 with 1 Axes>"
      ]
     },
     "metadata": {
      "needs_background": "light"
     },
     "output_type": "display_data"
    }
   ],
   "source": [
    "#visualize results\n",
    "plt.plot(range(2, 11), sse)\n",
    "plt.xticks(range(1, 11))\n",
    "plt.xlabel(\"Number of Clusters\")\n",
    "plt.ylabel(\"SSE\")\n"
   ]
  },
  {
   "cell_type": "code",
   "execution_count": 19,
   "id": "balanced-experiment",
   "metadata": {},
   "outputs": [
    {
     "name": "stdout",
     "output_type": "stream",
     "text": [
      "[[ 0.37888214 -0.94338651 -0.74433082]\n",
      " [-1.05297821 -0.57613281  0.94681891]\n",
      " [-0.24655208  0.84630346 -0.65013517]\n",
      " [ 0.87452611  0.63311717  1.29458766]]\n"
     ]
    }
   ],
   "source": [
    "#instantiate the k-means class, using optimal number of clusters\n",
    "kmeans = KMeans(init=\"random\", n_clusters=4, n_init=10, random_state=1)\n",
    "\n",
    "#fit k-means algorithm to data\n",
    "kmeans.fit(scaled_df)\n",
    "\n",
    "#view cluster assignments for each observation\n",
    "kmeans.labels_\n",
    "\n",
    "\n",
    "# coordinates of cluster center\n",
    "centroids = kmeans.cluster_centers_\n",
    "print(centroids)\n"
   ]
  },
  {
   "cell_type": "code",
   "execution_count": null,
   "id": "blocked-israeli",
   "metadata": {},
   "outputs": [],
   "source": []
  }
 ],
 "metadata": {
  "kernelspec": {
   "display_name": "Python 3 (ipykernel)",
   "language": "python",
   "name": "python3"
  },
  "language_info": {
   "codemirror_mode": {
    "name": "ipython",
    "version": 3
   },
   "file_extension": ".py",
   "mimetype": "text/x-python",
   "name": "python",
   "nbconvert_exporter": "python",
   "pygments_lexer": "ipython3",
   "version": "3.9.13"
  }
 },
 "nbformat": 4,
 "nbformat_minor": 5
}
