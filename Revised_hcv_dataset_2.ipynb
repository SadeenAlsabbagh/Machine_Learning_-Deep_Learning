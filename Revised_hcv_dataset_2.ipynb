{
 "cells": [
  {
   "cell_type": "code",
   "execution_count": 116,
   "id": "8d3584f7",
   "metadata": {},
   "outputs": [],
   "source": [
    "#putting data into pandas dataframe\n",
    "df = pd.read_csv('/Users/shekhara/Downloads/hcvdat0.csv')"
   ]
  },
  {
   "cell_type": "code",
   "execution_count": 117,
   "id": "9e2890e4",
   "metadata": {},
   "outputs": [
    {
     "name": "stdout",
     "output_type": "stream",
     "text": [
      "          Category  Age Sex   ALB    ALP   ALT    AST   BIL    CHE  CHOL  \\\n",
      "0    0=Blood Donor   32   m  38.5   52.5   7.7   22.1   7.5   6.93  3.23   \n",
      "1    0=Blood Donor   32   m  38.5   70.3  18.0   24.7   3.9  11.17  4.80   \n",
      "2    0=Blood Donor   32   m  46.9   74.7  36.2   52.6   6.1   8.84  5.20   \n",
      "3    0=Blood Donor   32   m  43.2   52.0  30.6   22.6  18.9   7.33  4.74   \n",
      "4    0=Blood Donor   32   m  39.2   74.1  32.6   24.8   9.6   9.15  4.32   \n",
      "..             ...  ...  ..   ...    ...   ...    ...   ...    ...   ...   \n",
      "608    3=Cirrhosis   58   f  34.0   46.4  15.0  150.0   8.0   6.26  3.98   \n",
      "609    3=Cirrhosis   59   f  39.0   51.3  19.6  285.8  40.0   5.77  4.51   \n",
      "610    3=Cirrhosis   62   f  32.0  416.6   5.9  110.3  50.0   5.57  6.30   \n",
      "611    3=Cirrhosis   64   f  24.0  102.8   2.9   44.4  20.0   1.54  3.02   \n",
      "612    3=Cirrhosis   64   f  29.0   87.3   3.5   99.0  48.0   1.66  3.63   \n",
      "\n",
      "      CREA    GGT  PROT  \n",
      "0    106.0   12.1  69.0  \n",
      "1     74.0   15.6  76.5  \n",
      "2     86.0   33.2  79.3  \n",
      "3     80.0   33.8  75.7  \n",
      "4     76.0   29.9  68.7  \n",
      "..     ...    ...   ...  \n",
      "608   56.0   49.7  80.6  \n",
      "609  136.1  101.1  70.5  \n",
      "610   55.7  650.9  68.5  \n",
      "611   63.0   35.9  71.3  \n",
      "612   66.7   64.2  82.0  \n",
      "\n",
      "[589 rows x 13 columns]\n"
     ]
    }
   ],
   "source": [
    "df = df.drop(columns=['Unnamed: 0']) #dropping unnecessary column\n",
    "df.dropna(axis = 0, inplace = True)\n",
    "print(df)"
   ]
  },
  {
   "cell_type": "code",
   "execution_count": 118,
   "id": "6ad4295a",
   "metadata": {},
   "outputs": [
    {
     "name": "stdout",
     "output_type": "stream",
     "text": [
      "     Category  Age  Sex   ALB    ALP   ALT    AST   BIL    CHE  CHOL   CREA  \\\n",
      "0           0   32    0  38.5   52.5   7.7   22.1   7.5   6.93  3.23  106.0   \n",
      "1           0   32    0  38.5   70.3  18.0   24.7   3.9  11.17  4.80   74.0   \n",
      "2           0   32    0  46.9   74.7  36.2   52.6   6.1   8.84  5.20   86.0   \n",
      "3           0   32    0  43.2   52.0  30.6   22.6  18.9   7.33  4.74   80.0   \n",
      "4           0   32    0  39.2   74.1  32.6   24.8   9.6   9.15  4.32   76.0   \n",
      "..        ...  ...  ...   ...    ...   ...    ...   ...    ...   ...    ...   \n",
      "608         1   58    1  34.0   46.4  15.0  150.0   8.0   6.26  3.98   56.0   \n",
      "609         1   59    1  39.0   51.3  19.6  285.8  40.0   5.77  4.51  136.1   \n",
      "610         1   62    1  32.0  416.6   5.9  110.3  50.0   5.57  6.30   55.7   \n",
      "611         1   64    1  24.0  102.8   2.9   44.4  20.0   1.54  3.02   63.0   \n",
      "612         1   64    1  29.0   87.3   3.5   99.0  48.0   1.66  3.63   66.7   \n",
      "\n",
      "       GGT  PROT  \n",
      "0     12.1  69.0  \n",
      "1     15.6  76.5  \n",
      "2     33.2  79.3  \n",
      "3     33.8  75.7  \n",
      "4     29.9  68.7  \n",
      "..     ...   ...  \n",
      "608   49.7  80.6  \n",
      "609  101.1  70.5  \n",
      "610  650.9  68.5  \n",
      "611   35.9  71.3  \n",
      "612   64.2  82.0  \n",
      "\n",
      "[589 rows x 13 columns]\n"
     ]
    },
    {
     "data": {
      "text/plain": [
       "0"
      ]
     },
     "execution_count": 118,
     "metadata": {},
     "output_type": "execute_result"
    }
   ],
   "source": [
    "# encoding sex column\n",
    "df.replace({'Sex':{'m':0,'f':1}}, inplace=True)\n",
    "# encoding Category column\n",
    "df.replace({'Category':{'0=Blood Donor':0,'0s=suspect Blood Donor':0, '1=Hepatitis':1, '2=Fibrosis':1, '3=Cirrhosis':1}}, inplace=True)\n",
    "print(df)\n",
    "#check for missing values\n",
    "df.isnull().sum().sum()"
   ]
  },
  {
   "cell_type": "markdown",
   "id": "a9424dd6",
   "metadata": {},
   "source": [
    "## EDA and Graphs"
   ]
  },
  {
   "cell_type": "code",
   "execution_count": 119,
   "id": "58d3f4e2",
   "metadata": {},
   "outputs": [
    {
     "name": "stdout",
     "output_type": "stream",
     "text": [
      "<class 'pandas.core.frame.DataFrame'>\n",
      "Int64Index: 589 entries, 0 to 612\n",
      "Data columns (total 13 columns):\n",
      " #   Column    Non-Null Count  Dtype  \n",
      "---  ------    --------------  -----  \n",
      " 0   Category  589 non-null    int64  \n",
      " 1   Age       589 non-null    int64  \n",
      " 2   Sex       589 non-null    int64  \n",
      " 3   ALB       589 non-null    float64\n",
      " 4   ALP       589 non-null    float64\n",
      " 5   ALT       589 non-null    float64\n",
      " 6   AST       589 non-null    float64\n",
      " 7   BIL       589 non-null    float64\n",
      " 8   CHE       589 non-null    float64\n",
      " 9   CHOL      589 non-null    float64\n",
      " 10  CREA      589 non-null    float64\n",
      " 11  GGT       589 non-null    float64\n",
      " 12  PROT      589 non-null    float64\n",
      "dtypes: float64(10), int64(3)\n",
      "memory usage: 64.4 KB\n"
     ]
    }
   ],
   "source": [
    "df.info()"
   ]
  },
  {
   "cell_type": "code",
   "execution_count": 120,
   "id": "1411dc5e",
   "metadata": {},
   "outputs": [],
   "source": [
    "#Change the classes columns to categorical for better visualization \n",
    "\n",
    "#categorize columns: Gender,Fever,Nausea/Vomting,Headache,Diarrhea,Fatigue,Jaundice\n",
    "data_cat=df[['Category','Age','Sex','ALB','ALP','ALT','AST','BIL','CHE','CREA','GGT','PROT']]"
   ]
  },
  {
   "cell_type": "code",
   "execution_count": 121,
   "id": "f1b95485",
   "metadata": {},
   "outputs": [
    {
     "data": {
      "text/html": [
       "<div>\n",
       "<style scoped>\n",
       "    .dataframe tbody tr th:only-of-type {\n",
       "        vertical-align: middle;\n",
       "    }\n",
       "\n",
       "    .dataframe tbody tr th {\n",
       "        vertical-align: top;\n",
       "    }\n",
       "\n",
       "    .dataframe thead th {\n",
       "        text-align: right;\n",
       "    }\n",
       "</style>\n",
       "<table border=\"1\" class=\"dataframe\">\n",
       "  <thead>\n",
       "    <tr style=\"text-align: right;\">\n",
       "      <th></th>\n",
       "      <th>Category</th>\n",
       "      <th>Age</th>\n",
       "      <th>Sex</th>\n",
       "      <th>ALB</th>\n",
       "      <th>ALP</th>\n",
       "      <th>ALT</th>\n",
       "      <th>AST</th>\n",
       "      <th>BIL</th>\n",
       "      <th>CHE</th>\n",
       "      <th>CREA</th>\n",
       "      <th>GGT</th>\n",
       "      <th>PROT</th>\n",
       "    </tr>\n",
       "  </thead>\n",
       "  <tbody>\n",
       "    <tr>\n",
       "      <th>0</th>\n",
       "      <td>0</td>\n",
       "      <td>32</td>\n",
       "      <td>0</td>\n",
       "      <td>38.5</td>\n",
       "      <td>52.5</td>\n",
       "      <td>7.7</td>\n",
       "      <td>22.1</td>\n",
       "      <td>7.5</td>\n",
       "      <td>6.93</td>\n",
       "      <td>106.0</td>\n",
       "      <td>12.1</td>\n",
       "      <td>69.0</td>\n",
       "    </tr>\n",
       "    <tr>\n",
       "      <th>1</th>\n",
       "      <td>0</td>\n",
       "      <td>32</td>\n",
       "      <td>0</td>\n",
       "      <td>38.5</td>\n",
       "      <td>70.3</td>\n",
       "      <td>18.0</td>\n",
       "      <td>24.7</td>\n",
       "      <td>3.9</td>\n",
       "      <td>11.17</td>\n",
       "      <td>74.0</td>\n",
       "      <td>15.6</td>\n",
       "      <td>76.5</td>\n",
       "    </tr>\n",
       "    <tr>\n",
       "      <th>2</th>\n",
       "      <td>0</td>\n",
       "      <td>32</td>\n",
       "      <td>0</td>\n",
       "      <td>46.9</td>\n",
       "      <td>74.7</td>\n",
       "      <td>36.2</td>\n",
       "      <td>52.6</td>\n",
       "      <td>6.1</td>\n",
       "      <td>8.84</td>\n",
       "      <td>86.0</td>\n",
       "      <td>33.2</td>\n",
       "      <td>79.3</td>\n",
       "    </tr>\n",
       "    <tr>\n",
       "      <th>3</th>\n",
       "      <td>0</td>\n",
       "      <td>32</td>\n",
       "      <td>0</td>\n",
       "      <td>43.2</td>\n",
       "      <td>52.0</td>\n",
       "      <td>30.6</td>\n",
       "      <td>22.6</td>\n",
       "      <td>18.9</td>\n",
       "      <td>7.33</td>\n",
       "      <td>80.0</td>\n",
       "      <td>33.8</td>\n",
       "      <td>75.7</td>\n",
       "    </tr>\n",
       "    <tr>\n",
       "      <th>4</th>\n",
       "      <td>0</td>\n",
       "      <td>32</td>\n",
       "      <td>0</td>\n",
       "      <td>39.2</td>\n",
       "      <td>74.1</td>\n",
       "      <td>32.6</td>\n",
       "      <td>24.8</td>\n",
       "      <td>9.6</td>\n",
       "      <td>9.15</td>\n",
       "      <td>76.0</td>\n",
       "      <td>29.9</td>\n",
       "      <td>68.7</td>\n",
       "    </tr>\n",
       "  </tbody>\n",
       "</table>\n",
       "</div>"
      ],
      "text/plain": [
       "   Category  Age  Sex   ALB   ALP   ALT   AST   BIL    CHE   CREA   GGT  PROT\n",
       "0         0   32    0  38.5  52.5   7.7  22.1   7.5   6.93  106.0  12.1  69.0\n",
       "1         0   32    0  38.5  70.3  18.0  24.7   3.9  11.17   74.0  15.6  76.5\n",
       "2         0   32    0  46.9  74.7  36.2  52.6   6.1   8.84   86.0  33.2  79.3\n",
       "3         0   32    0  43.2  52.0  30.6  22.6  18.9   7.33   80.0  33.8  75.7\n",
       "4         0   32    0  39.2  74.1  32.6  24.8   9.6   9.15   76.0  29.9  68.7"
      ]
     },
     "execution_count": 121,
     "metadata": {},
     "output_type": "execute_result"
    }
   ],
   "source": [
    "data_cat.head()"
   ]
  },
  {
   "cell_type": "code",
   "execution_count": 122,
   "id": "2ff59c41",
   "metadata": {},
   "outputs": [
    {
     "name": "stderr",
     "output_type": "stream",
     "text": [
      "/opt/anaconda3/lib/python3.9/site-packages/seaborn/_decorators.py:36: FutureWarning: Pass the following variable as a keyword arg: x. From version 0.12, the only valid positional argument will be `data`, and passing other arguments without an explicit keyword will result in an error or misinterpretation.\n",
      "  warnings.warn(\n"
     ]
    },
    {
     "data": {
      "image/png": "[encoded data removed]",
      "text/plain": [
       "<Figure size 432x288 with 1 Axes>"
      ]
     },
     "metadata": {
      "needs_background": "light"
     },
     "output_type": "display_data"
    }
   ],
   "source": [
    "#Gain insights of the categorical data:\n",
    "sns.countplot(data_cat['Sex'],palette=\"Reds_r\")\n",
    "plt.show()"
   ]
  },
  {
   "cell_type": "code",
   "execution_count": 123,
   "id": "5514e10f",
   "metadata": {},
   "outputs": [
    {
     "data": {
      "text/plain": [
       "<AxesSubplot:>"
      ]
     },
     "execution_count": 123,
     "metadata": {},
     "output_type": "execute_result"
    },
    {
     "data": {
      "image/png": "[encoded data removed]",
      "text/plain": [
       "<Figure size 720x576 with 1 Axes>"
      ]
     },
     "metadata": {
      "needs_background": "light"
     },
     "output_type": "display_data"
    }
   ],
   "source": [
    "fig, ax = plt.subplots(figsize=(10,8))\n",
    "sns.heatmap(df.corr(), annot=True, fmt='.1g', cmap=\"Blues_r\", cbar=False, linewidths=0.5, linecolor='grey')"
   ]
  },
  {
   "cell_type": "code",
   "execution_count": 124,
   "id": "4f5db1a8",
   "metadata": {},
   "outputs": [
    {
     "data": {
      "text/plain": [
       "<AxesSubplot:xlabel='Category', ylabel='Age'>"
      ]
     },
     "execution_count": 124,
     "metadata": {},
     "output_type": "execute_result"
    },
    {
     "data": {
      "image/png": "[encoded data removed]",
      "text/plain": [
       "<Figure size 432x288 with 1 Axes>"
      ]
     },
     "metadata": {
      "needs_background": "light"
     },
     "output_type": "display_data"
    }
   ],
   "source": [
    "sns.boxplot(data=data_cat, x='Category', y='Age')"
   ]
  },
  {
   "cell_type": "markdown",
   "id": "3f9898da",
   "metadata": {},
   "source": [
    "## Applying binary K means"
   ]
  },
  {
   "cell_type": "code",
   "execution_count": 125,
   "id": "aa146c2e",
   "metadata": {},
   "outputs": [
    {
     "name": "stdout",
     "output_type": "stream",
     "text": [
      "0      0\n",
      "1      0\n",
      "2      0\n",
      "3      0\n",
      "4      0\n",
      "      ..\n",
      "608    1\n",
      "609    1\n",
      "610    1\n",
      "611    1\n",
      "612    1\n",
      "Name: Category, Length: 589, dtype: int64\n",
      "     Age  Sex   ALB    ALP   ALT    AST   BIL    CHE   CREA    GGT  PROT\n",
      "0     32    0  38.5   52.5   7.7   22.1   7.5   6.93  106.0   12.1  69.0\n",
      "1     32    0  38.5   70.3  18.0   24.7   3.9  11.17   74.0   15.6  76.5\n",
      "2     32    0  46.9   74.7  36.2   52.6   6.1   8.84   86.0   33.2  79.3\n",
      "3     32    0  43.2   52.0  30.6   22.6  18.9   7.33   80.0   33.8  75.7\n",
      "4     32    0  39.2   74.1  32.6   24.8   9.6   9.15   76.0   29.9  68.7\n",
      "..   ...  ...   ...    ...   ...    ...   ...    ...    ...    ...   ...\n",
      "608   58    1  34.0   46.4  15.0  150.0   8.0   6.26   56.0   49.7  80.6\n",
      "609   59    1  39.0   51.3  19.6  285.8  40.0   5.77  136.1  101.1  70.5\n",
      "610   62    1  32.0  416.6   5.9  110.3  50.0   5.57   55.7  650.9  68.5\n",
      "611   64    1  24.0  102.8   2.9   44.4  20.0   1.54   63.0   35.9  71.3\n",
      "612   64    1  29.0   87.3   3.5   99.0  48.0   1.66   66.7   64.2  82.0\n",
      "\n",
      "[589 rows x 11 columns]\n"
     ]
    }
   ],
   "source": [
    "#putting the labels into seperate variable\n",
    "Y = data_cat.drop(columns='Category')\n",
    "X = data_cat['Category']\n",
    "print(X)\n",
    "print(Y)"
   ]
  },
  {
   "cell_type": "code",
   "execution_count": 126,
   "id": "482b6872",
   "metadata": {},
   "outputs": [
    {
     "name": "stdout",
     "output_type": "stream",
     "text": [
      "Code-book :\n",
      " [[ 49.68831169   0.22077922  40.2025974   82.01558442  40.27012987\n",
      "   80.58701299  21.53246753   7.55792208 106.00779221 130.06623377\n",
      "   71.6025974 ]\n",
      " [ 47.07617188   0.40820312  41.83808594  66.03378906  24.51582031\n",
      "   26.73242187   9.43691406   8.30074219  78.00878906  24.38242187\n",
      "   71.93339844]] \n",
      "\n",
      "Clusters :\n",
      " [1 1 1 1 1 1 1 1 1 1 1 1 1 1 1 1 1 1 1 1 1 1 0 1 1 1 1 1 1 1 1 1 1 1 1 1 1\n",
      " 1 1 1 1 1 1 1 1 1 1 1 1 1 1 1 1 1 1 1 1 1 1 1 1 1 1 1 1 1 1 0 1 1 1 0 1 1\n",
      " 1 1 1 1 1 1 1 1 1 1 0 1 1 1 1 1 1 1 1 1 0 1 1 1 1 1 1 1 1 1 1 1 1 1 1 1 1\n",
      " 1 1 1 0 1 1 1 1 1 1 1 0 1 1 0 1 1 1 1 1 1 1 1 1 1 1 1 1 0 1 1 1 1 1 1 1 1\n",
      " 1 1 1 1 1 1 1 1 1 1 1 1 1 1 1 1 1 1 1 0 1 1 1 1 1 1 1 1 1 1 1 1 1 1 1 1 1\n",
      " 1 1 1 1 1 1 1 1 0 1 1 1 1 1 1 1 1 1 1 0 1 1 1 1 1 1 1 1 1 1 1 1 1 1 1 1 1\n",
      " 1 1 1 1 1 1 1 1 1 1 0 1 1 1 1 1 1 1 0 1 1 1 1 1 1 1 1 1 1 1 1 1 1 1 1 1 1\n",
      " 0 1 1 1 1 1 1 1 1 1 1 1 1 1 1 1 1 1 1 1 1 1 1 1 1 1 1 1 1 1 1 1 1 1 1 1 1\n",
      " 1 1 0 1 1 1 1 1 1 1 1 1 1 1 1 1 1 0 1 0 1 1 1 1 1 1 1 1 1 1 1 1 1 1 1 1 1\n",
      " 1 1 1 1 1 1 1 1 1 1 1 1 1 1 1 1 1 1 1 1 1 1 1 1 1 1 1 1 1 1 1 1 1 1 1 1 1\n",
      " 1 1 1 1 1 1 1 1 1 1 1 1 1 1 1 1 1 1 1 1 1 1 1 1 1 1 1 1 0 1 1 1 1 1 1 1 1\n",
      " 1 1 1 1 1 1 1 1 1 1 1 1 1 1 1 1 1 1 1 1 1 1 1 1 1 1 1 1 1 1 1 1 1 1 1 1 1\n",
      " 1 1 1 1 1 1 1 1 0 1 1 1 1 1 1 1 1 1 1 1 1 1 1 1 1 1 1 1 1 1 1 1 1 1 1 1 1\n",
      " 1 1 1 1 1 1 1 1 1 0 1 1 1 1 1 1 1 1 1 1 1 1 1 1 1 1 1 1 1 1 1 1 1 1 1 1 1\n",
      " 1 1 1 1 1 1 1 1 0 1 1 0 1 0 0 0 0 1 1 1 1 1 1 1 0 1 0 1 0 0 0 1 1 1 0 0 0\n",
      " 0 1 0 1 0 1 0 1 1 1 0 0 0 1 0 0 1 0 1 1 0 0 1 1 0 1 0 0 0 0 0 0 1 0] \n",
      "\n",
      "No.of Blood Donor with no Diseases : 534\n",
      "No.of Blood Donor with Diseases : 55\n"
     ]
    },
    {
     "data": {
      "image/png": "[encoded data removed]",
      "text/plain": [
       "<Figure size 432x288 with 1 Axes>"
      ]
     },
     "metadata": {},
     "output_type": "display_data"
    }
   ],
   "source": [
    "import matplotlib.pyplot as plt\n",
    "import numpy as np\n",
    "from scipy.cluster.vq import whiten, kmeans, vq\n",
    " \n",
    "dataset = Y\n",
    " \n",
    "# generate code book\n",
    "centroids, mean_dist = kmeans(dataset, 2)\n",
    "print(\"Code-book :\\n\", centroids, \"\\n\")\n",
    " \n",
    "clusters, dist = vq(dataset, centroids)\n",
    "print(\"Clusters :\\n\", clusters, \"\\n\")\n",
    " \n",
    "# count non-dis patients\n",
    "non_diab = list(clusters).count(0)\n",
    "\n",
    "# count disease patients\n",
    "diab = list(clusters).count(1)\n",
    "\n",
    "# depict illustration\n",
    "x_axis = []\n",
    "x_axis.append(diab)\n",
    "x_axis.append(non_diab)\n",
    " \n",
    "colors = ['green', 'orange']\n",
    " \n",
    "print(\"No.of Blood Donor with no Diseases : \" + str(x_axis[0]) +\n",
    "      \"\\nNo.of Blood Donor with Diseases : \" + str(x_axis[1]))\n",
    " \n",
    "y = ['No Diseases', 'Diseases']\n",
    " \n",
    "plt.pie(x_axis, labels=y, colors=colors, shadow='true')\n",
    "plt.show()"
   ]
  },
  {
   "cell_type": "code",
   "execution_count": 127,
   "id": "5acd40ee",
   "metadata": {},
   "outputs": [
    {
     "name": "stdout",
     "output_type": "stream",
     "text": [
      "538\n",
      "Accuracy: 91.34125636672326\n"
     ]
    }
   ],
   "source": [
    "true_labels = np.array(X)\n",
    "n=0\n",
    "for i in range(len(clusters)):\n",
    "    if true_labels[i] != clusters [i]:\n",
    "        n += 1\n",
    "print(n)\n",
    "\n",
    "Accuracy = (n/Y.shape[0])*100\n",
    "print('Accuracy:', Accuracy)\n"
   ]
  },
  {
   "cell_type": "markdown",
   "id": "cfeb8b1c",
   "metadata": {},
   "source": [
    "## Applying K means on data with blood donor with diseases"
   ]
  },
  {
   "cell_type": "code",
   "execution_count": 128,
   "id": "9afab995",
   "metadata": {},
   "outputs": [
    {
     "name": "stdout",
     "output_type": "stream",
     "text": [
      "     Category  Age  Sex   ALB    ALP   ALT    AST   BIL    CHE  CHOL   CREA  \\\n",
      "0           0   32    0  38.5   52.5   7.7   22.1   7.5   6.93  3.23  106.0   \n",
      "1           0   32    0  38.5   70.3  18.0   24.7   3.9  11.17  4.80   74.0   \n",
      "2           0   32    0  46.9   74.7  36.2   52.6   6.1   8.84  5.20   86.0   \n",
      "3           0   32    0  43.2   52.0  30.6   22.6  18.9   7.33  4.74   80.0   \n",
      "4           0   32    0  39.2   74.1  32.6   24.8   9.6   9.15  4.32   76.0   \n",
      "..        ...  ...  ...   ...    ...   ...    ...   ...    ...   ...    ...   \n",
      "608         3   58    1  34.0   46.4  15.0  150.0   8.0   6.26  3.98   56.0   \n",
      "609         3   59    1  39.0   51.3  19.6  285.8  40.0   5.77  4.51  136.1   \n",
      "610         3   62    1  32.0  416.6   5.9  110.3  50.0   5.57  6.30   55.7   \n",
      "611         3   64    1  24.0  102.8   2.9   44.4  20.0   1.54  3.02   63.0   \n",
      "612         3   64    1  29.0   87.3   3.5   99.0  48.0   1.66  3.63   66.7   \n",
      "\n",
      "       GGT  PROT  \n",
      "0     12.1  69.0  \n",
      "1     15.6  76.5  \n",
      "2     33.2  79.3  \n",
      "3     33.8  75.7  \n",
      "4     29.9  68.7  \n",
      "..     ...   ...  \n",
      "608   49.7  80.6  \n",
      "609  101.1  70.5  \n",
      "610  650.9  68.5  \n",
      "611   35.9  71.3  \n",
      "612   64.2  82.0  \n",
      "\n",
      "[589 rows x 13 columns]\n",
      "     Category  Age  Sex   ALB    ALP   ALT    AST    BIL    CHE  CHOL    CREA  \\\n",
      "542         1   23    0  47.0   19.1  38.9  164.2   17.0   7.09  3.20    79.3   \n",
      "543         1   25    0  42.0   38.2  63.3  187.7   14.0   6.00  4.28    66.9   \n",
      "544         1   27    0  45.0   27.5  10.5   37.8   10.0   8.77  3.20    55.2   \n",
      "547         1   32    0  45.0   34.6  44.3   96.2   16.0  10.11  6.28    81.2   \n",
      "548         1   32    0  41.0   34.4  12.1   60.9    6.0  13.80  5.48    45.4   \n",
      "549         1   34    0  46.0   36.7   7.4   31.6    9.0   9.71  5.37    82.3   \n",
      "550         1   35    0  47.0   37.9  13.3   48.4    8.0  10.30  4.14    69.2   \n",
      "551         1   36    0  44.0   32.9   9.4   32.0   14.0  11.42  5.73    68.6   \n",
      "552         1   38    0  41.0   20.6  15.2   53.5   24.0  10.23  4.89    81.8   \n",
      "553         1   41    0  42.0   39.6  26.5   77.6   42.0   9.67  9.67    57.7   \n",
      "554         1   44    0  49.0   27.3  40.2   31.1   13.0   8.91  4.07    81.5   \n",
      "555         1   46    0  48.0   59.5  11.6   39.0    7.0  16.41  4.65    66.4   \n",
      "556         1   50    0  42.0   41.6  10.2   38.1   17.0   9.54  7.04    75.3   \n",
      "557         1   51    0  43.0   37.2  21.4  132.8    5.0  10.12  5.23    76.2   \n",
      "558         1   56    0  37.0  114.0  27.8  324.0   67.0   5.75  3.09    97.7   \n",
      "559         1   58    0  43.0   99.1  12.2   63.2   13.0   5.95  6.15   147.3   \n",
      "560         1   33    1  43.0   29.6   3.8   16.7    6.0   6.88  5.72    58.8   \n",
      "561         1   41    1  37.0   31.2   8.2   38.3    7.0   7.08  5.30    60.8   \n",
      "562         1   50    1  40.0   32.7   9.0   46.0   10.0   7.51  4.67    56.6   \n",
      "563         1   61    1  50.0   34.4  27.4  114.4   22.0   9.48  4.62    61.9   \n",
      "564         2   29    0  41.0   43.1   2.4   83.5    6.0  11.49  5.42    55.2   \n",
      "565         2   40    0  39.0   43.1  23.8  114.7   11.0   9.64  4.20    70.9   \n",
      "566         2   46    0  45.0   26.9  23.1  125.0   17.0   6.97  4.01    60.5   \n",
      "567         2   48    0  49.0   45.2  19.3   69.1   30.0   7.76  4.22    76.7   \n",
      "572         2   54    0  41.0   41.8  41.5  187.9   21.0   8.59  5.85    91.0   \n",
      "573         2   57    0  47.0   29.7  10.2   55.9   12.0   6.60  4.64    70.9   \n",
      "574         2   59    0  44.0   34.5   8.9   74.5    6.0   9.45  4.45    65.0   \n",
      "575         2   64    0  38.0   35.7   7.1   41.3   13.0   7.10  4.52    70.0   \n",
      "577         2   36    1  46.0   39.3  67.1  161.9   13.0   9.24  4.81    65.3   \n",
      "578         2   38    1  40.0   39.8  14.9   68.9   11.0   8.55  4.31    60.5   \n",
      "579         2   57    1  43.0   52.1   8.3   35.8   18.0   8.61  6.19    71.4   \n",
      "580         2   68    1  43.0   22.9   5.0   42.1   12.0   7.29  4.89    80.9   \n",
      "586         3   39    0  34.0  137.8   4.8   35.6    9.0   3.65  4.82   519.0   \n",
      "587         3   41    0  31.0   85.3   4.8   60.2  200.0   1.80  5.34   106.4   \n",
      "588         3   42    0  36.0   69.6  14.9  263.1   40.0   3.61  3.93    49.6   \n",
      "589         3   45    0  29.0   11.3   7.1  101.9   31.0   1.73  3.71    76.7   \n",
      "591         3   46    0  35.0  109.6   2.3   19.2   11.0   7.10  4.10  1079.1   \n",
      "593         3   51    0  39.0   66.0  29.6  185.0   19.0   2.00  3.60    58.3   \n",
      "594         3   51    0  33.0   29.6   4.5   66.6   91.0   4.02  4.08    75.9   \n",
      "595         3   56    0  27.0   81.1  17.0  319.8   37.0   1.42  3.54    66.9   \n",
      "596         3   56    0  23.0  105.6   5.1  123.0   43.0   1.80  2.40    62.7   \n",
      "597         3   56    0  30.0   40.4   0.9   80.3  119.0   1.88  1.43    79.3   \n",
      "598         3   58    0  31.0  143.1   7.0  181.8   58.0   3.29  3.92    66.4   \n",
      "599         3   59    0  36.0   49.7   5.2  110.1   37.0   2.29  3.68   118.2   \n",
      "600         3   59    0  27.0   73.8   4.0   65.2  209.0   2.47  3.61    71.7   \n",
      "601         3   59    0  31.0   86.3   5.4   95.4  117.0   1.57  3.51    60.5   \n",
      "602         3   61    0  39.0  102.9  27.3  143.2   15.0   5.38  4.88    72.3   \n",
      "604         3   74    0  23.0   34.1   2.1   90.4   22.0   2.50  3.29    51.0   \n",
      "605         3   42    1  33.0   79.0   3.7   55.7  200.0   1.72  5.16    89.1   \n",
      "606         3   49    1  33.0  190.7   1.2   36.3    7.0   6.92  3.82   485.9   \n",
      "607         3   52    1  39.0   37.0   1.3   30.4   21.0   6.33  3.78   158.2   \n",
      "608         3   58    1  34.0   46.4  15.0  150.0    8.0   6.26  3.98    56.0   \n",
      "609         3   59    1  39.0   51.3  19.6  285.8   40.0   5.77  4.51   136.1   \n",
      "610         3   62    1  32.0  416.6   5.9  110.3   50.0   5.57  6.30    55.7   \n",
      "611         3   64    1  24.0  102.8   2.9   44.4   20.0   1.54  3.02    63.0   \n",
      "612         3   64    1  29.0   87.3   3.5   99.0   48.0   1.66  3.63    66.7   \n",
      "\n",
      "       GGT  PROT  \n",
      "542   90.4  70.1  \n",
      "543   40.2  70.5  \n",
      "544   35.9  74.5  \n",
      "547   48.1  82.1  \n",
      "548   33.1  71.1  \n",
      "549   34.4  71.6  \n",
      "550   68.2  76.0  \n",
      "551   40.6  70.9  \n",
      "552   57.9  71.1  \n",
      "553  143.4  75.8  \n",
      "554   27.6  72.8  \n",
      "555  158.2  72.7  \n",
      "556   92.1  72.3  \n",
      "557   76.4  76.7  \n",
      "558  392.2  77.3  \n",
      "559  491.0  65.6  \n",
      "560   11.5  78.2  \n",
      "561   24.7  82.4  \n",
      "562   22.3  70.1  \n",
      "563  169.8  86.0  \n",
      "564  130.0  66.5  \n",
      "565  127.3  81.3  \n",
      "566   72.2  73.0  \n",
      "567   28.4  72.3  \n",
      "572  104.9  79.1  \n",
      "573   69.6  80.9  \n",
      "574   95.3  69.7  \n",
      "575   53.0  66.8  \n",
      "577   60.0  73.9  \n",
      "578   40.1  76.5  \n",
      "579   27.9  82.0  \n",
      "580   11.9  76.1  \n",
      "586  133.4  57.5  \n",
      "587  151.0  71.8  \n",
      "588   61.0  68.6  \n",
      "589   65.6  70.0  \n",
      "591  105.6  69.1  \n",
      "593  399.5  79.4  \n",
      "594   28.5  62.3  \n",
      "595   93.7  65.3  \n",
      "596   35.9  62.8  \n",
      "597   17.6  54.2  \n",
      "598  273.7  78.1  \n",
      "599   56.9  74.8  \n",
      "600   28.5  60.6  \n",
      "601   53.6  68.5  \n",
      "602  400.3  73.4  \n",
      "604   46.8  57.1  \n",
      "605  146.3  69.9  \n",
      "606  112.0  58.5  \n",
      "607  142.5  82.7  \n",
      "608   49.7  80.6  \n",
      "609  101.1  70.5  \n",
      "610  650.9  68.5  \n",
      "611   35.9  71.3  \n",
      "612   64.2  82.0  \n"
     ]
    }
   ],
   "source": [
    "#Reloading data in pandas dataframe for pre processing\n",
    "data = pd.read_csv('/Users/shekhara/Downloads/hcvdat0.csv')\n",
    "data = data.drop(columns=['Unnamed: 0']) #dropping unnecessary column\n",
    "data.dropna(axis = 0, inplace = True)\n",
    "# encoding sex column\n",
    "data.replace({'Sex':{'m':0,'f':1}}, inplace=True)\n",
    "# encoding Category column\n",
    "data.replace({'Category':{'0=Blood Donor':0,'0s=suspect Blood Donor':0, '1=Hepatitis':1, '2=Fibrosis':2, '3=Cirrhosis':3}}, inplace=True)\n",
    "print(data)\n",
    "#check for missing values\n",
    "data.isnull().sum().sum()\n",
    "\n",
    "#dataset with diseases\n",
    "data_with_dis = data[data['Category'] != 0]\n",
    "print(data_with_dis)"
   ]
  },
  {
   "cell_type": "code",
   "execution_count": 129,
   "id": "f2f7fd01",
   "metadata": {},
   "outputs": [],
   "source": [
    "#putting the labels into seperate variable\n",
    "Y_dis = data_with_dis.drop(columns='Category')\n",
    "X_dis = data_with_dis['Category']\n"
   ]
  },
  {
   "cell_type": "code",
   "execution_count": 130,
   "id": "d43199c5",
   "metadata": {},
   "outputs": [
    {
     "name": "stdout",
     "output_type": "stream",
     "text": [
      "Code-book :\n",
      " [[5.76666667e+01 1.66666667e-01 3.68333333e+01 1.56950000e+02\n",
      "  1.83000000e+01 1.67916667e+02 3.70000000e+01 4.65666667e+00\n",
      "  4.65666667e+00 8.29500000e+01 4.34600000e+02 7.37166667e+01]\n",
      " [4.46666667e+01 3.33333333e-01 3.40000000e+01 1.46033333e+02\n",
      "  2.76666667e+00 3.03666667e+01 9.00000000e+00 5.89000000e+00\n",
      "  4.24666667e+00 6.94666667e+02 1.17000000e+02 6.17000000e+01]\n",
      " [4.74893617e+01 2.97872340e-01 3.89787234e+01 4.55255319e+01\n",
      "  1.53468085e+01 9.25148936e+01 3.61702128e+01 6.86574468e+00\n",
      "  4.54574468e+00 7.34340426e+01 6.75361702e+01 7.26808511e+01]] \n",
      "\n",
      "Clusters :\n",
      " [2 2 2 2 2 2 2 2 2 2 2 2 2 2 0 0 2 2 2 2 2 2 2 2 2 2 2 2 2 2 2 2 1 2 2 2 1\n",
      " 0 2 2 2 2 0 2 2 2 0 2 2 1 2 2 2 0 2 2] \n",
      "\n",
      "No.of Blood Donor with Hepatitis : 6\n",
      "No.of Blood Donor with Fibrosis : 3\n",
      " No.of Blood Donor with Cirrhosis :47\n"
     ]
    },
    {
     "data": {
      "image/png": "[encoded data removed]",
      "text/plain": [
       "<Figure size 432x288 with 1 Axes>"
      ]
     },
     "metadata": {},
     "output_type": "display_data"
    }
   ],
   "source": [
    "dataset = Y_dis\n",
    " \n",
    "# generate code book\n",
    "centroids, mean_dist = kmeans(dataset, 3)\n",
    "print(\"Code-book :\\n\", centroids, \"\\n\")\n",
    " \n",
    "clusters, dist = vq(dataset, centroids)\n",
    "print(\"Clusters :\\n\", clusters, \"\\n\")\n",
    " \n",
    "# count non-dis patients\n",
    "disease1 = list(clusters).count(0)\n",
    "\n",
    "# count disease patients\n",
    "disease2 = list(clusters).count(1)\n",
    "disease3 = list(clusters).count(2)\n",
    "# depict illustration\n",
    "x_axis = []\n",
    "x_axis.append(disease1)\n",
    "x_axis.append(disease2)\n",
    "x_axis.append(disease3)\n",
    " \n",
    "colors = ['green', 'orange','red']\n",
    " \n",
    "print(\"No.of Blood Donor with Hepatitis : \" + str(x_axis[0]) +\n",
    "      \"\\nNo.of Blood Donor with Fibrosis : \" + str(x_axis[1]) +\n",
    "       \"\\n No.of Blood Donor with Cirrhosis :\" + str(x_axis[2]))\n",
    " \n",
    "k = ['Hepatitis', 'Fibrosis','Cirrhosis']\n",
    " \n",
    "plt.pie(x_axis, labels=k, colors=colors, shadow='true')\n",
    "plt.show()"
   ]
  },
  {
   "cell_type": "code",
   "execution_count": 131,
   "id": "5802da4c",
   "metadata": {},
   "outputs": [
    {
     "name": "stdout",
     "output_type": "stream",
     "text": [
      "44\n",
      "Accuracy: 78.57142857142857\n"
     ]
    }
   ],
   "source": [
    "#Checking the accuracy\n",
    "true_labels1 = np.array(X_dis)\n",
    "n=0\n",
    "for i in range(len(clusters)):\n",
    "    if true_labels1[i] != clusters [i]:\n",
    "        n += 1\n",
    "print(n)\n",
    "\n",
    "Accuracy = (n/Y_dis.shape[0])*100\n",
    "print('Accuracy:', Accuracy)"
   ]
  },
  {
   "cell_type": "markdown",
   "id": "9e0c257e",
   "metadata": {},
   "source": [
    "## Self Organizing Map"
   ]
  },
  {
   "cell_type": "code",
   "execution_count": 144,
   "id": "494d0bff",
   "metadata": {},
   "outputs": [
    {
     "name": "stdout",
     "output_type": "stream",
     "text": [
      "0.7796610169491526\n"
     ]
    }
   ],
   "source": [
    "#susi is a SOM library used for supervised, semi supervised and unsupervised learning\n",
    "import susi\n",
    "from sklearn.model_selection import train_test_split\n",
    "#Set Class as the target value \n",
    "Y = data['Category']\n",
    "X = data.drop('Category', axis = 1)\n",
    "\n",
    "X_train, X_test, Y_train, Y_test = train_test_split(X, Y, test_size= 0.3, stratify = Y)  \n",
    "\n",
    "# initialize and fit SuSi\n",
    "som = susi.SOMClassifier()\n",
    "som.fit(X_train, Y_train)\n",
    "\n",
    "# predict and calculate the accuracy score\n",
    "y_pred = som.predict(X_test)\n",
    "print(som.score(X_test, Y_test))"
   ]
  },
  {
   "cell_type": "markdown",
   "id": "c476a4a7",
   "metadata": {},
   "source": [
    "### Another way of SOM"
   ]
  },
  {
   "cell_type": "code",
   "execution_count": null,
   "id": "6aa36b82",
   "metadata": {},
   "outputs": [],
   "source": []
  }
 ],
 "metadata": {
  "kernelspec": {
   "display_name": "Python 3 (ipykernel)",
   "language": "python",
   "name": "python3"
  },
  "language_info": {
   "codemirror_mode": {
    "name": "ipython",
    "version": 3
   },
   "file_extension": ".py",
   "mimetype": "text/x-python",
   "name": "python",
   "nbconvert_exporter": "python",
   "pygments_lexer": "ipython3",
   "version": "3.9.13"
  }
 },
 "nbformat": 4,
 "nbformat_minor": 5
}
