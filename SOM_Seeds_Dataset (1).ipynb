{
 "cells": [
  {
   "cell_type": "code",
   "execution_count": 1,
   "metadata": {
    "id": "A-5SpsNimFBb"
   },
   "outputs": [],
   "source": [
    "import numpy as np\n",
    "import pandas as pd\n",
    "from numpy.ma.core import ceil\n",
    "from scipy.spatial import distance #distance calculation\n",
    "from sklearn.preprocessing import MinMaxScaler #normalisation\n",
    "from sklearn.model_selection import train_test_split\n",
    "from sklearn.metrics import accuracy_score #scoring\n",
    "from sklearn.metrics import confusion_matrix\n",
    "import matplotlib.pyplot as plt\n",
    "from matplotlib import animation, colors"
   ]
  },
  {
   "cell_type": "code",
   "execution_count": 2,
   "metadata": {
    "colab": {
     "base_uri": "https://localhost:8080/"
    },
    "id": "9KvMBeD4m6EN",
    "outputId": "25825534-1e7b-4e13-e39a-c8ae8db4f674"
   },
   "outputs": [
    {
     "name": "stdout",
     "output_type": "stream",
     "text": [
      "<class 'pandas.core.frame.DataFrame'>\n",
      "RangeIndex: 210 entries, 0 to 209\n",
      "Data columns (total 8 columns):\n",
      " #   Column                   Non-Null Count  Dtype  \n",
      "---  ------                   --------------  -----  \n",
      " 0   Area                     210 non-null    float64\n",
      " 1   Perimeter                210 non-null    float64\n",
      " 2   Compactness              210 non-null    float64\n",
      " 3   Length of Kernal         210 non-null    float64\n",
      " 4   Width of Kernal          210 non-null    float64\n",
      " 5   Asymmetric Coefficient   210 non-null    float64\n",
      " 6   Length of Kernal Groove  210 non-null    float64\n",
      " 7   Class                    210 non-null    int64  \n",
      "dtypes: float64(7), int64(1)\n",
      "memory usage: 13.2 KB\n"
     ]
    }
   ],
   "source": [
    "df = pd.read_csv(\"/Users/alsabbaghs/Downloads/seeds_dataset.csv\")\n",
    "df.info()"
   ]
  },
  {
   "cell_type": "code",
   "execution_count": 3,
   "metadata": {
    "colab": {
     "base_uri": "https://localhost:8080/"
    },
    "id": "I8L6zs56qWO-",
    "outputId": "d7888d06-7dc2-4bee-bef5-f76545c8d80f"
   },
   "outputs": [
    {
     "name": "stdout",
     "output_type": "stream",
     "text": [
      "(150, 7) (150,) (60, 7) (60,)\n"
     ]
    }
   ],
   "source": [
    "X_train, X_test, Y_train, Y_test = train_test_split(df.drop(\"Class\", axis = 1), df[\"Class\"], test_size = 0.2857, random_state = 42, shuffle = True)\n",
    "print(X_train.shape, Y_train.shape, X_test.shape, Y_test.shape)"
   ]
  },
  {
   "cell_type": "code",
   "execution_count": 4,
   "metadata": {
    "id": "8EKyoZlArVEB"
   },
   "outputs": [],
   "source": [
    "#Normalization\n",
    "def minmax_scaler(data):\n",
    "    scaler = MinMaxScaler()\n",
    "    scaled = scaler.fit_transform(data)\n",
    "    return scaled\n",
    "\n",
    "#Euclidean distance\n",
    "def e_distance(x, y):\n",
    "    return distance.euclidean(x, y)\n",
    "\n",
    "#Manhanttan distance\n",
    "def m_distance(x, y):\n",
    "    return distance.cityblock(x, y)\n",
    "\n",
    "#Best Matching Unit search\n",
    "def winning_neuron(data, t, som, num_rows, num_cols):\n",
    "  winner = [0,0]\n",
    "  shortest_distance = np.sqrt(data.shape[1]) # initialise with max distance\n",
    "  input_data = data[t]\n",
    "  for row in range(num_rows):\n",
    "    for col in range(num_cols):\n",
    "      distance = e_distance(som[row][col], data[t])\n",
    "      if distance < shortest_distance: \n",
    "        shortest_distance = distance\n",
    "        winner = [row,col]\n",
    "  return winner\n",
    "\n",
    "#Learning rate and neighbourhood range calculation\n",
    "def decay(step, max_steps,max_learning_rate,max_m_dsitance):\n",
    "  coefficient = 1.0 - (np.float64(step)/max_steps)\n",
    "  learning_rate = coefficient*max_learning_rate\n",
    "  neighbourhood_range = ceil(coefficient * max_m_dsitance)\n",
    "  return learning_rate, neighbourhood_range\n",
    "\n"
   ]
  },
  {
   "cell_type": "code",
   "execution_count": 5,
   "metadata": {
    "colab": {
     "base_uri": "https://localhost:8080/"
    },
    "id": "QHggovJHELFs",
    "outputId": "589adffd-ee71-46e8-8359-0361c70a993e"
   },
   "outputs": [
    {
     "name": "stdout",
     "output_type": "stream",
     "text": [
      "10.0\n"
     ]
    }
   ],
   "source": [
    "#tuning parameters/ hyperparameters\n",
    "#could alter the value of accuracy \n",
    "\n",
    "num_rows = 10\n",
    "num_cols = 10\n",
    "max_m_dsitance = 7\n",
    "max_learning_rate = 0.5\n",
    "max_steps = 100000\n",
    "\n",
    "num_nurons = 7 * np.sqrt(X_train.shape[0])\n",
    "grid_size = ceil(np.sqrt(num_nurons))\n",
    "print(grid_size)"
   ]
  },
  {
   "cell_type": "code",
   "execution_count": 6,
   "metadata": {
    "colab": {
     "base_uri": "https://localhost:8080/"
    },
    "id": "nS3teVJbEN3t",
    "outputId": "d3291255-0790-4db4-aa25-7d6ea71a5bce"
   },
   "outputs": [
    {
     "name": "stdout",
     "output_type": "stream",
     "text": [
      "[[0.07932011 0.14876033 0.2473223  ... 0.0634355  0.18930164 0.3097524 ]\n",
      " [0.36543909 0.40082645 0.71762415 ... 0.53243051 0.26484547 0.2652855 ]\n",
      " [0.79225685 0.85950413 0.59006816 ... 0.65716322 0.17928981 0.97726124]\n",
      " ...\n",
      " [0.77620397 0.80165289 0.80331061 ... 0.75766215 0.32140582 0.77513896]\n",
      " [0.1529745  0.21900826 0.36222006 ... 0.18745545 0.11648832 0.33299646]\n",
      " [0.83758263 0.84504132 0.88023369 ... 0.89950107 0.4606613  0.75290551]]\n",
      "Iteration:  1000\n",
      "Iteration:  2000\n",
      "Iteration:  3000\n",
      "Iteration:  4000\n",
      "Iteration:  5000\n",
      "Iteration:  6000\n",
      "Iteration:  7000\n",
      "Iteration:  8000\n",
      "Iteration:  9000\n",
      "Iteration:  10000\n",
      "Iteration:  11000\n",
      "Iteration:  12000\n",
      "Iteration:  13000\n",
      "Iteration:  14000\n",
      "Iteration:  15000\n",
      "Iteration:  16000\n",
      "Iteration:  17000\n",
      "Iteration:  18000\n",
      "Iteration:  19000\n",
      "Iteration:  20000\n",
      "Iteration:  21000\n",
      "Iteration:  22000\n",
      "Iteration:  23000\n",
      "Iteration:  24000\n",
      "Iteration:  25000\n",
      "Iteration:  26000\n",
      "Iteration:  27000\n",
      "Iteration:  28000\n",
      "Iteration:  29000\n",
      "Iteration:  30000\n",
      "Iteration:  31000\n",
      "Iteration:  32000\n",
      "Iteration:  33000\n",
      "Iteration:  34000\n",
      "Iteration:  35000\n",
      "Iteration:  36000\n",
      "Iteration:  37000\n",
      "Iteration:  38000\n",
      "Iteration:  39000\n",
      "Iteration:  40000\n",
      "Iteration:  41000\n",
      "Iteration:  42000\n",
      "Iteration:  43000\n",
      "Iteration:  44000\n",
      "Iteration:  45000\n",
      "Iteration:  46000\n",
      "Iteration:  47000\n",
      "Iteration:  48000\n",
      "Iteration:  49000\n",
      "Iteration:  50000\n",
      "Iteration:  51000\n",
      "Iteration:  52000\n",
      "Iteration:  53000\n",
      "Iteration:  54000\n",
      "Iteration:  55000\n",
      "Iteration:  56000\n",
      "Iteration:  57000\n",
      "Iteration:  58000\n",
      "Iteration:  59000\n",
      "Iteration:  60000\n",
      "Iteration:  61000\n",
      "Iteration:  62000\n",
      "Iteration:  63000\n",
      "Iteration:  64000\n",
      "Iteration:  65000\n",
      "Iteration:  66000\n",
      "Iteration:  67000\n",
      "Iteration:  68000\n",
      "Iteration:  69000\n",
      "Iteration:  70000\n",
      "Iteration:  71000\n",
      "Iteration:  72000\n",
      "Iteration:  73000\n",
      "Iteration:  74000\n",
      "Iteration:  75000\n",
      "Iteration:  76000\n",
      "Iteration:  77000\n",
      "Iteration:  78000\n",
      "Iteration:  79000\n",
      "Iteration:  80000\n",
      "Iteration:  81000\n",
      "Iteration:  82000\n",
      "Iteration:  83000\n",
      "Iteration:  84000\n",
      "Iteration:  85000\n",
      "Iteration:  86000\n",
      "Iteration:  87000\n",
      "Iteration:  88000\n",
      "Iteration:  89000\n",
      "Iteration:  90000\n",
      "Iteration:  91000\n",
      "Iteration:  92000\n",
      "Iteration:  93000\n",
      "Iteration:  94000\n",
      "Iteration:  95000\n",
      "Iteration:  96000\n",
      "Iteration:  97000\n",
      "Iteration:  98000\n",
      "Iteration:  99000\n",
      "Iteration:  100000\n",
      "SOM training completed\n"
     ]
    }
   ],
   "source": [
    "#mian function\n",
    "\n",
    "train_x_norm = minmax_scaler(X_train) # normalisation\n",
    "print(train_x_norm)\n",
    "\n",
    "# initialising self-organising map\n",
    "num_dims = train_x_norm.shape[1] # numnber of dimensions in the input data\n",
    "np.random.seed(40)\n",
    "som = np.random.random_sample(size=(num_rows, num_cols, num_dims)) # map construction\n",
    "\n",
    "# start training iterations\n",
    "for step in range(max_steps):\n",
    "  if (step+1) % 1000 == 0:\n",
    "    print(\"Iteration: \", step+1) # print out the current iteration for every 1k\n",
    "  learning_rate, neighbourhood_range = decay(step, max_steps,max_learning_rate,max_m_dsitance)\n",
    "\n",
    "  t = np.random.randint(0,high=train_x_norm.shape[0]) # random index of traing data\n",
    "  winner = winning_neuron(train_x_norm, t, som, num_rows, num_cols)\n",
    "  for row in range(num_rows):\n",
    "    for col in range(num_cols):\n",
    "      if m_distance([row,col],winner) <= neighbourhood_range:\n",
    "        som[row][col] += learning_rate*(train_x_norm[t]-som[row][col]) #update neighbour's weight\n",
    "\n",
    "print(\"SOM training completed\")"
   ]
  },
  {
   "cell_type": "code",
   "execution_count": 7,
   "metadata": {
    "colab": {
     "background_save": true
    },
    "id": "Bud8MHjEF6v1"
   },
   "outputs": [],
   "source": [
    "label_data = np.array(Y_train)\n",
    "map = np.empty(shape=(num_rows, num_cols), dtype=object)\n",
    "#print(len(label_data))\n",
    "\n",
    "for row in range(num_rows):\n",
    "  for col in range(num_cols):\n",
    "    map[row][col] = [] # empty list to store the label\n",
    "\n",
    "for t in range(train_x_norm.shape[0]):\n",
    "  if (t+1) % 1000 == 0:\n",
    "    print(\"sample data: \", t+1)\n",
    "  winner = winning_neuron(train_x_norm, t, som, num_rows, num_cols)\n",
    "  #print(winner)\n",
    "  map[winner[0]][winner[1]].append(label_data[t]) # label of winning neuron"
   ]
  },
  {
   "cell_type": "code",
   "execution_count": 8,
   "metadata": {
    "colab": {
     "base_uri": "https://localhost:8080/",
     "height": 281
    },
    "id": "_ONfqFSsKi7x",
    "outputId": "62accdc4-c6d8-40ef-8bb0-18400c7a2ce6"
   },
   "outputs": [
    {
     "data": {
      "image/png": "[encoded data removed]",
      "text/plain": [
       "<Figure size 640x480 with 2 Axes>"
      ]
     },
     "metadata": {},
     "output_type": "display_data"
    }
   ],
   "source": [
    "label_map = np.zeros(shape=(num_rows, num_cols),dtype=np.int64)\n",
    "for row in range(num_rows):\n",
    "  for col in range(num_cols):\n",
    "    label_list = map[row][col]\n",
    "    if len(label_list)==0:\n",
    "      label = 2\n",
    "    else:\n",
    "      label = max(label_list, key=label_list.count)\n",
    "    label_map[row][col] = label\n",
    "\n",
    "title = ('Iteration ' + str(max_steps))\n",
    "cmap = colors.ListedColormap(['tab:green', 'tab:red', 'tab:orange'])\n",
    "plt.imshow(label_map, cmap=cmap)\n",
    "plt.colorbar()\n",
    "plt.title(title)\n",
    "plt.show()"
   ]
  },
  {
   "cell_type": "code",
   "execution_count": 9,
   "metadata": {
    "colab": {
     "base_uri": "https://localhost:8080/"
    },
    "id": "c8p-1hvjFBGN",
    "outputId": "fd3e45ef-5929-4b74-f834-eb87cbd3bf05"
   },
   "outputs": [
    {
     "name": "stdout",
     "output_type": "stream",
     "text": [
      "Accuracy:  0.8\n"
     ]
    }
   ],
   "source": [
    "# test data\n",
    "\n",
    "# using the trained som, search the winning node of corresponding to the test data\n",
    "# get the label of the winning node\n",
    "\n",
    "data = minmax_scaler(X_test) # normalisation\n",
    "\n",
    "winner_labels = []\n",
    "\n",
    "for t in range(data.shape[0]):\n",
    " winner = winning_neuron(data, t, som, num_rows, num_cols)\n",
    " row = winner[0]\n",
    " col = winner[1]\n",
    " predicted = label_map[row][col]\n",
    " winner_labels.append(predicted)\n",
    "\n",
    "print(\"Accuracy: \",accuracy_score(Y_test, np.array(winner_labels)))"
   ]
  },
  {
   "cell_type": "code",
   "execution_count": null,
   "metadata": {
    "id": "154DF5_OFsPA"
   },
   "outputs": [],
   "source": []
  }
 ],
 "metadata": {
  "colab": {
   "provenance": []
  },
  "kernelspec": {
   "display_name": "Python 3 (ipykernel)",
   "language": "python",
   "name": "python3"
  },
  "language_info": {
   "codemirror_mode": {
    "name": "ipython",
    "version": 3
   },
   "file_extension": ".py",
   "mimetype": "text/x-python",
   "name": "python",
   "nbconvert_exporter": "python",
   "pygments_lexer": "ipython3",
   "version": "3.9.13"
  }
 },
 "nbformat": 4,
 "nbformat_minor": 1
}
