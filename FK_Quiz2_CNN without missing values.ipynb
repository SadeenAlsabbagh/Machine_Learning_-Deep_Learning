{
 "cells": [
  {
   "cell_type": "code",
   "execution_count": 73,
   "metadata": {
    "id": "_X2Ffck4i8YA"
   },
   "outputs": [],
   "source": [
    "import numpy as np \n",
    "import math\n",
    "import tensorflow as tf\n",
    "from numpy.ma.core import ceil\n",
    "import pandas as pd\n",
    "from matplotlib import pyplot as plt\n",
    "from matplotlib import animation, colors\n",
    "from sklearn import preprocessing as sk_preprocessing\n",
    "from sklearn.preprocessing import StandardScaler #normalization\n",
    "from sklearn.preprocessing import MinMaxScaler #normalization\n",
    "from sklearn.metrics import accuracy_score #scoring\n",
    "from sklearn.metrics import confusion_matrix\n",
    "from sklearn.decomposition import PCA\n",
    "from sklearn.model_selection import train_test_split\n",
    "from keras.models import Sequential\n",
    "from keras.layers import Conv1D, MaxPooling1D, Flatten, Dense\n",
    "from tensorflow.keras import datasets, layers, models\n",
    "from sklearn.metrics import confusion_matrix\n",
    "import os"
   ]
  },
  {
   "cell_type": "code",
   "execution_count": 74,
   "metadata": {},
   "outputs": [
    {
     "data": {
      "text/html": [
       "<div>\n",
       "<style scoped>\n",
       "    .dataframe tbody tr th:only-of-type {\n",
       "        vertical-align: middle;\n",
       "    }\n",
       "\n",
       "    .dataframe tbody tr th {\n",
       "        vertical-align: top;\n",
       "    }\n",
       "\n",
       "    .dataframe thead th {\n",
       "        text-align: right;\n",
       "    }\n",
       "</style>\n",
       "<table border=\"1\" class=\"dataframe\">\n",
       "  <thead>\n",
       "    <tr style=\"text-align: right;\">\n",
       "      <th></th>\n",
       "      <th>id</th>\n",
       "      <th>age</th>\n",
       "      <th>bp</th>\n",
       "      <th>sg</th>\n",
       "      <th>al</th>\n",
       "      <th>su</th>\n",
       "      <th>rbc</th>\n",
       "      <th>pc</th>\n",
       "      <th>pcc</th>\n",
       "      <th>ba</th>\n",
       "      <th>...</th>\n",
       "      <th>pcv</th>\n",
       "      <th>wc</th>\n",
       "      <th>rc</th>\n",
       "      <th>htn</th>\n",
       "      <th>dm</th>\n",
       "      <th>cad</th>\n",
       "      <th>appet</th>\n",
       "      <th>pe</th>\n",
       "      <th>ane</th>\n",
       "      <th>classification</th>\n",
       "    </tr>\n",
       "  </thead>\n",
       "  <tbody>\n",
       "    <tr>\n",
       "      <th>0</th>\n",
       "      <td>0</td>\n",
       "      <td>48.0</td>\n",
       "      <td>80.0</td>\n",
       "      <td>1.020</td>\n",
       "      <td>1.0</td>\n",
       "      <td>0.0</td>\n",
       "      <td>NaN</td>\n",
       "      <td>normal</td>\n",
       "      <td>notpresent</td>\n",
       "      <td>notpresent</td>\n",
       "      <td>...</td>\n",
       "      <td>44</td>\n",
       "      <td>7800</td>\n",
       "      <td>5.2</td>\n",
       "      <td>yes</td>\n",
       "      <td>yes</td>\n",
       "      <td>no</td>\n",
       "      <td>good</td>\n",
       "      <td>no</td>\n",
       "      <td>no</td>\n",
       "      <td>ckd</td>\n",
       "    </tr>\n",
       "    <tr>\n",
       "      <th>1</th>\n",
       "      <td>1</td>\n",
       "      <td>7.0</td>\n",
       "      <td>50.0</td>\n",
       "      <td>1.020</td>\n",
       "      <td>4.0</td>\n",
       "      <td>0.0</td>\n",
       "      <td>NaN</td>\n",
       "      <td>normal</td>\n",
       "      <td>notpresent</td>\n",
       "      <td>notpresent</td>\n",
       "      <td>...</td>\n",
       "      <td>38</td>\n",
       "      <td>6000</td>\n",
       "      <td>NaN</td>\n",
       "      <td>no</td>\n",
       "      <td>no</td>\n",
       "      <td>no</td>\n",
       "      <td>good</td>\n",
       "      <td>no</td>\n",
       "      <td>no</td>\n",
       "      <td>ckd</td>\n",
       "    </tr>\n",
       "    <tr>\n",
       "      <th>2</th>\n",
       "      <td>2</td>\n",
       "      <td>62.0</td>\n",
       "      <td>80.0</td>\n",
       "      <td>1.010</td>\n",
       "      <td>2.0</td>\n",
       "      <td>3.0</td>\n",
       "      <td>normal</td>\n",
       "      <td>normal</td>\n",
       "      <td>notpresent</td>\n",
       "      <td>notpresent</td>\n",
       "      <td>...</td>\n",
       "      <td>31</td>\n",
       "      <td>7500</td>\n",
       "      <td>NaN</td>\n",
       "      <td>no</td>\n",
       "      <td>yes</td>\n",
       "      <td>no</td>\n",
       "      <td>poor</td>\n",
       "      <td>no</td>\n",
       "      <td>yes</td>\n",
       "      <td>ckd</td>\n",
       "    </tr>\n",
       "    <tr>\n",
       "      <th>3</th>\n",
       "      <td>3</td>\n",
       "      <td>48.0</td>\n",
       "      <td>70.0</td>\n",
       "      <td>1.005</td>\n",
       "      <td>4.0</td>\n",
       "      <td>0.0</td>\n",
       "      <td>normal</td>\n",
       "      <td>abnormal</td>\n",
       "      <td>present</td>\n",
       "      <td>notpresent</td>\n",
       "      <td>...</td>\n",
       "      <td>32</td>\n",
       "      <td>6700</td>\n",
       "      <td>3.9</td>\n",
       "      <td>yes</td>\n",
       "      <td>no</td>\n",
       "      <td>no</td>\n",
       "      <td>poor</td>\n",
       "      <td>yes</td>\n",
       "      <td>yes</td>\n",
       "      <td>ckd</td>\n",
       "    </tr>\n",
       "    <tr>\n",
       "      <th>4</th>\n",
       "      <td>4</td>\n",
       "      <td>51.0</td>\n",
       "      <td>80.0</td>\n",
       "      <td>1.010</td>\n",
       "      <td>2.0</td>\n",
       "      <td>0.0</td>\n",
       "      <td>normal</td>\n",
       "      <td>normal</td>\n",
       "      <td>notpresent</td>\n",
       "      <td>notpresent</td>\n",
       "      <td>...</td>\n",
       "      <td>35</td>\n",
       "      <td>7300</td>\n",
       "      <td>4.6</td>\n",
       "      <td>no</td>\n",
       "      <td>no</td>\n",
       "      <td>no</td>\n",
       "      <td>good</td>\n",
       "      <td>no</td>\n",
       "      <td>no</td>\n",
       "      <td>ckd</td>\n",
       "    </tr>\n",
       "  </tbody>\n",
       "</table>\n",
       "<p>5 rows × 26 columns</p>\n",
       "</div>"
      ],
      "text/plain": [
       "   id   age    bp     sg   al   su     rbc        pc         pcc          ba  \\\n",
       "0   0  48.0  80.0  1.020  1.0  0.0     NaN    normal  notpresent  notpresent   \n",
       "1   1   7.0  50.0  1.020  4.0  0.0     NaN    normal  notpresent  notpresent   \n",
       "2   2  62.0  80.0  1.010  2.0  3.0  normal    normal  notpresent  notpresent   \n",
       "3   3  48.0  70.0  1.005  4.0  0.0  normal  abnormal     present  notpresent   \n",
       "4   4  51.0  80.0  1.010  2.0  0.0  normal    normal  notpresent  notpresent   \n",
       "\n",
       "   ...  pcv    wc   rc  htn   dm  cad appet   pe  ane classification  \n",
       "0  ...   44  7800  5.2  yes  yes   no  good   no   no            ckd  \n",
       "1  ...   38  6000  NaN   no   no   no  good   no   no            ckd  \n",
       "2  ...   31  7500  NaN   no  yes   no  poor   no  yes            ckd  \n",
       "3  ...   32  6700  3.9  yes   no   no  poor  yes  yes            ckd  \n",
       "4  ...   35  7300  4.6   no   no   no  good   no   no            ckd  \n",
       "\n",
       "[5 rows x 26 columns]"
      ]
     },
     "execution_count": 74,
     "metadata": {},
     "output_type": "execute_result"
    }
   ],
   "source": [
    "df = pd.read_csv('Kidney_data.csv')\n",
    "df.head()"
   ]
  },
  {
   "cell_type": "code",
   "execution_count": 75,
   "metadata": {},
   "outputs": [
    {
     "name": "stdout",
     "output_type": "stream",
     "text": [
      "ckd       248\n",
      "notckd    150\n",
      "ckd\\t       2\n",
      "Name: classification, dtype: int64\n"
     ]
    }
   ],
   "source": [
    "counts = df['classification'].value_counts()\n",
    "print(counts)"
   ]
  },
  {
   "cell_type": "code",
   "execution_count": 76,
   "metadata": {},
   "outputs": [
    {
     "name": "stdout",
     "output_type": "stream",
     "text": [
      "0       True\n",
      "1       True\n",
      "2       True\n",
      "3      False\n",
      "4       True\n",
      "       ...  \n",
      "395    False\n",
      "396    False\n",
      "397    False\n",
      "398    False\n",
      "399    False\n",
      "Length: 400, dtype: bool\n",
      "      age    bp     sg   al   su     rbc        pc         pcc          ba  \\\n",
      "0    48.0  80.0  1.020  1.0  0.0     NaN    normal  notpresent  notpresent   \n",
      "1     7.0  50.0  1.020  4.0  0.0     NaN    normal  notpresent  notpresent   \n",
      "2    62.0  80.0  1.010  2.0  3.0  normal    normal  notpresent  notpresent   \n",
      "3    48.0  70.0  1.005  4.0  0.0  normal  abnormal     present  notpresent   \n",
      "4    51.0  80.0  1.010  2.0  0.0  normal    normal  notpresent  notpresent   \n",
      "..    ...   ...    ...  ...  ...     ...       ...         ...         ...   \n",
      "395  55.0  80.0  1.020  0.0  0.0  normal    normal  notpresent  notpresent   \n",
      "396  42.0  70.0  1.025  0.0  0.0  normal    normal  notpresent  notpresent   \n",
      "397  12.0  80.0  1.020  0.0  0.0  normal    normal  notpresent  notpresent   \n",
      "398  17.0  60.0  1.025  0.0  0.0  normal    normal  notpresent  notpresent   \n",
      "399  58.0  80.0  1.025  0.0  0.0  normal    normal  notpresent  notpresent   \n",
      "\n",
      "       bgr  ...  hemo  pcv    wc   rc  htn   dm cad appet   pe  ane  \n",
      "0    121.0  ...  15.4   44  7800  5.2  yes  yes  no  good   no   no  \n",
      "1      NaN  ...  11.3   38  6000  NaN   no   no  no  good   no   no  \n",
      "2    423.0  ...   9.6   31  7500  NaN   no  yes  no  poor   no  yes  \n",
      "3    117.0  ...  11.2   32  6700  3.9  yes   no  no  poor  yes  yes  \n",
      "4    106.0  ...  11.6   35  7300  4.6   no   no  no  good   no   no  \n",
      "..     ...  ...   ...  ...   ...  ...  ...  ...  ..   ...  ...  ...  \n",
      "395  140.0  ...  15.7   47  6700  4.9   no   no  no  good   no   no  \n",
      "396   75.0  ...  16.5   54  7800  6.2   no   no  no  good   no   no  \n",
      "397  100.0  ...  15.8   49  6600  5.4   no   no  no  good   no   no  \n",
      "398  114.0  ...  14.2   51  7200  5.9   no   no  no  good   no   no  \n",
      "399  131.0  ...  15.8   53  6800  6.1   no   no  no  good   no   no  \n",
      "\n",
      "[400 rows x 24 columns]\n"
     ]
    }
   ],
   "source": [
    "print(df.isnull().any(axis=1)) #checking to verify if there is missing values\n",
    "\n",
    "print(df.loc[:, df.isnull().any()]) #checking for Null\n",
    "# df = df.dropna(axis=1) #removing missing value. \n",
    "#When I remove all of the columns with missing values, only 1 attribute will be left. Therefore I am replacing missing values with 0 instead of deleting it completely. \n",
    "\n",
    "# df = df.replace(np.nan, 0) #replacing the missing values with 0\n",
    "df = df.dropna(axis =0, how = 'any') #removing rows with missing values"
   ]
  },
  {
   "cell_type": "code",
   "execution_count": 77,
   "metadata": {},
   "outputs": [
    {
     "name": "stdout",
     "output_type": "stream",
     "text": [
      "3      False\n",
      "9      False\n",
      "11     False\n",
      "14     False\n",
      "20     False\n",
      "       ...  \n",
      "395    False\n",
      "396    False\n",
      "397    False\n",
      "398    False\n",
      "399    False\n",
      "Length: 158, dtype: bool\n",
      "notckd    115\n",
      "ckd        43\n",
      "Name: classification, dtype: int64\n"
     ]
    }
   ],
   "source": [
    "print(df.isnull().any(axis=1)) #checking again to verify if there is still missing values\n",
    "\n",
    "counts = df['classification'].value_counts()\n",
    "print(counts)"
   ]
  },
  {
   "cell_type": "code",
   "execution_count": 78,
   "metadata": {},
   "outputs": [],
   "source": [
    "#removing all of the columns without numerical values since I do not think it will affect the data\n",
    "df.drop(columns=['ba', 'rbc', 'pc', 'pcc', 'htn','dm', 'cad','appet', 'pe','ane'], inplace=True)"
   ]
  },
  {
   "cell_type": "code",
   "execution_count": 79,
   "metadata": {},
   "outputs": [
    {
     "data": {
      "text/html": [
       "<div>\n",
       "<style scoped>\n",
       "    .dataframe tbody tr th:only-of-type {\n",
       "        vertical-align: middle;\n",
       "    }\n",
       "\n",
       "    .dataframe tbody tr th {\n",
       "        vertical-align: top;\n",
       "    }\n",
       "\n",
       "    .dataframe thead th {\n",
       "        text-align: right;\n",
       "    }\n",
       "</style>\n",
       "<table border=\"1\" class=\"dataframe\">\n",
       "  <thead>\n",
       "    <tr style=\"text-align: right;\">\n",
       "      <th></th>\n",
       "      <th>id</th>\n",
       "      <th>age</th>\n",
       "      <th>bp</th>\n",
       "      <th>sg</th>\n",
       "      <th>al</th>\n",
       "      <th>su</th>\n",
       "      <th>bgr</th>\n",
       "      <th>bu</th>\n",
       "      <th>sc</th>\n",
       "      <th>sod</th>\n",
       "      <th>pot</th>\n",
       "      <th>hemo</th>\n",
       "      <th>pcv</th>\n",
       "      <th>wc</th>\n",
       "      <th>rc</th>\n",
       "      <th>classification</th>\n",
       "    </tr>\n",
       "  </thead>\n",
       "  <tbody>\n",
       "    <tr>\n",
       "      <th>3</th>\n",
       "      <td>3</td>\n",
       "      <td>48.0</td>\n",
       "      <td>70.0</td>\n",
       "      <td>1.005</td>\n",
       "      <td>4.0</td>\n",
       "      <td>0.0</td>\n",
       "      <td>117.0</td>\n",
       "      <td>56.0</td>\n",
       "      <td>3.8</td>\n",
       "      <td>111.0</td>\n",
       "      <td>2.5</td>\n",
       "      <td>11.2</td>\n",
       "      <td>32</td>\n",
       "      <td>6700</td>\n",
       "      <td>3.9</td>\n",
       "      <td>ckd</td>\n",
       "    </tr>\n",
       "    <tr>\n",
       "      <th>9</th>\n",
       "      <td>9</td>\n",
       "      <td>53.0</td>\n",
       "      <td>90.0</td>\n",
       "      <td>1.020</td>\n",
       "      <td>2.0</td>\n",
       "      <td>0.0</td>\n",
       "      <td>70.0</td>\n",
       "      <td>107.0</td>\n",
       "      <td>7.2</td>\n",
       "      <td>114.0</td>\n",
       "      <td>3.7</td>\n",
       "      <td>9.5</td>\n",
       "      <td>29</td>\n",
       "      <td>12100</td>\n",
       "      <td>3.7</td>\n",
       "      <td>ckd</td>\n",
       "    </tr>\n",
       "    <tr>\n",
       "      <th>11</th>\n",
       "      <td>11</td>\n",
       "      <td>63.0</td>\n",
       "      <td>70.0</td>\n",
       "      <td>1.010</td>\n",
       "      <td>3.0</td>\n",
       "      <td>0.0</td>\n",
       "      <td>380.0</td>\n",
       "      <td>60.0</td>\n",
       "      <td>2.7</td>\n",
       "      <td>131.0</td>\n",
       "      <td>4.2</td>\n",
       "      <td>10.8</td>\n",
       "      <td>32</td>\n",
       "      <td>4500</td>\n",
       "      <td>3.8</td>\n",
       "      <td>ckd</td>\n",
       "    </tr>\n",
       "    <tr>\n",
       "      <th>14</th>\n",
       "      <td>14</td>\n",
       "      <td>68.0</td>\n",
       "      <td>80.0</td>\n",
       "      <td>1.010</td>\n",
       "      <td>3.0</td>\n",
       "      <td>2.0</td>\n",
       "      <td>157.0</td>\n",
       "      <td>90.0</td>\n",
       "      <td>4.1</td>\n",
       "      <td>130.0</td>\n",
       "      <td>6.4</td>\n",
       "      <td>5.6</td>\n",
       "      <td>16</td>\n",
       "      <td>11000</td>\n",
       "      <td>2.6</td>\n",
       "      <td>ckd</td>\n",
       "    </tr>\n",
       "    <tr>\n",
       "      <th>20</th>\n",
       "      <td>20</td>\n",
       "      <td>61.0</td>\n",
       "      <td>80.0</td>\n",
       "      <td>1.015</td>\n",
       "      <td>2.0</td>\n",
       "      <td>0.0</td>\n",
       "      <td>173.0</td>\n",
       "      <td>148.0</td>\n",
       "      <td>3.9</td>\n",
       "      <td>135.0</td>\n",
       "      <td>5.2</td>\n",
       "      <td>7.7</td>\n",
       "      <td>24</td>\n",
       "      <td>9200</td>\n",
       "      <td>3.2</td>\n",
       "      <td>ckd</td>\n",
       "    </tr>\n",
       "  </tbody>\n",
       "</table>\n",
       "</div>"
      ],
      "text/plain": [
       "    id   age    bp     sg   al   su    bgr     bu   sc    sod  pot  hemo pcv  \\\n",
       "3    3  48.0  70.0  1.005  4.0  0.0  117.0   56.0  3.8  111.0  2.5  11.2  32   \n",
       "9    9  53.0  90.0  1.020  2.0  0.0   70.0  107.0  7.2  114.0  3.7   9.5  29   \n",
       "11  11  63.0  70.0  1.010  3.0  0.0  380.0   60.0  2.7  131.0  4.2  10.8  32   \n",
       "14  14  68.0  80.0  1.010  3.0  2.0  157.0   90.0  4.1  130.0  6.4   5.6  16   \n",
       "20  20  61.0  80.0  1.015  2.0  0.0  173.0  148.0  3.9  135.0  5.2   7.7  24   \n",
       "\n",
       "       wc   rc classification  \n",
       "3    6700  3.9            ckd  \n",
       "9   12100  3.7            ckd  \n",
       "11   4500  3.8            ckd  \n",
       "14  11000  2.6            ckd  \n",
       "20   9200  3.2            ckd  "
      ]
     },
     "execution_count": 79,
     "metadata": {},
     "output_type": "execute_result"
    }
   ],
   "source": [
    "df.head() # now we only have the columns with numerical values"
   ]
  },
  {
   "cell_type": "code",
   "execution_count": 80,
   "metadata": {
    "colab": {
     "base_uri": "https://localhost:8080/"
    },
    "id": "yK6tR7u-mTBe",
    "outputId": "ef0a6ceb-a746-4673-840f-3c2ba7ee56a6"
   },
   "outputs": [
    {
     "name": "stdout",
     "output_type": "stream",
     "text": [
      "[[-2.6476705  -0.10109832 -0.36361289 ... -1.09270478 -0.569768\n",
      "  -0.97602547]\n",
      " [-2.58923201  0.22225259  1.43172574 ... -1.42323578  1.1626841\n",
      "  -1.17285001]\n",
      " [-2.56975252  0.8689544  -0.36361289 ... -1.09270478 -1.27558182\n",
      "  -1.07443774]\n",
      " ...\n",
      " [ 1.18979042 -2.42922485  0.53405643 ...  0.78030418 -0.60185045\n",
      "   0.50015855]\n",
      " [ 1.19953017 -2.10587394 -1.2612822  ...  1.00065818 -0.40935577\n",
      "   0.99221989]\n",
      " [ 1.20926992  0.54560349  0.53405643 ...  1.22101217 -0.53768556\n",
      "   1.18904443]]\n",
      "3      1\n",
      "9      1\n",
      "11     1\n",
      "14     1\n",
      "20     1\n",
      "      ..\n",
      "395    2\n",
      "396    2\n",
      "397    2\n",
      "398    2\n",
      "399    2\n",
      "Name: classification, Length: 158, dtype: int64\n"
     ]
    }
   ],
   "source": [
    "X = df.drop('classification', axis = 1)\n",
    "Y = df['classification']\n",
    "\n",
    "standard_scaler = StandardScaler()\n",
    "standard_scaler.fit(X)\n",
    "X_normalized = standard_scaler.transform(X)\n",
    "print(X_normalized)\n",
    "\n",
    "Y_numerized = Y.replace(({'ckd': 1, 'notckd' : 2, 'ckd\\t': 3}))\n",
    "print(Y_numerized)"
   ]
  },
  {
   "cell_type": "code",
   "execution_count": 81,
   "metadata": {
    "colab": {
     "base_uri": "https://localhost:8080/",
     "height": 764
    },
    "id": "89ial96s028e",
    "outputId": "2f4f2047-3496-48e4-ed5c-cbdf8690b646"
   },
   "outputs": [
    {
     "name": "stderr",
     "output_type": "stream",
     "text": [
      "C:\\Users\\1\\anaconda3\\lib\\site-packages\\seaborn\\distributions.py:2619: FutureWarning: `distplot` is a deprecated function and will be removed in a future version. Please adapt your code to use either `displot` (a figure-level function with similar flexibility) or `histplot` (an axes-level function for histograms).\n",
      "  warnings.warn(msg, FutureWarning)\n"
     ]
    },
    {
     "data": {
      "image/png": "[encoded data removed]",
      "text/plain": [
       "<Figure size 600x600 with 1 Axes>"
      ]
     },
     "metadata": {},
     "output_type": "display_data"
    }
   ],
   "source": [
    "import seaborn as sns\n",
    "\n",
    "sns.set()\n",
    "plt.figure(figsize=(6,6))\n",
    "sns.distplot(Y_numerized)\n",
    "plt.title('Class Distribution')\n",
    "plt.show()\n",
    "\n",
    "#Note: The third class is extremely small which makes it difficult to be among the other classes on the bar chart"
   ]
  },
  {
   "cell_type": "code",
   "execution_count": 82,
   "metadata": {
    "colab": {
     "base_uri": "https://localhost:8080/"
    },
    "id": "-f4scKAAmXH2",
    "outputId": "fad114e5-33bf-4196-8979-bddb1ecdf4d4"
   },
   "outputs": [
    {
     "name": "stdout",
     "output_type": "stream",
     "text": [
      "(110, 15) (110,) (48, 15) (48,)\n"
     ]
    }
   ],
   "source": [
    "# train and test split\n",
    "train_x, test_x, train_y, test_y = train_test_split(X_normalized, Y_numerized, test_size=0.3, random_state=42)\n",
    "print(train_x.shape, train_y.shape, test_x.shape, test_y.shape) # check the shapes"
   ]
  },
  {
   "cell_type": "code",
   "execution_count": 90,
   "metadata": {},
   "outputs": [
    {
     "name": "stdout",
     "output_type": "stream",
     "text": [
      "[[-2.6476705  -0.10109832 -0.36361289 ... -1.09270478 -0.569768\n",
      "  -0.97602547]\n",
      " [-2.58923201  0.22225259  1.43172574 ... -1.42323578  1.1626841\n",
      "  -1.17285001]\n",
      " [-2.56975252  0.8689544  -0.36361289 ... -1.09270478 -1.27558182\n",
      "  -1.07443774]\n",
      " ...\n",
      " [ 1.18979042 -2.42922485  0.53405643 ...  0.78030418 -0.60185045\n",
      "   0.50015855]\n",
      " [ 1.19953017 -2.10587394 -1.2612822  ...  1.00065818 -0.40935577\n",
      "   0.99221989]\n",
      " [ 1.20926992  0.54560349  0.53405643 ...  1.22101217 -0.53768556\n",
      "   1.18904443]]\n",
      "3      1\n",
      "9      1\n",
      "11     1\n",
      "14     1\n",
      "20     1\n",
      "      ..\n",
      "395    2\n",
      "396    2\n",
      "397    2\n",
      "398    2\n",
      "399    2\n",
      "Name: classification, Length: 158, dtype: int64\n"
     ]
    }
   ],
   "source": [
    "print(X_normalized)\n",
    "print(Y_numerized)"
   ]
  },
  {
   "cell_type": "code",
   "execution_count": 83,
   "metadata": {
    "id": "KJfSF34FxOsF"
   },
   "outputs": [],
   "source": [
    "from keras.models import Sequential\n",
    "model = Sequential()\n",
    "model.add(Conv1D(filters=64, kernel_size=3, activation='relu', input_shape=(15,1)))\n",
    "model.add(Conv1D(filters=64, kernel_size=5, activation='relu'))\n",
    "model.add(MaxPooling1D(pool_size=2))\n",
    "\n",
    "model.add(Conv1D(filters=128, kernel_size=3, activation='relu'))\n",
    "model.add(MaxPooling1D(pool_size=2))\n",
    "\n",
    "model.add(Flatten())\n",
    "model.add(Dense(3, activation='relu'))\n",
    "model.add(Dense(3, activation='softmax'))\n",
    "\n",
    "model.compile(loss='sparse_categorical_crossentropy', optimizer='adam', metrics=['accuracy'])"
   ]
  },
  {
   "cell_type": "code",
   "execution_count": 84,
   "metadata": {
    "colab": {
     "base_uri": "https://localhost:8080/"
    },
    "id": "jjaVhIcSyF6l",
    "outputId": "fb5a16d7-b08c-4ca8-b529-495156ce1be5"
   },
   "outputs": [
    {
     "name": "stdout",
     "output_type": "stream",
     "text": [
      "Epoch 1/10\n",
      "4/4 [==============================] - 1s 10ms/step - loss: 1.0192 - accuracy: 0.5636\n",
      "Epoch 2/10\n",
      "4/4 [==============================] - 0s 8ms/step - loss: 0.8156 - accuracy: 0.2727\n",
      "Epoch 3/10\n",
      "4/4 [==============================] - 0s 6ms/step - loss: 0.7064 - accuracy: 0.2727\n",
      "Epoch 4/10\n",
      "4/4 [==============================] - 0s 6ms/step - loss: 0.6415 - accuracy: 0.2818\n",
      "Epoch 5/10\n",
      "4/4 [==============================] - 0s 4ms/step - loss: 0.5627 - accuracy: 0.7182\n",
      "Epoch 6/10\n",
      "4/4 [==============================] - 0s 6ms/step - loss: 0.5115 - accuracy: 0.9909\n",
      "Epoch 7/10\n",
      "4/4 [==============================] - 0s 5ms/step - loss: 0.4614 - accuracy: 1.0000\n",
      "Epoch 8/10\n",
      "4/4 [==============================] - 0s 6ms/step - loss: 0.4251 - accuracy: 1.0000\n",
      "Epoch 9/10\n",
      "4/4 [==============================] - 0s 3ms/step - loss: 0.3867 - accuracy: 1.0000\n",
      "Epoch 10/10\n",
      "4/4 [==============================] - 0s 6ms/step - loss: 0.3423 - accuracy: 1.0000\n"
     ]
    },
    {
     "data": {
      "text/plain": [
       "<keras.callbacks.History at 0x2a586fa5bb0>"
      ]
     },
     "execution_count": 84,
     "metadata": {},
     "output_type": "execute_result"
    }
   ],
   "source": [
    "# Train the model\n",
    "model.fit(train_x, train_y, epochs=10, batch_size=32)"
   ]
  },
  {
   "cell_type": "code",
   "execution_count": 85,
   "metadata": {
    "colab": {
     "base_uri": "https://localhost:8080/"
    },
    "id": "aKpxdImQpm_t",
    "outputId": "5d01e803-5dae-4899-9bf0-8533772f5f8c"
   },
   "outputs": [
    {
     "name": "stdout",
     "output_type": "stream",
     "text": [
      "2/2 [==============================] - 0s 0s/step\n",
      "Test accuracy: 1.0\n"
     ]
    }
   ],
   "source": [
    "# Use the trained model to make predictions on the test set\n",
    "y_pred = model.predict(test_x).argmax(axis=1)\n",
    "\n",
    "# Calculate the accuracy of the model on the test set\n",
    "accuracy = accuracy_score(test_y, y_pred)\n",
    "print('Test accuracy:', accuracy)"
   ]
  },
  {
   "cell_type": "code",
   "execution_count": 86,
   "metadata": {
    "colab": {
     "base_uri": "https://localhost:8080/"
    },
    "id": "klQ_03BLqrl8",
    "outputId": "ee4ab83f-27f8-409a-b40a-414a35170275"
   },
   "outputs": [
    {
     "name": "stdout",
     "output_type": "stream",
     "text": [
      "[[13  0]\n",
      " [ 0 35]]\n"
     ]
    }
   ],
   "source": [
    "cm = confusion_matrix(test_y, y_pred)\n",
    "print(cm)"
   ]
  },
  {
   "cell_type": "markdown",
   "metadata": {},
   "source": [
    "## Analysis of Results"
   ]
  },
  {
   "cell_type": "markdown",
   "metadata": {},
   "source": [
    "In analysing the data from the both results, we can see that the accuracy for CNN without missing values gives us 100% for both the testing and training and the confusion matrix also produces a better output. On the other hand, the analysis of CNN when the missing values are removed gives 99% percent accuracy for training and 98% accuracy for testing. Also, the confusion matrix has two mislabed values which are classified as false positive. \n",
    "\n",
    "I think the reason for these results are because I removed all of the missing values in the first process without dealing with them at all. And I also removed all of the categorical data(without replacing them with numerical values, this might have reduced the overall size of the data and makes it easier to analyze. \n",
    "\n",
    "After researching on how to handle missing value, I found that SVM has one of the best accuracies in handling missing values(please see reference below) because it deals with both linear and non linear data. In our case, it uses the kernel trick technique to transform the data and then finds an optimal boundary between the possible outputs.\n",
    "Amongst all of the other techniques such as KNN, MLPClassifier, GaussianNB,etc. SVM has one of the best accuracies which is why I used it instead of the others. \n",
    "\n",
    "Reference: https://www.kaggle.com/code/gautamgc75/applying-deep-learning-model-to-classify-ckd"
   ]
  },
  {
   "cell_type": "code",
   "execution_count": null,
   "metadata": {},
   "outputs": [],
   "source": []
  }
 ],
 "metadata": {
  "colab": {
   "provenance": []
  },
  "kernelspec": {
   "display_name": "Python 3 (ipykernel)",
   "language": "python",
   "name": "python3"
  },
  "language_info": {
   "codemirror_mode": {
    "name": "ipython",
    "version": 3
   },
   "file_extension": ".py",
   "mimetype": "text/x-python",
   "name": "python",
   "nbconvert_exporter": "python",
   "pygments_lexer": "ipython3",
   "version": "3.9.13"
  }
 },
 "nbformat": 4,
 "nbformat_minor": 1
}
