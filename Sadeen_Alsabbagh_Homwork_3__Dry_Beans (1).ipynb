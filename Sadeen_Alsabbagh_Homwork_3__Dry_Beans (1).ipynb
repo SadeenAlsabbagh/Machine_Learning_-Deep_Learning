{
 "cells": [
  {
   "cell_type": "code",
   "execution_count": 1,
   "metadata": {
    "id": "_X2Ffck4i8YA"
   },
   "outputs": [],
   "source": [
    "import numpy as np \n",
    "import math\n",
    "import seaborn as sns\n",
    "import tensorflow as tf\n",
    "from numpy.ma.core import ceil\n",
    "import pandas as pd\n",
    "from matplotlib import pyplot as plt\n",
    "from matplotlib import animation, colors\n",
    "from sklearn import preprocessing as sk_preprocessing\n",
    "from sklearn.preprocessing import StandardScaler \n",
    "from sklearn.preprocessing import MinMaxScaler \n",
    "from sklearn.metrics import accuracy_score \n",
    "from sklearn.metrics import confusion_matrix\n",
    "from sklearn.decomposition import PCA\n",
    "from sklearn.model_selection import train_test_split\n",
    "from keras.models import Sequential\n",
    "from keras.layers import Conv1D, MaxPooling1D, Flatten, Dense\n",
    "from tensorflow.keras import datasets, layers, models\n",
    "from sklearn.metrics import confusion_matrix"
   ]
  },
  {
   "cell_type": "code",
   "execution_count": 2,
   "metadata": {
    "colab": {
     "base_uri": "https://localhost:8080/",
     "height": 364
    },
    "id": "VTskHD82jeSv",
    "outputId": "be16a3d6-62b0-46b2-8dea-15df603f32ee"
   },
   "outputs": [
    {
     "data": {
      "text/html": [
       "\n",
       "  <div id=\"df-3d392296-f515-4e7c-95ca-e53be6d60e00\">\n",
       "    <div class=\"colab-df-container\">\n",
       "      <div>\n",
       "<style scoped>\n",
       "    .dataframe tbody tr th:only-of-type {\n",
       "        vertical-align: middle;\n",
       "    }\n",
       "\n",
       "    .dataframe tbody tr th {\n",
       "        vertical-align: top;\n",
       "    }\n",
       "\n",
       "    .dataframe thead th {\n",
       "        text-align: right;\n",
       "    }\n",
       "</style>\n",
       "<table border=\"1\" class=\"dataframe\">\n",
       "  <thead>\n",
       "    <tr style=\"text-align: right;\">\n",
       "      <th></th>\n",
       "      <th>Area</th>\n",
       "      <th>Perimeter</th>\n",
       "      <th>MajorAxisLength</th>\n",
       "      <th>MinorAxisLength</th>\n",
       "      <th>AspectRation</th>\n",
       "      <th>Eccentricity</th>\n",
       "      <th>ConvexArea</th>\n",
       "      <th>EquivDiameter</th>\n",
       "      <th>Extent</th>\n",
       "      <th>Solidity</th>\n",
       "      <th>roundness</th>\n",
       "      <th>Compactness</th>\n",
       "      <th>ShapeFactor1</th>\n",
       "      <th>ShapeFactor2</th>\n",
       "      <th>ShapeFactor3</th>\n",
       "      <th>ShapeFactor4</th>\n",
       "    </tr>\n",
       "  </thead>\n",
       "  <tbody>\n",
       "    <tr>\n",
       "      <th>count</th>\n",
       "      <td>13611.000000</td>\n",
       "      <td>13611.000000</td>\n",
       "      <td>13611.000000</td>\n",
       "      <td>13611.000000</td>\n",
       "      <td>13611.000000</td>\n",
       "      <td>13611.000000</td>\n",
       "      <td>13611.000000</td>\n",
       "      <td>13611.000000</td>\n",
       "      <td>13611.000000</td>\n",
       "      <td>13611.000000</td>\n",
       "      <td>13611.000000</td>\n",
       "      <td>13611.000000</td>\n",
       "      <td>13611.000000</td>\n",
       "      <td>13611.000000</td>\n",
       "      <td>13611.000000</td>\n",
       "      <td>13611.000000</td>\n",
       "    </tr>\n",
       "    <tr>\n",
       "      <th>mean</th>\n",
       "      <td>53048.284549</td>\n",
       "      <td>855.283459</td>\n",
       "      <td>320.141867</td>\n",
       "      <td>202.270714</td>\n",
       "      <td>1.583242</td>\n",
       "      <td>0.750895</td>\n",
       "      <td>53768.200206</td>\n",
       "      <td>253.064220</td>\n",
       "      <td>0.749733</td>\n",
       "      <td>0.987143</td>\n",
       "      <td>0.873282</td>\n",
       "      <td>0.799864</td>\n",
       "      <td>0.006564</td>\n",
       "      <td>0.001716</td>\n",
       "      <td>0.643590</td>\n",
       "      <td>0.995063</td>\n",
       "    </tr>\n",
       "    <tr>\n",
       "      <th>std</th>\n",
       "      <td>29324.095717</td>\n",
       "      <td>214.289696</td>\n",
       "      <td>85.694186</td>\n",
       "      <td>44.970091</td>\n",
       "      <td>0.246678</td>\n",
       "      <td>0.092002</td>\n",
       "      <td>29774.915817</td>\n",
       "      <td>59.177120</td>\n",
       "      <td>0.049086</td>\n",
       "      <td>0.004660</td>\n",
       "      <td>0.059520</td>\n",
       "      <td>0.061713</td>\n",
       "      <td>0.001128</td>\n",
       "      <td>0.000596</td>\n",
       "      <td>0.098996</td>\n",
       "      <td>0.004366</td>\n",
       "    </tr>\n",
       "    <tr>\n",
       "      <th>min</th>\n",
       "      <td>20420.000000</td>\n",
       "      <td>524.736000</td>\n",
       "      <td>183.601165</td>\n",
       "      <td>122.512653</td>\n",
       "      <td>1.024868</td>\n",
       "      <td>0.218951</td>\n",
       "      <td>20684.000000</td>\n",
       "      <td>161.243764</td>\n",
       "      <td>0.555315</td>\n",
       "      <td>0.919246</td>\n",
       "      <td>0.489618</td>\n",
       "      <td>0.640577</td>\n",
       "      <td>0.002778</td>\n",
       "      <td>0.000564</td>\n",
       "      <td>0.410339</td>\n",
       "      <td>0.947687</td>\n",
       "    </tr>\n",
       "    <tr>\n",
       "      <th>25%</th>\n",
       "      <td>36328.000000</td>\n",
       "      <td>703.523500</td>\n",
       "      <td>253.303633</td>\n",
       "      <td>175.848170</td>\n",
       "      <td>1.432307</td>\n",
       "      <td>0.715928</td>\n",
       "      <td>36714.500000</td>\n",
       "      <td>215.068003</td>\n",
       "      <td>0.718634</td>\n",
       "      <td>0.985670</td>\n",
       "      <td>0.832096</td>\n",
       "      <td>0.762469</td>\n",
       "      <td>0.005900</td>\n",
       "      <td>0.001154</td>\n",
       "      <td>0.581359</td>\n",
       "      <td>0.993703</td>\n",
       "    </tr>\n",
       "    <tr>\n",
       "      <th>50%</th>\n",
       "      <td>44652.000000</td>\n",
       "      <td>794.941000</td>\n",
       "      <td>296.883367</td>\n",
       "      <td>192.431733</td>\n",
       "      <td>1.551124</td>\n",
       "      <td>0.764441</td>\n",
       "      <td>45178.000000</td>\n",
       "      <td>238.438026</td>\n",
       "      <td>0.759859</td>\n",
       "      <td>0.988283</td>\n",
       "      <td>0.883157</td>\n",
       "      <td>0.801277</td>\n",
       "      <td>0.006645</td>\n",
       "      <td>0.001694</td>\n",
       "      <td>0.642044</td>\n",
       "      <td>0.996386</td>\n",
       "    </tr>\n",
       "    <tr>\n",
       "      <th>75%</th>\n",
       "      <td>61332.000000</td>\n",
       "      <td>977.213000</td>\n",
       "      <td>376.495012</td>\n",
       "      <td>217.031741</td>\n",
       "      <td>1.707109</td>\n",
       "      <td>0.810466</td>\n",
       "      <td>62294.000000</td>\n",
       "      <td>279.446467</td>\n",
       "      <td>0.786851</td>\n",
       "      <td>0.990013</td>\n",
       "      <td>0.916869</td>\n",
       "      <td>0.834270</td>\n",
       "      <td>0.007271</td>\n",
       "      <td>0.002170</td>\n",
       "      <td>0.696006</td>\n",
       "      <td>0.997883</td>\n",
       "    </tr>\n",
       "    <tr>\n",
       "      <th>max</th>\n",
       "      <td>254616.000000</td>\n",
       "      <td>1985.370000</td>\n",
       "      <td>738.860153</td>\n",
       "      <td>460.198497</td>\n",
       "      <td>2.430306</td>\n",
       "      <td>0.911423</td>\n",
       "      <td>263261.000000</td>\n",
       "      <td>569.374358</td>\n",
       "      <td>0.866195</td>\n",
       "      <td>0.994677</td>\n",
       "      <td>0.990685</td>\n",
       "      <td>0.987303</td>\n",
       "      <td>0.010451</td>\n",
       "      <td>0.003665</td>\n",
       "      <td>0.974767</td>\n",
       "      <td>0.999733</td>\n",
       "    </tr>\n",
       "  </tbody>\n",
       "</table>\n",
       "</div>\n",
       "      <button class=\"colab-df-convert\" onclick=\"convertToInteractive('df-3d392296-f515-4e7c-95ca-e53be6d60e00')\"\n",
       "              title=\"Convert this dataframe to an interactive table.\"\n",
       "              style=\"display:none;\">\n",
       "        \n",
       "  <svg xmlns=\"http://www.w3.org/2000/svg\" height=\"24px\"viewBox=\"0 0 24 24\"\n",
       "       width=\"24px\">\n",
       "    <path d=\"M0 0h24v24H0V0z\" fill=\"none\"/>\n",
       "    <path d=\"M18.56 5.44l.94 2.06.94-2.06 2.06-.94-2.06-.94-.94-2.06-.94 2.06-2.06.94zm-11 1L8.5 8.5l.94-2.06 2.06-.94-2.06-.94L8.5 2.5l-.94 2.06-2.06.94zm10 10l.94 2.06.94-2.06 2.06-.94-2.06-.94-.94-2.06-.94 2.06-2.06.94z\"/><path d=\"M17.41 7.96l-1.37-1.37c-.4-.4-.92-.59-1.43-.59-.52 0-1.04.2-1.43.59L10.3 9.45l-7.72 7.72c-.78.78-.78 2.05 0 2.83L4 21.41c.39.39.9.59 1.41.59.51 0 1.02-.2 1.41-.59l7.78-7.78 2.81-2.81c.8-.78.8-2.07 0-2.86zM5.41 20L4 18.59l7.72-7.72 1.47 1.35L5.41 20z\"/>\n",
       "  </svg>\n",
       "      </button>\n",
       "      \n",
       "  <style>\n",
       "    .colab-df-container {\n",
       "      display:flex;\n",
       "      flex-wrap:wrap;\n",
       "      gap: 12px;\n",
       "    }\n",
       "\n",
       "    .colab-df-convert {\n",
       "      background-color: #E8F0FE;\n",
       "      border: none;\n",
       "      border-radius: 50%;\n",
       "      cursor: pointer;\n",
       "      display: none;\n",
       "      fill: #1967D2;\n",
       "      height: 32px;\n",
       "      padding: 0 0 0 0;\n",
       "      width: 32px;\n",
       "    }\n",
       "\n",
       "    .colab-df-convert:hover {\n",
       "      background-color: #E2EBFA;\n",
       "      box-shadow: 0px 1px 2px rgba(60, 64, 67, 0.3), 0px 1px 3px 1px rgba(60, 64, 67, 0.15);\n",
       "      fill: #174EA6;\n",
       "    }\n",
       "\n",
       "    [theme=dark] .colab-df-convert {\n",
       "      background-color: #3B4455;\n",
       "      fill: #D2E3FC;\n",
       "    }\n",
       "\n",
       "    [theme=dark] .colab-df-convert:hover {\n",
       "      background-color: #434B5C;\n",
       "      box-shadow: 0px 1px 3px 1px rgba(0, 0, 0, 0.15);\n",
       "      filter: drop-shadow(0px 1px 2px rgba(0, 0, 0, 0.3));\n",
       "      fill: #FFFFFF;\n",
       "    }\n",
       "  </style>\n",
       "\n",
       "      <script>\n",
       "        const buttonEl =\n",
       "          document.querySelector('#df-3d392296-f515-4e7c-95ca-e53be6d60e00 button.colab-df-convert');\n",
       "        buttonEl.style.display =\n",
       "          google.colab.kernel.accessAllowed ? 'block' : 'none';\n",
       "\n",
       "        async function convertToInteractive(key) {\n",
       "          const element = document.querySelector('#df-3d392296-f515-4e7c-95ca-e53be6d60e00');\n",
       "          const dataTable =\n",
       "            await google.colab.kernel.invokeFunction('convertToInteractive',\n",
       "                                                     [key], {});\n",
       "          if (!dataTable) return;\n",
       "\n",
       "          const docLinkHtml = 'Like what you see? Visit the ' +\n",
       "            '<a target=\"_blank\" href=https://colab.research.google.com/notebooks/data_table.ipynb>data table notebook</a>'\n",
       "            + ' to learn more about interactive tables.';\n",
       "          element.innerHTML = '';\n",
       "          dataTable['output_type'] = 'display_data';\n",
       "          await google.colab.output.renderOutput(dataTable, element);\n",
       "          const docLink = document.createElement('div');\n",
       "          docLink.innerHTML = docLinkHtml;\n",
       "          element.appendChild(docLink);\n",
       "        }\n",
       "      </script>\n",
       "    </div>\n",
       "  </div>\n",
       "  "
      ],
      "text/plain": [
       "                Area     Perimeter  MajorAxisLength  MinorAxisLength  \\\n",
       "count   13611.000000  13611.000000     13611.000000     13611.000000   \n",
       "mean    53048.284549    855.283459       320.141867       202.270714   \n",
       "std     29324.095717    214.289696        85.694186        44.970091   \n",
       "min     20420.000000    524.736000       183.601165       122.512653   \n",
       "25%     36328.000000    703.523500       253.303633       175.848170   \n",
       "50%     44652.000000    794.941000       296.883367       192.431733   \n",
       "75%     61332.000000    977.213000       376.495012       217.031741   \n",
       "max    254616.000000   1985.370000       738.860153       460.198497   \n",
       "\n",
       "       AspectRation  Eccentricity     ConvexArea  EquivDiameter        Extent  \\\n",
       "count  13611.000000  13611.000000   13611.000000   13611.000000  13611.000000   \n",
       "mean       1.583242      0.750895   53768.200206     253.064220      0.749733   \n",
       "std        0.246678      0.092002   29774.915817      59.177120      0.049086   \n",
       "min        1.024868      0.218951   20684.000000     161.243764      0.555315   \n",
       "25%        1.432307      0.715928   36714.500000     215.068003      0.718634   \n",
       "50%        1.551124      0.764441   45178.000000     238.438026      0.759859   \n",
       "75%        1.707109      0.810466   62294.000000     279.446467      0.786851   \n",
       "max        2.430306      0.911423  263261.000000     569.374358      0.866195   \n",
       "\n",
       "           Solidity     roundness   Compactness  ShapeFactor1  ShapeFactor2  \\\n",
       "count  13611.000000  13611.000000  13611.000000  13611.000000  13611.000000   \n",
       "mean       0.987143      0.873282      0.799864      0.006564      0.001716   \n",
       "std        0.004660      0.059520      0.061713      0.001128      0.000596   \n",
       "min        0.919246      0.489618      0.640577      0.002778      0.000564   \n",
       "25%        0.985670      0.832096      0.762469      0.005900      0.001154   \n",
       "50%        0.988283      0.883157      0.801277      0.006645      0.001694   \n",
       "75%        0.990013      0.916869      0.834270      0.007271      0.002170   \n",
       "max        0.994677      0.990685      0.987303      0.010451      0.003665   \n",
       "\n",
       "       ShapeFactor3  ShapeFactor4  \n",
       "count  13611.000000  13611.000000  \n",
       "mean       0.643590      0.995063  \n",
       "std        0.098996      0.004366  \n",
       "min        0.410339      0.947687  \n",
       "25%        0.581359      0.993703  \n",
       "50%        0.642044      0.996386  \n",
       "75%        0.696006      0.997883  \n",
       "max        0.974767      0.999733  "
      ]
     },
     "execution_count": 2,
     "metadata": {},
     "output_type": "execute_result"
    }
   ],
   "source": [
    "df = pd.read_excel('/content/Dry_Bean_Dataset.xlsx')\n",
    "df.describe()"
   ]
  },
  {
   "cell_type": "code",
   "execution_count": 3,
   "metadata": {
    "colab": {
     "base_uri": "https://localhost:8080/"
    },
    "id": "yK6tR7u-mTBe",
    "outputId": "91430f0f-518f-4582-9394-0658680d381e"
   },
   "outputs": [
    {
     "name": "stdout",
     "output_type": "stream",
     "text": [
      "[[-0.84074853 -1.1433189  -1.30659814 ...  2.40217287  1.92572347\n",
      "   0.83837103]\n",
      " [-0.82918764 -1.01392388 -1.39591111 ...  3.10089314  2.68970162\n",
      "   0.77113842]\n",
      " [-0.80715717 -1.07882906 -1.25235661 ...  2.23509147  1.84135576\n",
      "   0.91675514]\n",
      " ...\n",
      " [-0.37203825 -0.44783294 -0.45047814 ...  0.28920441  0.33632829\n",
      "   0.39025114]\n",
      " [-0.37176543 -0.42702856 -0.42897404 ...  0.22837538  0.2489734\n",
      "   0.03644001]\n",
      " [-0.37135619 -0.38755718 -0.2917356  ... -0.12777587 -0.2764814\n",
      "   0.71371948]]\n",
      "0        4\n",
      "1        4\n",
      "2        4\n",
      "3        4\n",
      "4        4\n",
      "        ..\n",
      "13606    1\n",
      "13607    1\n",
      "13608    1\n",
      "13609    1\n",
      "13610    1\n",
      "Name: Class, Length: 13611, dtype: int64\n"
     ]
    }
   ],
   "source": [
    "X = df.drop('Class', axis = 1)\n",
    "Y = df['Class']\n",
    "\n",
    "standard_scaler = StandardScaler()\n",
    "standard_scaler.fit(X)\n",
    "X_normalized = standard_scaler.transform(X)\n",
    "print(X_normalized)\n",
    "\n",
    "Y_numerized = Y.replace(({'SEKER': 4, 'BARBUNYA' : 2, 'BOMBAY': 3, 'CALI': 0, 'DERMASON': 1, 'HOROZ': 6, 'SIRA': 5}))\n",
    "print(Y_numerized)"
   ]
  },
  {
   "cell_type": "code",
   "execution_count": 4,
   "metadata": {
    "colab": {
     "base_uri": "https://localhost:8080/"
    },
    "id": "-f4scKAAmXH2",
    "outputId": "cbf64878-074d-4651-b621-9c861108fdad"
   },
   "outputs": [
    {
     "name": "stdout",
     "output_type": "stream",
     "text": [
      "(9527, 16) (9527,) (4084, 16) (4084,)\n"
     ]
    }
   ],
   "source": [
    "# train and test split\n",
    "train_x, test_x, train_y, test_y = train_test_split(X_normalized, Y_numerized, test_size=0.3, random_state=42)\n",
    "print(train_x.shape, train_y.shape, test_x.shape, test_y.shape) # check the shapes"
   ]
  },
  {
   "cell_type": "code",
   "execution_count": 5,
   "metadata": {
    "id": "K4YsbdI5mbtS"
   },
   "outputs": [],
   "source": [
    "model = Sequential()\n",
    "model.add(Conv1D(filters=64, kernel_size=3, activation='relu', input_shape=(16,1)))\n",
    "model.add(Conv1D(filters=128, kernel_size=3, activation='relu'))\n",
    "#model.add(Dropout(0.25))\n",
    "model.add(MaxPooling1D(pool_size=2))\n",
    "model.add(Conv1D(filters=256, kernel_size=3, activation='relu'))\n",
    "#model.add(Dropout(0.5))\n",
    "model.add(MaxPooling1D(pool_size=2))\n",
    "model.add(Flatten())\n",
    "model.add(Dense(256, activation='relu'))\n",
    "model.add(Dense(7, activation='softmax'))\n",
    "model.compile(loss='sparse_categorical_crossentropy', optimizer='Adam', metrics=['accuracy'])"
   ]
  },
  {
   "cell_type": "code",
   "execution_count": 6,
   "metadata": {
    "colab": {
     "base_uri": "https://localhost:8080/"
    },
    "id": "lztLhKQrpMqN",
    "outputId": "51807b47-9489-4d9a-bc80-bb51c609b823"
   },
   "outputs": [
    {
     "name": "stdout",
     "output_type": "stream",
     "text": [
      "Epoch 1/10\n",
      "298/298 [==============================] - 6s 14ms/step - loss: 0.3931 - accuracy: 0.8667\n",
      "Epoch 2/10\n",
      "298/298 [==============================] - 3s 11ms/step - loss: 0.2348 - accuracy: 0.9140\n",
      "Epoch 3/10\n",
      "298/298 [==============================] - 4s 12ms/step - loss: 0.2173 - accuracy: 0.9210\n",
      "Epoch 4/10\n",
      "298/298 [==============================] - 5s 16ms/step - loss: 0.2085 - accuracy: 0.9231\n",
      "Epoch 5/10\n",
      "298/298 [==============================] - 3s 12ms/step - loss: 0.2037 - accuracy: 0.9276\n",
      "Epoch 6/10\n",
      "298/298 [==============================] - 3s 11ms/step - loss: 0.1946 - accuracy: 0.9274\n",
      "Epoch 7/10\n",
      "298/298 [==============================] - 3s 11ms/step - loss: 0.1894 - accuracy: 0.9297\n",
      "Epoch 8/10\n",
      "298/298 [==============================] - 4s 14ms/step - loss: 0.1840 - accuracy: 0.9317\n",
      "Epoch 9/10\n",
      "298/298 [==============================] - 3s 11ms/step - loss: 0.1800 - accuracy: 0.9311\n",
      "Epoch 10/10\n",
      "298/298 [==============================] - 4s 12ms/step - loss: 0.1770 - accuracy: 0.9341\n"
     ]
    },
    {
     "data": {
      "text/plain": [
       "<keras.callbacks.History at 0x7fe5eaa24e80>"
      ]
     },
     "execution_count": 6,
     "metadata": {},
     "output_type": "execute_result"
    }
   ],
   "source": [
    "# Define the optimizer\n",
    "model.fit(train_x, train_y, epochs=10, batch_size = 32)"
   ]
  },
  {
   "cell_type": "code",
   "execution_count": 8,
   "metadata": {
    "colab": {
     "base_uri": "https://localhost:8080/"
    },
    "id": "aKpxdImQpm_t",
    "outputId": "cfb97f4e-975b-4608-f65f-5d90da312d5b"
   },
   "outputs": [
    {
     "name": "stdout",
     "output_type": "stream",
     "text": [
      "128/128 [==============================] - 1s 4ms/step\n",
      "Test accuracy: 0.9277668952007836\n"
     ]
    }
   ],
   "source": [
    "y_pred = model.predict(test_x).argmax(axis=1)\n",
    "\n",
    "accuracy = accuracy_score(test_y, y_pred)\n",
    "print('Test accuracy:', accuracy)"
   ]
  },
  {
   "cell_type": "code",
   "execution_count": 9,
   "metadata": {
    "colab": {
     "base_uri": "https://localhost:8080/"
    },
    "id": "klQ_03BLqrl8",
    "outputId": "16198823-842c-4122-c93c-6fbfbec6d82f"
   },
   "outputs": [
    {
     "name": "stdout",
     "output_type": "stream",
     "text": [
      "[[464   0   6   0   2   3   4]\n",
      " [  0 955   0   0  23  65   0]\n",
      " [ 33   0 351   0   2   8   1]\n",
      " [  0   0   0 161   0   0   0]\n",
      " [  0  11   5   0 594   9   0]\n",
      " [  4  64   1   0  14 708   8]\n",
      " [ 16   7   0   0   0   9 556]]\n"
     ]
    }
   ],
   "source": [
    "cm = confusion_matrix(test_y, y_pred)\n",
    "print(cm)"
   ]
  },
  {
   "cell_type": "markdown",
   "metadata": {
    "id": "IkylU-TOwP2B"
   },
   "source": [
    "**Model Two CNN**\n"
   ]
  },
  {
   "cell_type": "code",
   "execution_count": 31,
   "metadata": {
    "id": "HDqXGSjewXQe"
   },
   "outputs": [],
   "source": [
    "idx = np.where((train_y == 1) | (train_y == 5))[0]\n",
    "cluster_Y = train_y.iloc[idx]\n",
    "cluster_Y = np.where(train_y.iloc[idx]==1,0,1)\n",
    "\n",
    "train_x_df = pd.DataFrame(train_x)\n",
    "cluster_X = train_x_df.iloc[idx]\n",
    "cluster_X = cluster_X.to_numpy()"
   ]
  },
  {
   "cell_type": "code",
   "execution_count": 32,
   "metadata": {
    "id": "9KRHTjilxLG8"
   },
   "outputs": [],
   "source": [
    "model1 = Sequential()\n",
    "model1.add(Conv1D(filters=64, kernel_size=3, activation='relu', input_shape=(16,1)))\n",
    "model1.add(Conv1D(filters=64, kernel_size=3, activation='relu'))\n",
    "#model.add(Dropout(0.25))\n",
    "model1.add(MaxPooling1D(pool_size=2))\n",
    "model1.add(Conv1D(filters=128, kernel_size=3, activation='relu'))\n",
    "#model.add(Dropout(0.5))\n",
    "model1.add(MaxPooling1D(pool_size=2))\n",
    "model1.add(Flatten())\n",
    "model1.add(Dense(128, activation='relu'))\n",
    "model1.add(Dense(2, activation='softmax'))\n",
    "model1.compile(loss='sparse_categorical_crossentropy', optimizer='Adam', metrics=['accuracy'])"
   ]
  },
  {
   "cell_type": "code",
   "execution_count": 33,
   "metadata": {
    "colab": {
     "base_uri": "https://localhost:8080/"
    },
    "id": "SX3IzshzxQdp",
    "outputId": "3eca471a-8efe-4141-da7a-e8b2c990e9d0"
   },
   "outputs": [
    {
     "name": "stdout",
     "output_type": "stream",
     "text": [
      "Epoch 1/10\n",
      "136/136 [==============================] - 3s 11ms/step - loss: 0.2762 - accuracy: 0.8721\n",
      "Epoch 2/10\n",
      "136/136 [==============================] - 1s 7ms/step - loss: 0.1865 - accuracy: 0.9171\n",
      "Epoch 3/10\n",
      "136/136 [==============================] - 1s 7ms/step - loss: 0.1825 - accuracy: 0.9175\n",
      "Epoch 4/10\n",
      "136/136 [==============================] - 1s 8ms/step - loss: 0.1749 - accuracy: 0.9221\n",
      "Epoch 5/10\n",
      "136/136 [==============================] - 1s 8ms/step - loss: 0.1655 - accuracy: 0.9279\n",
      "Epoch 6/10\n",
      "136/136 [==============================] - 1s 8ms/step - loss: 0.1653 - accuracy: 0.9281\n",
      "Epoch 7/10\n",
      "136/136 [==============================] - 1s 7ms/step - loss: 0.1686 - accuracy: 0.9260\n",
      "Epoch 8/10\n",
      "136/136 [==============================] - 1s 7ms/step - loss: 0.1621 - accuracy: 0.9318\n",
      "Epoch 9/10\n",
      "136/136 [==============================] - 1s 7ms/step - loss: 0.1616 - accuracy: 0.9306\n",
      "Epoch 10/10\n",
      "136/136 [==============================] - 1s 8ms/step - loss: 0.1566 - accuracy: 0.9283\n"
     ]
    },
    {
     "data": {
      "text/plain": [
       "<keras.callbacks.History at 0x7fe5e00d4100>"
      ]
     },
     "execution_count": 33,
     "metadata": {},
     "output_type": "execute_result"
    }
   ],
   "source": [
    "model1.fit(cluster_X, cluster_Y, epochs = 10, batch_size = 32)"
   ]
  },
  {
   "cell_type": "code",
   "execution_count": 35,
   "metadata": {
    "id": "y4BqIsW23sRt"
   },
   "outputs": [],
   "source": [
    "idx1 = np.where((test_y == 1) | (test_y == 5))[0]\n",
    "cluster_Y_test = test_y.iloc[idx1]\n",
    "cluster_Y_test = np.where(test_y.iloc[idx1]==1,0,1)\n",
    "\n",
    "test_x_df = pd.DataFrame(test_x)\n",
    "cluster_X_test = test_x_df.iloc[idx1]\n",
    "cluster_X_test = cluster_X_test.to_numpy()"
   ]
  },
  {
   "cell_type": "code",
   "execution_count": 36,
   "metadata": {
    "colab": {
     "base_uri": "https://localhost:8080/"
    },
    "id": "nJqCnE2T4hJt",
    "outputId": "daad7ac2-58bd-455f-cdd7-cefceaacd92f"
   },
   "outputs": [
    {
     "name": "stdout",
     "output_type": "stream",
     "text": [
      "58/58 [==============================] - 0s 2ms/step\n",
      "Test accuracy: 0.9261672095548317\n"
     ]
    }
   ],
   "source": [
    "# Use the trained model to make predictions on the test set\n",
    "new_y_pred = model1.predict(cluster_X_test).argmax(axis=1)\n",
    "\n",
    "# Calculate the accuracy of the model on the test set\n",
    "accuracy1 = accuracy_score(cluster_Y_test,new_y_pred)\n",
    "print('Test accuracy:', accuracy1)"
   ]
  },
  {
   "cell_type": "code",
   "execution_count": 37,
   "metadata": {
    "colab": {
     "base_uri": "https://localhost:8080/"
    },
    "id": "NXWXwXyj6E65",
    "outputId": "e41a3edb-b359-41db-b952-1e090ed362a8"
   },
   "outputs": [
    {
     "name": "stdout",
     "output_type": "stream",
     "text": [
      "[[970  73]\n",
      " [ 63 736]]\n"
     ]
    }
   ],
   "source": [
    "cm1 = confusion_matrix(cluster_Y_test, new_y_pred)\n",
    "print(cm1)"
   ]
  },
  {
   "cell_type": "code",
   "execution_count": 39,
   "metadata": {
    "id": "tayAD7Ny6Rpb"
   },
   "outputs": [],
   "source": [
    "new_y_pred = np.where(new_y_pred == 0,1,5)"
   ]
  },
  {
   "cell_type": "code",
   "execution_count": 40,
   "metadata": {
    "colab": {
     "base_uri": "https://localhost:8080/"
    },
    "id": "nvqiAIoa6dV3",
    "outputId": "434a3152-facb-4699-a009-e9ec9b4d381b"
   },
   "outputs": [
    {
     "name": "stdout",
     "output_type": "stream",
     "text": [
      "0.9382957884427032\n"
     ]
    }
   ],
   "source": [
    "updated_predicted_class = np.copy(y_pred)\n",
    "np.put(updated_predicted_class,idx1,new_y_pred)\n",
    "accuracy2 = accuracy_score(test_y, updated_predicted_class)\n",
    "print(accuracy2)"
   ]
  },
  {
   "cell_type": "code",
   "execution_count": 41,
   "metadata": {
    "colab": {
     "base_uri": "https://localhost:8080/"
    },
    "id": "tHMTug2C7HeD",
    "outputId": "8bb28e86-d840-4cee-c8c6-e096036e04dd"
   },
   "outputs": [
    {
     "name": "stdout",
     "output_type": "stream",
     "text": [
      "[[464   0   6   0   2   3   4]\n",
      " [  0 970   0   0   0  73   0]\n",
      " [ 33   0 351   0   2   8   1]\n",
      " [  0   0   0 161   0   0   0]\n",
      " [  0  11   5   0 594   9   0]\n",
      " [  0  63   0   0   0 736   0]\n",
      " [ 16   7   0   0   0   9 556]]\n"
     ]
    }
   ],
   "source": [
    "cm3 = confusion_matrix(test_y, updated_predicted_class)\n",
    "print(cm3)"
   ]
  },
  {
   "cell_type": "markdown",
   "metadata": {
    "id": "h3Xnjgmd7gSk"
   },
   "source": [
    "Discussion: \n",
    "\n",
    "The precision of the second CNN rose by 2%, despite predicting 2 fewer instances in class 1 and class 5. This improvement can be mainly attributed to a remarkable 70% increase in other classes. When compared to SOM, CNN outperforms because of its ability to learn hierarchical representations of input data, beginning with basic features like edges and shapes, and progressively advancing to more complex features that capture the overall structure.\n",
    "\n",
    "\n",
    "\n"
   ]
  }
 ],
 "metadata": {
  "colab": {
   "provenance": []
  },
  "kernelspec": {
   "display_name": "Python 3 (ipykernel)",
   "language": "python",
   "name": "python3"
  },
  "language_info": {
   "codemirror_mode": {
    "name": "ipython",
    "version": 3
   },
   "file_extension": ".py",
   "mimetype": "text/x-python",
   "name": "python",
   "nbconvert_exporter": "python",
   "pygments_lexer": "ipython3",
   "version": "3.9.13"
  }
 },
 "nbformat": 4,
 "nbformat_minor": 1
}
