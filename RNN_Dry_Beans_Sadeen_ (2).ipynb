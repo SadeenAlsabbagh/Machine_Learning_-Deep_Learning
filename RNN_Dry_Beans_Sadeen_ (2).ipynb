{
 "cells": [
  {
   "cell_type": "code",
   "execution_count": 2,
   "metadata": {
    "id": "_9VHEGFz1294"
   },
   "outputs": [],
   "source": [
    "import pandas as pd\n",
    "import numpy as np\n",
    "from tensorflow import keras\n",
    "\n",
    "df = pd.read_excel('/content/Dry_Bean_Dataset.xlsx')"
   ]
  },
  {
   "cell_type": "code",
   "execution_count": 3,
   "metadata": {
    "id": "52sE0iig2PuB"
   },
   "outputs": [],
   "source": [
    "from sklearn.model_selection import train_test_split\n",
    "from sklearn.preprocessing import StandardScaler\n",
    "\n",
    "# Split data into training and testing sets\n",
    "X_train, X_test, y_train, y_test = train_test_split(df.iloc[:, :-1], df.iloc[:, -1], test_size=0.2)\n",
    "\n",
    "# Normalize the data\n",
    "scaler = StandardScaler()\n",
    "X_train = scaler.fit_transform(X_train)\n",
    "X_test = scaler.transform(X_test)\n",
    "\n",
    "# Reshape data to fit RNN format (timesteps, features)\n",
    "X_train = np.reshape(X_train, (X_train.shape[0], 1, X_train.shape[1]))\n",
    "X_test = np.reshape(X_test, (X_test.shape[0], 1, X_test.shape[1]))\n"
   ]
  },
  {
   "cell_type": "code",
   "execution_count": 4,
   "metadata": {
    "id": "4kZ0OZ1F2ny3"
   },
   "outputs": [],
   "source": [
    "from tensorflow.keras.models import Sequential\n",
    "from tensorflow.keras.layers import Dense, SimpleRNN\n",
    "\n",
    "model = Sequential()\n",
    "\n",
    "# Add a SimpleRNN layer with 32 units\n",
    "model.add(SimpleRNN(32, input_shape=(1, X_train.shape[2]), activation='relu'))\n",
    "\n",
    "# Add a dense output layer with sigmoid activation\n",
    "model.add(Dense(1, activation='sigmoid'))\n",
    "\n",
    "# Compile the model\n",
    "model.compile(loss='binary_crossentropy', optimizer='adam', metrics=['accuracy'])\n"
   ]
  },
  {
   "cell_type": "code",
   "execution_count": 6,
   "metadata": {
    "id": "xb48ope-3HUr"
   },
   "outputs": [],
   "source": [
    "from sklearn.preprocessing import LabelEncoder\n",
    "\n",
    "le = LabelEncoder()\n",
    "y_train = le.fit_transform(y_train)\n",
    "y_test = le.transform(y_test)\n"
   ]
  },
  {
   "cell_type": "code",
   "execution_count": 7,
   "metadata": {
    "colab": {
     "base_uri": "https://localhost:8080/"
    },
    "id": "B_B5WIL92qnK",
    "outputId": "0e677c8f-f3a3-4320-8e78-a01a93f37dda"
   },
   "outputs": [
    {
     "name": "stdout",
     "output_type": "stream",
     "text": [
      "Epoch 1/50\n",
      "341/341 [==============================] - 2s 4ms/step - loss: -29.7164 - accuracy: 0.0389 - val_loss: -85.5645 - val_accuracy: 0.0452\n",
      "Epoch 2/50\n",
      "341/341 [==============================] - 1s 3ms/step - loss: -196.5328 - accuracy: 0.0426 - val_loss: -340.5614 - val_accuracy: 0.0529\n",
      "Epoch 3/50\n",
      "341/341 [==============================] - 1s 4ms/step - loss: -527.4365 - accuracy: 0.0413 - val_loss: -753.8679 - val_accuracy: 0.0496\n",
      "Epoch 4/50\n",
      "341/341 [==============================] - 2s 5ms/step - loss: -1007.4187 - accuracy: 0.0395 - val_loss: -1315.2550 - val_accuracy: 0.0485\n",
      "Epoch 5/50\n",
      "341/341 [==============================] - 1s 4ms/step - loss: -1633.8777 - accuracy: 0.0419 - val_loss: -2019.8805 - val_accuracy: 0.0558\n",
      "Epoch 6/50\n",
      "341/341 [==============================] - 1s 3ms/step - loss: -2389.5044 - accuracy: 0.0497 - val_loss: -2846.2041 - val_accuracy: 0.0635\n",
      "Epoch 7/50\n",
      "341/341 [==============================] - 1s 3ms/step - loss: -3270.0813 - accuracy: 0.0573 - val_loss: -3811.5972 - val_accuracy: 0.0672\n",
      "Epoch 8/50\n",
      "341/341 [==============================] - 1s 3ms/step - loss: -4285.7695 - accuracy: 0.0664 - val_loss: -4898.3164 - val_accuracy: 0.0701\n",
      "Epoch 9/50\n",
      "341/341 [==============================] - 1s 3ms/step - loss: -5408.1689 - accuracy: 0.0714 - val_loss: -6087.7432 - val_accuracy: 0.0734\n",
      "Epoch 10/50\n",
      "341/341 [==============================] - 1s 3ms/step - loss: -6630.4629 - accuracy: 0.0746 - val_loss: -7377.4424 - val_accuracy: 0.0775\n",
      "Epoch 11/50\n",
      "341/341 [==============================] - 1s 3ms/step - loss: -7947.1455 - accuracy: 0.0784 - val_loss: -8757.2988 - val_accuracy: 0.0801\n",
      "Epoch 12/50\n",
      "341/341 [==============================] - 1s 3ms/step - loss: -9356.4609 - accuracy: 0.0790 - val_loss: -10233.4160 - val_accuracy: 0.0837\n",
      "Epoch 13/50\n",
      "341/341 [==============================] - 1s 3ms/step - loss: -10855.1484 - accuracy: 0.0822 - val_loss: -11798.2529 - val_accuracy: 0.0859\n",
      "Epoch 14/50\n",
      "341/341 [==============================] - 2s 5ms/step - loss: -12441.0039 - accuracy: 0.0860 - val_loss: -13450.8896 - val_accuracy: 0.0859\n",
      "Epoch 15/50\n",
      "341/341 [==============================] - 2s 6ms/step - loss: -14115.3311 - accuracy: 0.0855 - val_loss: -15191.3291 - val_accuracy: 0.0867\n",
      "Epoch 16/50\n",
      "341/341 [==============================] - 1s 3ms/step - loss: -15875.3682 - accuracy: 0.0876 - val_loss: -17020.7656 - val_accuracy: 0.0878\n",
      "Epoch 17/50\n",
      "341/341 [==============================] - 1s 3ms/step - loss: -17720.7363 - accuracy: 0.0882 - val_loss: -18938.3203 - val_accuracy: 0.0885\n",
      "Epoch 18/50\n",
      "341/341 [==============================] - 1s 4ms/step - loss: -19649.6777 - accuracy: 0.0886 - val_loss: -20932.4316 - val_accuracy: 0.0896\n",
      "Epoch 19/50\n",
      "341/341 [==============================] - 1s 3ms/step - loss: -21663.2285 - accuracy: 0.0899 - val_loss: -23017.5586 - val_accuracy: 0.0911\n",
      "Epoch 20/50\n",
      "341/341 [==============================] - 1s 3ms/step - loss: -23762.9355 - accuracy: 0.0905 - val_loss: -25191.1836 - val_accuracy: 0.0914\n",
      "Epoch 21/50\n",
      "341/341 [==============================] - 1s 3ms/step - loss: -25945.9688 - accuracy: 0.0915 - val_loss: -27443.5234 - val_accuracy: 0.0914\n",
      "Epoch 22/50\n",
      "341/341 [==============================] - 1s 3ms/step - loss: -28213.2500 - accuracy: 0.0898 - val_loss: -29785.2949 - val_accuracy: 0.0925\n",
      "Epoch 23/50\n",
      "341/341 [==============================] - 1s 3ms/step - loss: -30557.3320 - accuracy: 0.0923 - val_loss: -32201.9355 - val_accuracy: 0.0918\n",
      "Epoch 24/50\n",
      "341/341 [==============================] - 1s 4ms/step - loss: -32988.2031 - accuracy: 0.0915 - val_loss: -34714.2070 - val_accuracy: 0.0933\n",
      "Epoch 25/50\n",
      "341/341 [==============================] - 2s 5ms/step - loss: -35505.2461 - accuracy: 0.0916 - val_loss: -37307.2656 - val_accuracy: 0.0925\n",
      "Epoch 26/50\n",
      "341/341 [==============================] - 1s 4ms/step - loss: -38106.2344 - accuracy: 0.0931 - val_loss: -39983.9922 - val_accuracy: 0.0933\n",
      "Epoch 27/50\n",
      "341/341 [==============================] - 1s 3ms/step - loss: -40792.1484 - accuracy: 0.0918 - val_loss: -42747.5000 - val_accuracy: 0.0940\n",
      "Epoch 28/50\n",
      "341/341 [==============================] - 1s 3ms/step - loss: -43551.6758 - accuracy: 0.0929 - val_loss: -45585.0156 - val_accuracy: 0.0951\n",
      "Epoch 29/50\n",
      "341/341 [==============================] - 1s 3ms/step - loss: -46393.0273 - accuracy: 0.0933 - val_loss: -48511.5820 - val_accuracy: 0.0970\n",
      "Epoch 30/50\n",
      "341/341 [==============================] - 1s 3ms/step - loss: -49320.5625 - accuracy: 0.0932 - val_loss: -51516.4609 - val_accuracy: 0.0966\n",
      "Epoch 31/50\n",
      "341/341 [==============================] - 1s 3ms/step - loss: -52327.9180 - accuracy: 0.0943 - val_loss: -54609.4297 - val_accuracy: 0.0973\n",
      "Epoch 32/50\n",
      "341/341 [==============================] - 1s 4ms/step - loss: -55411.8438 - accuracy: 0.0942 - val_loss: -57775.6133 - val_accuracy: 0.0984\n",
      "Epoch 33/50\n",
      "341/341 [==============================] - 1s 3ms/step - loss: -58585.4570 - accuracy: 0.0947 - val_loss: -61037.6719 - val_accuracy: 0.0966\n",
      "Epoch 34/50\n",
      "341/341 [==============================] - 1s 3ms/step - loss: -61835.9805 - accuracy: 0.0949 - val_loss: -64378.7539 - val_accuracy: 0.0981\n",
      "Epoch 35/50\n",
      "341/341 [==============================] - 2s 5ms/step - loss: -65166.9414 - accuracy: 0.0952 - val_loss: -67794.6250 - val_accuracy: 0.0984\n",
      "Epoch 36/50\n",
      "341/341 [==============================] - 2s 6ms/step - loss: -68578.6484 - accuracy: 0.0963 - val_loss: -71300.4766 - val_accuracy: 0.0981\n",
      "Epoch 37/50\n",
      "341/341 [==============================] - 1s 4ms/step - loss: -72074.5859 - accuracy: 0.0964 - val_loss: -74887.0234 - val_accuracy: 0.0984\n",
      "Epoch 38/50\n",
      "341/341 [==============================] - 1s 4ms/step - loss: -75645.6875 - accuracy: 0.0950 - val_loss: -78544.6641 - val_accuracy: 0.0999\n",
      "Epoch 39/50\n",
      "341/341 [==============================] - 1s 3ms/step - loss: -79299.4219 - accuracy: 0.0963 - val_loss: -82293.3672 - val_accuracy: 0.0977\n",
      "Epoch 40/50\n",
      "341/341 [==============================] - 1s 3ms/step - loss: -83033.3828 - accuracy: 0.0963 - val_loss: -86121.7266 - val_accuracy: 0.0995\n",
      "Epoch 41/50\n",
      "341/341 [==============================] - 1s 3ms/step - loss: -86844.6641 - accuracy: 0.0966 - val_loss: -90033.2422 - val_accuracy: 0.0988\n",
      "Epoch 42/50\n",
      "341/341 [==============================] - 1s 3ms/step - loss: -90738.0625 - accuracy: 0.0966 - val_loss: -94018.7422 - val_accuracy: 0.0999\n",
      "Epoch 43/50\n",
      "341/341 [==============================] - 1s 3ms/step - loss: -94715.8359 - accuracy: 0.0969 - val_loss: -98098.3281 - val_accuracy: 0.0995\n",
      "Epoch 44/50\n",
      "341/341 [==============================] - 1s 3ms/step - loss: -98769.5156 - accuracy: 0.0965 - val_loss: -102245.4766 - val_accuracy: 0.1014\n",
      "Epoch 45/50\n",
      "341/341 [==============================] - 1s 4ms/step - loss: -102900.6875 - accuracy: 0.0974 - val_loss: -106481.2031 - val_accuracy: 0.0995\n",
      "Epoch 46/50\n",
      "341/341 [==============================] - 2s 5ms/step - loss: -107124.8438 - accuracy: 0.0972 - val_loss: -110806.5625 - val_accuracy: 0.1006\n",
      "Epoch 47/50\n",
      "341/341 [==============================] - 1s 4ms/step - loss: -111425.4844 - accuracy: 0.0979 - val_loss: -115209.6250 - val_accuracy: 0.1003\n",
      "Epoch 48/50\n",
      "341/341 [==============================] - 1s 3ms/step - loss: -115804.8047 - accuracy: 0.0978 - val_loss: -119693.1875 - val_accuracy: 0.1021\n",
      "Epoch 49/50\n",
      "341/341 [==============================] - 1s 3ms/step - loss: -120264.5703 - accuracy: 0.0989 - val_loss: -124255.2812 - val_accuracy: 0.1003\n",
      "Epoch 50/50\n",
      "341/341 [==============================] - 2s 5ms/step - loss: -124806.5234 - accuracy: 0.0977 - val_loss: -128897.2109 - val_accuracy: 0.0999\n",
      "86/86 [==============================] - 0s 2ms/step - loss: -128897.2109 - accuracy: 0.0999\n",
      "Test Loss: -128897.2109375\n",
      "Test Accuracy: 0.0998898297548294\n"
     ]
    }
   ],
   "source": [
    "# Train the model\n",
    "history = model.fit(X_train, y_train, epochs=50, batch_size=32, validation_data=(X_test, y_test))\n",
    "\n",
    "# Evaluate the model on the test set\n",
    "loss, accuracy = model.evaluate(X_test, y_test)\n",
    "\n",
    "print(\"Test Loss:\", loss)\n",
    "print(\"Test Accuracy:\", accuracy)\n"
   ]
  }
 ],
 "metadata": {
  "colab": {
   "provenance": []
  },
  "kernelspec": {
   "display_name": "Python 3 (ipykernel)",
   "language": "python",
   "name": "python3"
  },
  "language_info": {
   "codemirror_mode": {
    "name": "ipython",
    "version": 3
   },
   "file_extension": ".py",
   "mimetype": "text/x-python",
   "name": "python",
   "nbconvert_exporter": "python",
   "pygments_lexer": "ipython3",
   "version": "3.9.13"
  }
 },
 "nbformat": 4,
 "nbformat_minor": 1
}
