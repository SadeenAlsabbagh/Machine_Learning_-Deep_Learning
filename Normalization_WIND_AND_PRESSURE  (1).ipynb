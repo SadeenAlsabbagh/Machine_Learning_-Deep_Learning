{
 "cells": [
  {
   "cell_type": "code",
   "execution_count": 54,
   "id": "9f731d60",
   "metadata": {},
   "outputs": [],
   "source": [
    "import os #go through files through terminal \n",
    "import numpy as np \n",
    "import pandas as pd\n",
    "from sklearn.cluster import KMeans\n",
    "import matplotlib.pyplot as plt \n"
   ]
  },
  {
   "cell_type": "code",
   "execution_count": 55,
   "id": "4514c0d5",
   "metadata": {},
   "outputs": [
    {
     "name": "stdout",
     "output_type": "stream",
     "text": [
      "Min : 11121\n",
      "Max : 12523\n",
      "Number of cluster:  14\n"
     ]
    }
   ],
   "source": [
    "pressure_df = pd.read_csv(\"/Users/alsabbaghs/Downloads/pressure_day279.csv\", header = None)\n",
    "\n",
    "min = pressure_df.min().min()\n",
    "max = pressure_df.max().max()\n",
    "print('Min :', min)\n",
    "print('Max :', max)\n",
    "\n",
    "cluster = round((max-min)/100)\n",
    "print('Number of cluster: ', cluster)\n"
   ]
  },
  {
   "cell_type": "code",
   "execution_count": 56,
   "id": "7f716e7c",
   "metadata": {},
   "outputs": [
    {
     "name": "stdout",
     "output_type": "stream",
     "text": [
      "[[12481 12480 12479 ... 12417 12419 12422]\n",
      " [12480 12480 12479 ... 12414 12415 12416]\n",
      " [12478 12478 12478 ... 12413 12412 12411]\n",
      " ...\n",
      " [11226 11233 11240 ... 11131 11132 11134]\n",
      " [11208 11215 11221 ... 11126 11126 11127]\n",
      " [11193 11199 11205 ... 11121 11122 11123]]\n"
     ]
    },
    {
     "data": {
      "text/plain": [
       "KMeans(n_clusters=14)"
      ]
     },
     "execution_count": 56,
     "metadata": {},
     "output_type": "execute_result"
    }
   ],
   "source": [
    "print(np.array(pressure_df))\n",
    "pressure = np.array(pressure_df).reshape(-1,1)\n",
    "kmeans = KMeans(n_clusters=cluster)\n",
    "kmeans.fit(pressure)\n"
   ]
  },
  {
   "cell_type": "code",
   "execution_count": 57,
   "id": "c4101c22",
   "metadata": {},
   "outputs": [
    {
     "name": "stdout",
     "output_type": "stream",
     "text": [
      "labels: [7 7 7 ... 5 5 5]\n"
     ]
    },
    {
     "data": {
      "image/png": "[encoded data removed]",
      "text/plain": [
       "<Figure size 640x480 with 1 Axes>"
      ]
     },
     "metadata": {},
     "output_type": "display_data"
    }
   ],
   "source": [
    "labels = kmeans.labels_\n",
    "centroids = kmeans.cluster_centers_\n",
    "print(\"labels:\", labels)\n",
    "#print('Centroids: ', centroids)\n",
    "    \n",
    "colors = centroids.round(0).astype(int)\n",
    "#print(\"colors:\", colors)\n",
    "    \n",
    "pressure_img = colors[labels].reshape(pressure_df.shape)\n",
    "pressure_img = np.flip(pressure_img, 0)\n",
    "plt.imshow(pressure_img, cmap='gray')\n",
    "plt.show()\n"
   ]
  },
  {
   "cell_type": "code",
   "execution_count": 58,
   "id": "2b546222",
   "metadata": {},
   "outputs": [
    {
     "name": "stdout",
     "output_type": "stream",
     "text": [
      "    12481  12480  12479  12480.1  12484  12488  12482  12477  12478  12477.1  \\\n",
      "0   12480  12480  12479    12478  12480  12482  12486  12480  12478    12477   \n",
      "1   12478  12478  12478    12477  12479  12482  12482  12483  12480    12482   \n",
      "2   12476  12475  12475    12475  12476  12481  12482  12485  12483    12486   \n",
      "3   12472  12471  12469    12470  12472  12478  12482  12484  12482    12484   \n",
      "4   12471  12468  12463    12463  12467  12472  12478  12485  12481    12480   \n",
      "..    ...    ...    ...      ...    ...    ...    ...    ...    ...      ...   \n",
      "68  11268  11275  11282    11288  11294  11299  11304  11308  11311    11315   \n",
      "69  11246  11253  11260    11266  11272  11277  11283  11287  11291    11295   \n",
      "70  11226  11233  11240    11246  11251  11257  11262  11267  11272    11276   \n",
      "71  11208  11215  11221    11227  11233  11238  11244  11249  11254    11258   \n",
      "72  11193  11199  11205    11211  11216  11222  11227  11232  11236    11241   \n",
      "\n",
      "    ...  12418.3  12416  12419.2  12417  12416.1  12423.1  12416.2  12417.1  \\\n",
      "0   ...    12420  12418    12417  12417    12412    12418    12417    12414   \n",
      "1   ...    12418  12417    12415  12415    12413    12412    12415    12413   \n",
      "2   ...    12414  12413    12413  12412    12411    12408    12407    12407   \n",
      "3   ...    12411  12409    12408  12407    12406    12404    12402    12400   \n",
      "4   ...    12408  12406    12404  12402    12399    12397    12395    12392   \n",
      "..  ...      ...    ...      ...    ...      ...      ...      ...      ...   \n",
      "68  ...    11147  11146    11145  11144    11143    11143    11144    11145   \n",
      "69  ...    11141  11139    11137  11137    11137    11137    11137    11138   \n",
      "70  ...    11133  11132    11131  11131    11130    11130    11131    11131   \n",
      "71  ...    11128  11127    11126  11125    11125    11125    11125    11126   \n",
      "72  ...    11124  11122    11122  11121    11121    11121    11121    11121   \n",
      "\n",
      "    12419.3  12422.2  \n",
      "0     12415    12416  \n",
      "1     12412    12411  \n",
      "2     12407    12405  \n",
      "3     12399    12398  \n",
      "4     12391    12390  \n",
      "..      ...      ...  \n",
      "68    11146    11148  \n",
      "69    11139    11140  \n",
      "70    11132    11134  \n",
      "71    11126    11127  \n",
      "72    11122    11123  \n",
      "\n",
      "[73 rows x 113 columns]\n",
      "[[0.96766917 0.9711903  0.97475134 ... 1.         1.         1.        ]\n",
      " [0.96616541 0.969674   0.97398623 ... 0.9992266  0.99767981 0.99613302]\n",
      " [0.96466165 0.96739955 0.9716909  ... 0.99458623 0.99381284 0.99149265]\n",
      " ...\n",
      " [0.02481203 0.0257771  0.02677888 ... 0.00773395 0.00773395 0.00850735]\n",
      " [0.0112782  0.0121304  0.01224178 ... 0.00386698 0.00309358 0.00309358]\n",
      " [0.         0.         0.         ... 0.         0.         0.        ]]\n",
      "Min : 11121\n",
      "Max : 12523\n",
      "Number of cluster:  14\n"
     ]
    }
   ],
   "source": [
    "# example of a normalization\n",
    "from numpy import asarray\n",
    "from sklearn.preprocessing import MinMaxScaler\n",
    "# define data\n",
    "data = pd.read_csv('/Users/alsabbaghs/Downloads/pressure_day279.csv')\n",
    "print(data)\n",
    "# define min max scaler\n",
    "scaler = MinMaxScaler()\n",
    "# transform data\n",
    "scaled = scaler.fit_transform(data)\n",
    "print(scaled)\n",
    "\n",
    "min = data.min().min()\n",
    "max = data.max().max()\n",
    "print('Min :', min)\n",
    "print('Max :', max)\n",
    "\n",
    "cluster = round((max-min)/100)\n",
    "print('Number of cluster: ', cluster)"
   ]
  },
  {
   "cell_type": "code",
   "execution_count": 59,
   "id": "05dc56e8",
   "metadata": {},
   "outputs": [
    {
     "name": "stdout",
     "output_type": "stream",
     "text": [
      "[[12480 12480 12479 ... 12414 12415 12416]\n",
      " [12478 12478 12478 ... 12413 12412 12411]\n",
      " [12476 12475 12475 ... 12407 12407 12405]\n",
      " ...\n",
      " [11226 11233 11240 ... 11131 11132 11134]\n",
      " [11208 11215 11221 ... 11126 11126 11127]\n",
      " [11193 11199 11205 ... 11121 11122 11123]]\n"
     ]
    },
    {
     "data": {
      "text/plain": [
       "KMeans(n_clusters=14)"
      ]
     },
     "execution_count": 59,
     "metadata": {},
     "output_type": "execute_result"
    }
   ],
   "source": [
    "print(np.array(data))\n",
    "pressure = np.array(data).reshape(-1,1)\n",
    "kmeans = KMeans(n_clusters=cluster)\n",
    "kmeans.fit(pressure)\n"
   ]
  },
  {
   "cell_type": "code",
   "execution_count": 60,
   "id": "da3a7211",
   "metadata": {
    "scrolled": true
   },
   "outputs": [
    {
     "name": "stdout",
     "output_type": "stream",
     "text": [
      "labels: [7 7 7 ... 8 8 8]\n"
     ]
    },
    {
     "data": {
      "image/png": "[encoded data removed]",
      "text/plain": [
       "<Figure size 640x480 with 1 Axes>"
      ]
     },
     "metadata": {},
     "output_type": "display_data"
    }
   ],
   "source": [
    "labels = kmeans.labels_\n",
    "centroids = kmeans.cluster_centers_\n",
    "print(\"labels:\", labels)\n",
    "#print('Centroids: ', centroids)\n",
    "    \n",
    "colors = centroids.round(0).astype(int)\n",
    "#print(\"colors:\", colors)\n",
    "    \n",
    "pressure_img = colors[labels].reshape(data.shape)\n",
    "pressure_img = np.flip(pressure_img, 0)\n",
    "plt.imshow(pressure_img, cmap='gray')\n",
    "plt.show()\n"
   ]
  },
  {
   "cell_type": "code",
   "execution_count": 61,
   "id": "4a6b0420",
   "metadata": {},
   "outputs": [
    {
     "name": "stdout",
     "output_type": "stream",
     "text": [
      "    12481  12480  12479  12480.1  12484  12488  12482  12477  12478  12477.1  \\\n",
      "0   12480  12480  12479    12478  12480  12482  12486  12480  12478    12477   \n",
      "1   12478  12478  12478    12477  12479  12482  12482  12483  12480    12482   \n",
      "2   12476  12475  12475    12475  12476  12481  12482  12485  12483    12486   \n",
      "3   12472  12471  12469    12470  12472  12478  12482  12484  12482    12484   \n",
      "4   12471  12468  12463    12463  12467  12472  12478  12485  12481    12480   \n",
      "..    ...    ...    ...      ...    ...    ...    ...    ...    ...      ...   \n",
      "68  11268  11275  11282    11288  11294  11299  11304  11308  11311    11315   \n",
      "69  11246  11253  11260    11266  11272  11277  11283  11287  11291    11295   \n",
      "70  11226  11233  11240    11246  11251  11257  11262  11267  11272    11276   \n",
      "71  11208  11215  11221    11227  11233  11238  11244  11249  11254    11258   \n",
      "72  11193  11199  11205    11211  11216  11222  11227  11232  11236    11241   \n",
      "\n",
      "    ...  12418.3  12416  12419.2  12417  12416.1  12423.1  12416.2  12417.1  \\\n",
      "0   ...    12420  12418    12417  12417    12412    12418    12417    12414   \n",
      "1   ...    12418  12417    12415  12415    12413    12412    12415    12413   \n",
      "2   ...    12414  12413    12413  12412    12411    12408    12407    12407   \n",
      "3   ...    12411  12409    12408  12407    12406    12404    12402    12400   \n",
      "4   ...    12408  12406    12404  12402    12399    12397    12395    12392   \n",
      "..  ...      ...    ...      ...    ...      ...      ...      ...      ...   \n",
      "68  ...    11147  11146    11145  11144    11143    11143    11144    11145   \n",
      "69  ...    11141  11139    11137  11137    11137    11137    11137    11138   \n",
      "70  ...    11133  11132    11131  11131    11130    11130    11131    11131   \n",
      "71  ...    11128  11127    11126  11125    11125    11125    11125    11126   \n",
      "72  ...    11124  11122    11122  11121    11121    11121    11121    11121   \n",
      "\n",
      "    12419.3  12422.2  \n",
      "0     12415    12416  \n",
      "1     12412    12411  \n",
      "2     12407    12405  \n",
      "3     12399    12398  \n",
      "4     12391    12390  \n",
      "..      ...      ...  \n",
      "68    11146    11148  \n",
      "69    11139    11140  \n",
      "70    11132    11134  \n",
      "71    11126    11127  \n",
      "72    11122    11123  \n",
      "\n",
      "[73 rows x 113 columns]\n",
      "[[ 0.84704918  0.84494364  0.84259176 ...  1.14808143  1.13988499\n",
      "   1.12846476]\n",
      " [ 0.84277766  0.84062757  0.8404105  ...  1.14598775  1.13360408\n",
      "   1.11800858]\n",
      " [ 0.83850614  0.83415348  0.83386674 ...  1.13342568  1.12313589\n",
      "   1.10546117]\n",
      " ...\n",
      " [-1.83119676 -1.84612292 -1.85998268 ... -1.5381079  -1.54625133\n",
      "  -1.55249845]\n",
      " [-1.86964048 -1.8849675  -1.90142652 ... -1.54857629 -1.55881315\n",
      "  -1.5671371 ]\n",
      " [-1.90167691 -1.91949602 -1.93632659 ... -1.55904468 -1.5671877\n",
      "  -1.57550204]]\n",
      "Min : 11121\n",
      "Max : 12523\n",
      "Number of cluster:  14\n"
     ]
    }
   ],
   "source": [
    "from numpy import asarray\n",
    "from sklearn.preprocessing import StandardScaler\n",
    "# define data\n",
    "data_1 = pd.read_csv('/Users/alsabbaghs/Downloads/pressure_day279.csv')\n",
    "print(data_1)\n",
    "# define standard scaler\n",
    "scaler = StandardScaler()\n",
    "# transform data\n",
    "scaled = scaler.fit_transform(data_1)\n",
    "print(scaled)\n",
    "\n",
    "\n",
    "min = data_1.min().min()\n",
    "max = data_1.max().max()\n",
    "print('Min :', min)\n",
    "print('Max :', max)\n",
    "\n",
    "cluster = round((max-min)/100)\n",
    "print('Number of cluster: ', cluster)"
   ]
  },
  {
   "cell_type": "code",
   "execution_count": 62,
   "id": "078043f6",
   "metadata": {},
   "outputs": [
    {
     "name": "stdout",
     "output_type": "stream",
     "text": [
      "[[12480 12480 12479 ... 12414 12415 12416]\n",
      " [12478 12478 12478 ... 12413 12412 12411]\n",
      " [12476 12475 12475 ... 12407 12407 12405]\n",
      " ...\n",
      " [11226 11233 11240 ... 11131 11132 11134]\n",
      " [11208 11215 11221 ... 11126 11126 11127]\n",
      " [11193 11199 11205 ... 11121 11122 11123]]\n"
     ]
    },
    {
     "data": {
      "text/plain": [
       "KMeans(n_clusters=14)"
      ]
     },
     "execution_count": 62,
     "metadata": {},
     "output_type": "execute_result"
    }
   ],
   "source": [
    "print(np.array(data))\n",
    "pressure = np.array(data).reshape(-1,1)\n",
    "kmeans = KMeans(n_clusters=cluster)\n",
    "kmeans.fit(pressure)\n"
   ]
  },
  {
   "cell_type": "code",
   "execution_count": 63,
   "id": "f80276e4",
   "metadata": {},
   "outputs": [
    {
     "name": "stdout",
     "output_type": "stream",
     "text": [
      "labels: [0 0 0 ... 9 9 9]\n"
     ]
    },
    {
     "data": {
      "image/png": "[encoded data removed]",
      "text/plain": [
       "<Figure size 640x480 with 1 Axes>"
      ]
     },
     "metadata": {},
     "output_type": "display_data"
    }
   ],
   "source": [
    "labels = kmeans.labels_\n",
    "centroids = kmeans.cluster_centers_\n",
    "print(\"labels:\", labels)\n",
    "#print('Centroids: ', centroids)\n",
    "    \n",
    "colors = centroids.round(0).astype(int)\n",
    "#print(\"colors:\", colors)\n",
    "    \n",
    "pressure_img = colors[labels].reshape(data.shape)\n",
    "pressure_img = np.flip(pressure_img, 0)\n",
    "plt.imshow(pressure_img, cmap='gray')\n",
    "plt.show()\n"
   ]
  },
  {
   "cell_type": "code",
   "execution_count": 64,
   "id": "43fe79a0",
   "metadata": {},
   "outputs": [],
   "source": [
    "#import cv2\n",
    "#import numpy as np\n",
    "\n",
    "#first_image = cv2.imread(path, cv2.IMREAD_GRAYSCALE)\n",
    "#second_image = cv2.imread(path, cv2.IMREAD_GRAYSCALE)\n",
    "## other transformations that you want\n",
    "\n",
    "## concatenating images horizontally\n",
    "#horizontal_concat = np.concatenate((first_image, second_image), axis=1)\n",
    "#cv2.imshow(horizontal_concat)\n",
    "\n",
    "#cv2.waitKey()\n",
    "#cv2.destroyAllWindows()"
   ]
  },
  {
   "cell_type": "code",
   "execution_count": 66,
   "id": "79701c69",
   "metadata": {},
   "outputs": [
    {
     "data": {
      "image/png": "[encoded data removed]",
      "text/plain": [
       "<Figure size 5000x2000 with 3 Axes>"
      ]
     },
     "metadata": {},
     "output_type": "display_data"
    }
   ],
   "source": [
    "original_img = colors[labels].reshape(data.shape)\n",
    "original_img = np.flip(original_img, 0)\n",
    "\n",
    "fig, axes = plt.subplots(1,3, figsize = (50, 20))\n",
    "\n",
    "axes[0].imshow(pressure_img, cmap='gray')\n",
    "axes[1].imshow(pressure_img, cmap = \"gray\")\n",
    "axes[2].imshow(pressure_img, cmap = \"gray\")\n",
    "plt.show()"
   ]
  },
  {
   "cell_type": "code",
   "execution_count": null,
   "id": "7f582bc6",
   "metadata": {},
   "outputs": [],
   "source": [
    "pressure and wind minmaxscalar \n",
    "pressure and wind standardscaler \n",
    "\n",
    "#we normalize each one of them then stack them (normlize each of the pressure and wind datasets)"
   ]
  }
 ],
 "metadata": {
  "kernelspec": {
   "display_name": "Python 3 (ipykernel)",
   "language": "python",
   "name": "python3"
  },
  "language_info": {
   "codemirror_mode": {
    "name": "ipython",
    "version": 3
   },
   "file_extension": ".py",
   "mimetype": "text/x-python",
   "name": "python",
   "nbconvert_exporter": "python",
   "pygments_lexer": "ipython3",
   "version": "3.9.13"
  }
 },
 "nbformat": 4,
 "nbformat_minor": 5
}
